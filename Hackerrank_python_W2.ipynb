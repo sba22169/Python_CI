{
 "cells": [
  {
   "cell_type": "markdown",
   "id": "1a011244",
   "metadata": {},
   "source": [
    "# Q1"
   ]
  },
  {
   "cell_type": "markdown",
   "id": "c080438a",
   "metadata": {},
   "source": [
    "There is a large pile of socks that must be paired by color. Given an array of integers representing the color of each sock, determine how many pairs of socks with matching colors there are.\n",
    "Example\n",
    "n=7\n",
    "ar = [1,2,1,2,1,3,2]\n",
    "\n",
    "Answer the number of pairs is 2\n",
    "\n",
    "\n",
    "\n",
    "There is one pair of color  and one of color . There are three odd socks left, one of each color. The number of pairs is .\n",
    "Function Description\n",
    "Complete the sockMerchant function in the editor below.\n",
    "sockMerchant has the following parameter(s):\n",
    "int n: the number of socks in the pile\n",
    "int ar[n]: the colors of each sock\n",
    "Returns\n",
    "int: the number of pairs"
   ]
  },
  {
   "cell_type": "code",
   "execution_count": 28,
   "id": "a638d78f",
   "metadata": {},
   "outputs": [],
   "source": [
    "#!/bin/python3\n",
    "\n",
    "import math\n",
    "import os\n",
    "import random\n",
    "import re\n",
    "import sys\n",
    "\n",
    "#\n",
    "# Complete the 'sockMerchant' function below.\n",
    "#\n",
    "# The function is expected to return an INTEGER.\n",
    "# The function accepts following parameters:\n",
    "#  1. INTEGER n\n",
    "#  2. INTEGER_ARRAY ar\n",
    "#\n",
    "\n",
    "def sockMerchant(n, ar):\n",
    "    # Write your code here\n",
    "    ar.sort()\n",
    "    print(ar)\n",
    "    pair_count = 0\n",
    "    i=0\n",
    "    while i < (n-1):\n",
    "        if ar[i] == ar[i+1]:\n",
    "            pair_count +=1\n",
    "            i +=2\n",
    "        else:\n",
    "            i +=1\n",
    "    return pair_count\n",
    "            \n",
    "            \n",
    "    \n",
    "\n",
    "\n"
   ]
  },
  {
   "cell_type": "code",
   "execution_count": 29,
   "id": "485d257b",
   "metadata": {},
   "outputs": [
    {
     "name": "stdout",
     "output_type": "stream",
     "text": [
      "[1, 1, 1, 2, 2, 2, 3]\n",
      "2\n"
     ]
    }
   ],
   "source": [
    "ar = [1,2,1,2,1,3,2]\n",
    "n = 7\n",
    "result = sockMerchant(n, ar)\n",
    "print (result)"
   ]
  },
  {
   "cell_type": "markdown",
   "id": "f9b25c3e",
   "metadata": {},
   "source": [
    "# Q2"
   ]
  },
  {
   "cell_type": "markdown",
   "id": "936d1b75",
   "metadata": {},
   "source": [
    "In this challenge, the task is to debug the existing code to successfully execute all provided test files.\n",
    "Given an array of n distinct integers, transform the array into a zig zag sequence by permuting the array elements. A sequence will be called a zig zag sequence if the first k elements in the sequence are in increasing order and the last k elements are in decreasing order, wherek = (n+1)/2 . You need to find the lexicographically smallest zig zag sequence of the given array.\n",
    "\n",
    "Example.\n",
    "\n",
    "Now if we permute the array as , the result is a zig zag sequence.\n",
    "Debug the given function findZigZagSequence to return the appropriate zig zag sequence for the given input array."
   ]
  },
  {
   "cell_type": "code",
   "execution_count": 32,
   "id": "d4805a3f",
   "metadata": {},
   "outputs": [],
   "source": [
    "# debugging this code\n",
    "def findZigZagSequence(a, n):\n",
    "    a.sort()\n",
    "    mid = int((n)// 2) # finding the mid way point with no remainder\n",
    "    print(f\"mid: {mid}\")\n",
    "    a[mid], a[n-1] = a[n-1], a[mid] # swapps the mid way element with las element in the list\n",
    "    print(f\"should be 1st zigzagged element: {a}\")\n",
    "    st = mid + 1 # increment 1 from mid point\n",
    "    ed = n - 2 # decrement 1 from end\n",
    "    while(st < ed):\n",
    "        a[st], a[ed] = a[ed], a[st] # swap the elements at this position\n",
    "        st = st + 1 # increment pos cound\n",
    "        ed = ed - 1 # decrement pos count\n",
    "    print(f\"should be zigzagged: {a}\")\n",
    "    for i in range (n):\n",
    "        if i == n-1:\n",
    "            print(a[i])\n",
    "        else:\n",
    "            print(a[i], end = ' ')\n",
    "    return\n"
   ]
  },
  {
   "cell_type": "code",
   "execution_count": 34,
   "id": "ef731a82",
   "metadata": {},
   "outputs": [
    {
     "name": "stdout",
     "output_type": "stream",
     "text": [
      "mid: 3\n",
      "should be 1st zigzagged element: [1, 2, 3, 7, 5, 6, 4]\n",
      "should be zigzagged: [1, 2, 3, 7, 6, 5, 4]\n",
      "1 2 3 7 6 5 4\n"
     ]
    }
   ],
   "source": [
    "a = [1,2,3,4,5,6,7]\n",
    "n = 7\n",
    "findZigZagSequence(a, n)"
   ]
  },
  {
   "cell_type": "markdown",
   "id": "0f88f01e",
   "metadata": {},
   "source": [
    "# Q3 Drawing book"
   ]
  },
  {
   "cell_type": "markdown",
   "id": "d185e5b2",
   "metadata": {},
   "source": [
    "A teacher asks the class to open their books to a page number. A student can either start turning pages from the front of the book or from the back of the book. They always turn pages one at a time. When they open the book, page 1 is always on the right side:\n",
    "\n",
    "When they flip page 1 , they see pages 2 and 3. Each page except the last page will always be printed on both sides. The last page may only be printed on the front, given the length of the book. If the book is n   pages long, and a student wants to turn to page p , what is the minimum number of pages to turn? They can start at the beginning or the end of the book.\n",
    "\n",
    "Given n and p, find and print the minimum number of pages that must be turned in order to arrive at page p .\n",
    "Example n=5,p=3\n",
    "\n",
    "Using the diagram above, if the student wants to get to page , they open the book to page , flip page and they are on the correct page. If they open the book to the last page, page , they turn page and are at the correct page. Return .\n",
    "Function Description\n",
    "Complete the pageCount function in the editor below.\n",
    "pageCount has the following parameter(s):\n",
    "int n: the number of pages in the book\n",
    "int p: the page number to turn to\n",
    "Returns\n",
    "int: the minimum number of pages to turn\n",
    "Input Format\n",
    "The first line contains an integer , the number of pages in the book.\n",
    "The second line contains an integer, , the page to turn to.\n"
   ]
  },
  {
   "cell_type": "code",
   "execution_count": 38,
   "id": "77da965c",
   "metadata": {},
   "outputs": [],
   "source": [
    "#!/bin/python3\n",
    "\n",
    "import math\n",
    "import os\n",
    "import random\n",
    "import re\n",
    "import sys\n",
    "\n",
    "#\n",
    "# Complete the 'pageCount' function below.\n",
    "#\n",
    "# The function is expected to return an INTEGER.\n",
    "# The function accepts following parameters:\n",
    "#  1. INTEGER n\n",
    "#  2. INTEGER p\n",
    "#\n",
    "\n",
    "def pageCount(n, p):\n",
    "    # Write your code here\n",
    "    end = (n)\n",
    "    print(f\"end = {end}\")\n",
    "    forward_turn = p // 2\n",
    "    print(f\" forward_turn = {forward_turn}\")\n",
    "    back_gap = (n-p)\n",
    "    # testing for an edge case where n is even and p = n-1 ie  n = 6 & p = 5, \n",
    "    if (back_gap == 1) and (n%2 == 0):\n",
    "        back_turn = 1\n",
    "    else:\n",
    "        back_turn = (n - p) // 2\n",
    "    print(f\" back_turn = {back_turn}\")\n",
    "    if forward_turn < back_turn:\n",
    "        min_page = forward_turn\n",
    "    else:\n",
    "        min_page = back_turn\n",
    "    return min_page\n",
    "    \n",
    "        \n",
    "\n",
    "\n"
   ]
  },
  {
   "cell_type": "code",
   "execution_count": 39,
   "id": "cc92c3b6",
   "metadata": {},
   "outputs": [
    {
     "name": "stdout",
     "output_type": "stream",
     "text": [
      "end = 5\n",
      " forward_turn = 2\n",
      " back_turn = 0\n",
      " min pages to turn = 0\n"
     ]
    }
   ],
   "source": [
    "if __name__ == '__main__':\n",
    "    #fptr = open(os.environ['OUTPUT_PATH'], 'w')\n",
    "\n",
    "    #n = int(input().strip())\n",
    "    n,p = 5,4\n",
    "\n",
    "    #p = int(input().strip())\n",
    "\n",
    "    result = pageCount(n, p)\n",
    "    print(f\" min pages to turn = {result}\")\n",
    "\n",
    "    #fptr.write(str(result) + '\\n')\n",
    "\n",
    "    #fptr.close()"
   ]
  },
  {
   "cell_type": "code",
   "execution_count": 25,
   "id": "e8977149",
   "metadata": {},
   "outputs": [],
   "source": [
    "#!/bin/python3\n",
    "\n",
    "import math\n",
    "import os\n",
    "import random\n",
    "import re\n",
    "import sys\n",
    "\n",
    "#\n",
    "# Complete the 'pageCount' function below.\n",
    "#\n",
    "# The function is expected to return an INTEGER.\n",
    "# The function accepts following parameters:\n",
    "#  1. INTEGER n\n",
    "#  2. INTEGER p\n",
    "#\n",
    "\n",
    "def pageCount(n, p):\n",
    "    # Write your code here\n",
    "\n",
    "    forward_turn = p // 2\n",
    "\n",
    "    back_turn = (n - p) // 2\n",
    "\n",
    "    if forward_turn < back_turn:\n",
    "        min_page = back_turn\n",
    "    else:\n",
    "        min_page = forward_turn\n",
    "    return min_page\n",
    "    \n",
    "        \n",
    "\n",
    "\n"
   ]
  },
  {
   "cell_type": "markdown",
   "id": "0015efef",
   "metadata": {},
   "source": [
    "# Q4"
   ]
  },
  {
   "cell_type": "markdown",
   "id": "3ed5378f",
   "metadata": {},
   "source": [
    "Two players are playing a game of Tower Breakers! Player 1 always moves first, and both players always play optimally.The rules of the game are as follows:\n",
    "Initially there are n towers.\n",
    "Each tower is of height m .\n",
    "The players move in alternating turns.\n",
    "In each turn, a player can choose a tower of height x  and reduce its height to y , where 1 <= y < x and y evenly divides x.\n",
    "If the current player is unable to make a move, they lose the game.\n",
    "Given the values of n and m, determine which player will win. If the first player wins, return 1 . Otherwise, return 2 ."
   ]
  },
  {
   "cell_type": "code",
   "execution_count": null,
   "id": "dd408786",
   "metadata": {},
   "outputs": [],
   "source": [
    "#!/bin/python3\n",
    "\n",
    "import math\n",
    "import os\n",
    "import random\n",
    "import re\n",
    "import sys\n",
    "\n",
    "#\n",
    "# Complete the 'towerBreakers' function below.\n",
    "#\n",
    "# The function is expected to return an INTEGER.\n",
    "# The function accepts following parameters:\n",
    "#  1. INTEGER n\n",
    "#  2. INTEGER m\n",
    "#\n",
    "\n",
    "def towerBreakers(n, m):\n",
    "    # Write your code here\n",
    "    if n%2 == 1 and m%2 == 1 and m>1:\n",
    "        return 1\n",
    "    elif n%2 == 1 and m%2 == 0:\n",
    "        return 1\n",
    "    else:\n",
    "        return 2\n",
    "\n",
    "\n"
   ]
  },
  {
   "cell_type": "code",
   "execution_count": null,
   "id": "3d484e6b",
   "metadata": {},
   "outputs": [],
   "source": [
    "if __name__ == '__main__':\n",
    "    n = \n",
    "    m = \n",
    "    result = towerBreakers(n, m)\n",
    "    #fptr = open(os.environ['OUTPUT_PATH'], 'w')\n",
    "\n",
    "    #t = int(input().strip())\n",
    "\n",
    "    #for t_itr in range(t):\n",
    "        #first_multiple_input = input().rstrip().split()\n",
    "\n",
    "        #n = int(first_multiple_input[0])\n",
    "\n",
    "        #m = int(first_multiple_input[1])\n",
    "\n",
    "        #result = towerBreakers(n, m)\n",
    "\n",
    "        #fptr.write(str(result) + '\\n')\n",
    "\n",
    "    #fptr.close()"
   ]
  },
  {
   "cell_type": "markdown",
   "id": "c5c63c64",
   "metadata": {},
   "source": [
    "# Q5"
   ]
  },
  {
   "cell_type": "code",
   "execution_count": null,
   "id": "2237d76c",
   "metadata": {},
   "outputs": [],
   "source": []
  },
  {
   "cell_type": "code",
   "execution_count": 2,
   "id": "0cf07b02",
   "metadata": {},
   "outputs": [],
   "source": [
    "#!/bin/python3\n",
    "\n",
    "import math\n",
    "import os\n",
    "import random\n",
    "import re\n",
    "import sys\n",
    "\n",
    "#\n",
    "# Complete the 'caesarCipher' function below.\n",
    "#\n",
    "# The function is expected to return a STRING.\n",
    "# The function accepts following parameters:\n",
    "#  1. STRING s\n",
    "#  2. INTEGER k\n",
    "#\n",
    "\n",
    "def caesarCipher(s, k):\n",
    "    # Write your code here\n",
    "    alpha = range(a-z)\n",
    "    print(alpha)\n",
    "\n",
    "\n"
   ]
  },
  {
   "cell_type": "code",
   "execution_count": 70,
   "id": "750b4261",
   "metadata": {},
   "outputs": [],
   "source": [
    "#if __name__ == '__main__':\n",
    "    #fptr = open(os.environ['OUTPUT_PATH'], 'w')\n",
    "\n",
    "    #n = int(input().strip())\n",
    "\n",
    "    #s = input()\n",
    "\n",
    "    #k = int(input().strip())\n",
    "    \n",
    "k = 100\n",
    "s = \"Middle-oUt\"\n",
    "\n",
    "    #result = caesarCipher(s, k)\n",
    "\n",
    "    #fptr.write(result + '\\n')\n",
    "\n",
    "    #fptr.close()\n"
   ]
  },
  {
   "cell_type": "code",
   "execution_count": 71,
   "id": "6414114f",
   "metadata": {},
   "outputs": [
    {
     "name": "stdout",
     "output_type": "stream",
     "text": [
      "['d', 'e', 'f', 'g', 'h', 'i', 'j', 'k', 'l', 'm', 'n', 'o', 'p', 'q', 'r', 's', 't', 'u', 'v', 'w', 'x', 'y', 'z', 'a', 'b', 'c']\n",
      "Iezzha-kQp\n"
     ]
    }
   ],
   "source": [
    "# Defining lower case letters\n",
    "lowercase_letters = [chr(i) for i in range(97, 123)]\n",
    "# defining upper case letters\n",
    "uppercase_letters = [chr(i) for i in range(65, 91)]\n",
    "# if rotation is greater than 25 (lenght of alphabet) i correct\n",
    "# by finding the remainder else i use the given rotation figure\n",
    "if k > 25:\n",
    "    k = k%26\n",
    "# generating the upper and lower letters by the rotation given\n",
    "rot_letters_lower = lowercase_letters[k:26] + lowercase_letters[0:k]\n",
    "rot_letters_upper = uppercase_letters[k:26] + uppercase_letters[0:k]\n",
    "cipher = []\n",
    "print(rot_letters)\n",
    "# working through the given string\n",
    "for i in s:\n",
    "    # appending to list if letter is lower\n",
    "    if i in lowercase_letters:\n",
    "        rot_let = lowercase_letters.index(i)\n",
    "        new_let = rot_letters_lower[rot_let] \n",
    "        cipher.append(new_let)\n",
    "    # appending to list if letter is upper\n",
    "    elif i in uppercase_letters:\n",
    "        rot_let = uppercase_letters.index(i)\n",
    "        new_let = rot_letters_upper[rot_let] \n",
    "        cipher.append(new_let)\n",
    "    else:\n",
    "        # appending i through if not a letter\n",
    "        cipher.append(i)\n",
    "print(''.join(cipher))\n",
    "        \n",
    "    \n",
    "    "
   ]
  },
  {
   "cell_type": "code",
   "execution_count": null,
   "id": "a2d444b6",
   "metadata": {},
   "outputs": [],
   "source": [
    "# Alternate way to implement this code.\n",
    "def caesarCipher(s, k):\n",
    "    # Adjust rotation if greater than the length of the alphabet\n",
    "    k = k % 26\n",
    "    cipher = []\n",
    "    \n",
    "    for i in s:\n",
    "        # Check and transform lowercase letters\n",
    "        if 'a' <= i <= 'z':\n",
    "            cipher.append(chr((ord(i) - 97 + k) % 26 + 97))\n",
    "        # Check and transform uppercase letters\n",
    "        elif 'A' <= i <= 'Z':\n",
    "            cipher.append(chr((ord(i) - 65 + k) % 26 + 65))\n",
    "        # Keep non-alphabetic characters unchanged\n",
    "        else:\n",
    "            cipher.append(i)\n",
    "    \n",
    "    return ''.join(cipher)\n"
   ]
  },
  {
   "cell_type": "markdown",
   "id": "225173bd",
   "metadata": {},
   "source": [
    "\n",
    "### Key Changes and Improvements\n",
    "\n",
    "1. **Unified Rotation Calculation**: This version directly calculates the rotated position using the `ord()` function (which converts a character into its ASCII value) and the modulus operator `%`. This method eliminates the need to explicitly create and rotate lists of alphabet characters.\n",
    "   \n",
    "2. **Character Range Checks**: Instead of checking if a character is in a list of alphabet characters, it checks if the character's ASCII value falls within the ranges for lowercase (`a`-`z`) or uppercase (`A`-`Z`) letters. This approach is more efficient since it doesn't require scanning a list to determine if a character is uppercase or lowercase.\n",
    "\n",
    "3. **Direct Calculation of Rotated Character**: For both lowercase and uppercase letters, the new character is calculated by finding the offset from the start of the alphabet (`97` for lowercase, `65` for uppercase), adding the rotation `k`, taking the modulus with `26` (to wrap around the alphabet), and then converting back to a character with `chr()`.\n",
    "\n",
    "4. **Modulus Operation Simplification**: The rotation adjustment (`k = k % 26`) ensures that the rotation is always within the bounds of the alphabet, handling cases where `k` is greater than `26`.\n",
    "\n",
    "This streamlined approach is not only shorter but also potentially faster for large inputs, as it avoids the overhead of list operations and index searches."
   ]
  },
  {
   "cell_type": "markdown",
   "id": "b312d92f",
   "metadata": {},
   "source": [
    "# Q6 MaxMin"
   ]
  },
  {
   "cell_type": "code",
   "execution_count": null,
   "id": "f08334d7",
   "metadata": {},
   "outputs": [],
   "source": []
  },
  {
   "cell_type": "code",
   "execution_count": 149,
   "id": "e63a2e19",
   "metadata": {},
   "outputs": [],
   "source": [
    "#!/bin/python3\n",
    "\n",
    "import math\n",
    "import os\n",
    "import random\n",
    "import re\n",
    "import sys\n",
    "\n",
    "#\n",
    "# Complete the 'maxMin' function below.\n",
    "#\n",
    "# The function is expected to return an INTEGER.\n",
    "# The function accepts following parameters:\n",
    "#  1. INTEGER k\n",
    "#  2. INTEGER_ARRAY arr\n",
    "#\n",
    "\n",
    "def maxMin(k, arr):\n",
    "    # Write your code here\n",
    "    arr.sort()\n",
    "\n",
    "    min_val = max(arr)\n",
    "    size = len(arr)\n",
    "    for i in range(size):\n",
    "        if k <= (size):\n",
    "            arr_test = arr[(i-1):k]\n",
    "\n",
    "            if not arr_test:\n",
    "                print(\"\")\n",
    "            \n",
    "            else:\n",
    "                min_test = max(arr_test) - min(arr_test)\n",
    "                if min_test < min_val:\n",
    "                    min_val = min_test\n",
    "                k += 1\n",
    "    return min_val\n",
    "\n"
   ]
  },
  {
   "cell_type": "code",
   "execution_count": null,
   "id": "76c89b35",
   "metadata": {},
   "outputs": [],
   "source": [
    "#Another go , knowing what I know now.\n",
    "def maxMin(k, arr):\n",
    "    # Write your code here\n",
    "    arr.sort()\n",
    "\n",
    "    min_val = max(arr)\n",
    "    size = len(arr)\n",
    "    for i in range(size):\n",
    "        if k <= (size):\n",
    "            arr_test = arr[(i-1):k]\n",
    "\n",
    "            if not arr_test:\n",
    "                print(\"\")\n",
    "            \n",
    "            else:\n",
    "                min_test = max(arr_test) - min(arr_test)\n",
    "                if min_test < min_val:\n",
    "                    min_val = min_test\n",
    "                k += 1\n",
    "    return min_val"
   ]
  },
  {
   "cell_type": "code",
   "execution_count": 150,
   "id": "b8f7a113",
   "metadata": {},
   "outputs": [
    {
     "name": "stdout",
     "output_type": "stream",
     "text": [
      "\n",
      "20\n"
     ]
    }
   ],
   "source": [
    "arr = [10,100,300,200,10000,20,30]\n",
    "k = 3\n",
    "result = maxMin(k, arr)\n",
    "print(result)\n"
   ]
  },
  {
   "cell_type": "code",
   "execution_count": 157,
   "id": "fefb8867",
   "metadata": {},
   "outputs": [],
   "source": [
    "# chatGPT version\n",
    "def maxMin_b(k, arr):\n",
    "    # Sort the array\n",
    "    arr.sort()\n",
    "    \n",
    "    # Initialize min_val to a large number\n",
    "    min_val = float('inf')\n",
    "    \n",
    "    # Loop through the array to find the minimum unfairness\n",
    "    for i in range(len(arr) - k + 1):\n",
    "        #print(f\" range(len(arr) - k + 1) is {range(len(arr) - k + 1)}\")\n",
    "        # Calculate unfairness of the current subarray\n",
    "        current_unfairness = arr[i + k - 1] - arr[i]\n",
    "        #print(f\"current_unfairness {current_unfairness} = \")\n",
    "        #print(f\" arr[i + k - 1] is {arr[i + k - 1]} - arr[i] is {arr[i]}\")\n",
    "        \n",
    "        # Update min_val if the current_unfairness is smaller\n",
    "        if current_unfairness < min_val:\n",
    "            min_val = current_unfairness\n",
    "            \n",
    "    return min_val\n"
   ]
  },
  {
   "cell_type": "code",
   "execution_count": 158,
   "id": "cfebca47",
   "metadata": {},
   "outputs": [
    {
     "name": "stdout",
     "output_type": "stream",
     "text": [
      " range(len(arr) - k + 1) is range(0, 5)\n",
      "current_unfairness 20 = \n",
      " arr[i + k - 1] is 30 - arr[i] is 10\n",
      " range(len(arr) - k + 1) is range(0, 5)\n",
      "current_unfairness 80 = \n",
      " arr[i + k - 1] is 100 - arr[i] is 20\n",
      " range(len(arr) - k + 1) is range(0, 5)\n",
      "current_unfairness 170 = \n",
      " arr[i + k - 1] is 200 - arr[i] is 30\n",
      " range(len(arr) - k + 1) is range(0, 5)\n",
      "current_unfairness 200 = \n",
      " arr[i + k - 1] is 300 - arr[i] is 100\n",
      " range(len(arr) - k + 1) is range(0, 5)\n",
      "current_unfairness 9800 = \n",
      " arr[i + k - 1] is 10000 - arr[i] is 200\n",
      "20\n"
     ]
    }
   ],
   "source": [
    "arr = [10,100,300,200,10000,20,30]\n",
    "k = 3\n",
    "result = maxMin_b(k, arr)\n",
    "print(result)"
   ]
  },
  {
   "cell_type": "markdown",
   "id": "3f5894b4",
   "metadata": {},
   "source": [
    ".To improve my earlier implementation which has some inefficiencies and failed for time out on half the tests,because of unnecessary list slicing and repetitive calculations within the loop.im looking for efficiencies in loop structure, within the context of finding the minimum unfairness in an array segment of length `k`. The line `for i in range(len(arr) - k + 1):` i\n",
    "### Purpose\n",
    "\n",
    "The purpose of this loop is to iterate through all possible contiguous subarrays of length `k` within the sorted array `arr`. After sorting, the elements of `arr` are in ascending order. The \"unfairness\" of any subarray is the difference between the maximum and minimum elements in that subarray. Since the array is sorted, for any subarray of length `k`, the minimum element is at the start of the subarray, and the maximum element is at the end.\n",
    "\n",
    "### Breakdown\n",
    "\n",
    "- `len(arr)`: This gives the total number of elements in the array `arr`.\n",
    "- `len(arr) - k`: If you have an array of length `n` and you want to look at subarrays of length `k`, there are `n - k + 1` such subarrays. This is because as you slide a window of length `k` across the array from the start, you hit the end of the possibility to form a new subarray when the start of your window is at `n - k`. Adding one more to this position would exceed the array bounds for a subarray of length `k`.\n",
    "- `range(len(arr) - k + 1)`: This creates an iterator that goes from `0` to `len(arr) - k`, inclusive. The iterator `i` represents the starting index of each subarray of length `k` that can be formed within `arr`.\n",
    "\n",
    "### Example\n",
    "\n",
    "Consider an array `arr` of length `10`, and you want to find subarrays of length `3`:\n",
    "\n",
    "- `len(arr)` is `10`.\n",
    "- `k` is `3`.\n",
    "- `len(arr) - k + 1` is `8` (`10 - 3 + 1`).\n",
    "\n",
    "So, the range will be `range(8)`, which means `i` will take on values from `0` to `7`. These are exactly the starting indices of all subarrays of length `3` you can form:\n",
    "\n",
    "- Starting at `0`: The subarray includes elements `0, 1, 2`.\n",
    "- Starting at `1`: The subarray includes elements `1, 2, 3`.\n",
    "- ...\n",
    "- Starting at `7`: The subarray includes elements `7, 8, 9`.\n",
    "\n",
    "### Visualizing the Loop\n",
    "\n",
    "For each iteration of the loop:\n",
    "\n",
    "- The variable `i` represents the starting index of the current subarray being considered.\n",
    "- `arr[i]` is the first element of the subarray (the smallest, since `arr` is sorted).\n",
    "- `arr[i + k - 1]` is the last element of the subarray (the largest).\n",
    "- The unfairness of this subarray is `arr[i + k - 1] - arr[i]`.\n",
    "- The loop checks each of these subarrays to find the one with the minimum unfairness.\n",
    "\n",
    "This efficient looping mechanism ensures that every possible subarray of length `k` is considered without any redundancy, and it leverages the sorted nature of `arr` to minimize computational overhead."
   ]
  },
  {
   "cell_type": "markdown",
   "id": "22a30ec0",
   "metadata": {},
   "source": [
    "# Q7_a"
   ]
  },
  {
   "cell_type": "code",
   "execution_count": null,
   "id": "a762ef16",
   "metadata": {},
   "outputs": [],
   "source": []
  },
  {
   "cell_type": "code",
   "execution_count": 36,
   "id": "32c7d283",
   "metadata": {},
   "outputs": [],
   "source": [
    "#!/bin/python3\n",
    "\n",
    "import math\n",
    "import os\n",
    "import random\n",
    "import re\n",
    "import sys\n",
    "\n",
    "#\n",
    "# Complete the 'plusMinus' function below.\n",
    "#\n",
    "# The function accepts INTEGER_ARRAY arr as parameter.\n",
    "#\n",
    "\n",
    "def plusMinus(arr):\n",
    "    # Write your code here\n",
    "    pos,neg,zeo = 0,0,0\n",
    "    count = len(arr)\n",
    "    \n",
    "    for i in arr:\n",
    "        if i < 0:\n",
    "            neg += 1\n",
    "        elif i > 0:\n",
    "            pos += 1\n",
    "        elif i == 0:\n",
    "            zeo += 1\n",
    "\n",
    "    print (f\"{round(pos/count, 6)}\\n{round(neg/count,6)}\\n{round(zeo/count,6)}\")\n",
    "\n",
    "                \n",
    "\n",
    "\n"
   ]
  },
  {
   "cell_type": "code",
   "execution_count": 37,
   "id": "0674a3ce",
   "metadata": {},
   "outputs": [
    {
     "name": "stdout",
     "output_type": "stream",
     "text": [
      "0.333333\n",
      "0.333333\n",
      "0.333333\n"
     ]
    }
   ],
   "source": [
    "arr = [1, 1, 0, -1,-1,0]\n",
    "plusMinus(arr)"
   ]
  },
  {
   "cell_type": "markdown",
   "id": "844b9f0e",
   "metadata": {},
   "source": [
    "# Q7_b"
   ]
  },
  {
   "cell_type": "markdown",
   "id": "a2f8acf0",
   "metadata": {},
   "source": [
    "* Declare a 2-dimensional array, arr , of n  empty arrays. All arrays are zero indexed.\n",
    "* Declare an integer, LastAnswer , and initialize it to 0 .\n",
    "There are 2  types of queries, given as an array of strings for you to parse:\n",
    "Query: 1 x y\n",
    "Let  idx = ((x XOR LastAnswer) % n)\n",
    "Append the integer y to arr[idx].\n",
    "\n",
    "Query: 2 x y\n",
    "Let idx = ((x XOR LastAnswer) % n)\n",
    "Assign the value arr[idx][y % size(arr[idx])] to LastAnswer.\n",
    "Store the new value of LastAnswer to an answers array.\n",
    "finally , size(arr[idx]) is the number of elements in arr[idx]"
   ]
  },
  {
   "cell_type": "code",
   "execution_count": null,
   "id": "587cb1e3",
   "metadata": {},
   "outputs": [],
   "source": [
    "#!/bin/python3\n",
    "\n",
    "import math\n",
    "import os\n",
    "import random\n",
    "import re\n",
    "import sys\n",
    "\n",
    "#\n",
    "# Complete the 'dynamicArray' function below.\n",
    "#\n",
    "# The function is expected to return an INTEGER_ARRAY.\n",
    "# The function accepts following parameters:\n",
    "#  1. INTEGER n\n",
    "#  2. 2D_INTEGER_ARRAY queries\n",
    "#\n",
    "\n",
    "def dynamicArray(n, queries):\n",
    "    # Write your code here\n",
    "    lastAnswer = 0\n",
    "    rows, cols = (n, n)\n",
    "    arr = [[0]*cols]*rows\n",
    "print(arr)\n",
    "\n",
    "\n"
   ]
  },
  {
   "cell_type": "code",
   "execution_count": null,
   "id": "edda9c07",
   "metadata": {},
   "outputs": [],
   "source": [
    "queries = []\n",
    "n = 5\n",
    "dynamicArray(n, queries)\n",
    "\n",
    "\n",
    "\n"
   ]
  },
  {
   "cell_type": "code",
   "execution_count": 1,
   "id": "7326a5fa",
   "metadata": {},
   "outputs": [
    {
     "name": "stdout",
     "output_type": "stream",
     "text": [
      "[0, 0, 0, 0, 0]\n"
     ]
    }
   ],
   "source": [
    "N = 5\n",
    "arr = [0 for i in range(N)]\n",
    "print(arr)"
   ]
  },
  {
   "cell_type": "code",
   "execution_count": 2,
   "id": "13b84c30",
   "metadata": {},
   "outputs": [
    {
     "name": "stdout",
     "output_type": "stream",
     "text": [
      "[[0, 0, 0, 0, 0], [0, 0, 0, 0, 0], [0, 0, 0, 0, 0], [0, 0, 0, 0, 0], [0, 0, 0, 0, 0]]\n"
     ]
    }
   ],
   "source": [
    "rows, cols = (N, N)\n",
    "arr = [[0]*cols]*rows\n",
    "print(arr)"
   ]
  },
  {
   "cell_type": "code",
   "execution_count": 3,
   "id": "86314138",
   "metadata": {},
   "outputs": [
    {
     "name": "stdout",
     "output_type": "stream",
     "text": [
      "[7, 3]\n"
     ]
    }
   ],
   "source": [
    "# Solution\n",
    "def dynamicArray(n, queries):\n",
    "    # Initialize variables\n",
    "    arr = [[] for _ in range(n)]\n",
    "    lastAnswer = 0\n",
    "    answers = []\n",
    "\n",
    "    # Process queries\n",
    "    for query in queries:\n",
    "        # Parse query type, x, and y\n",
    "        q, x, y = query\n",
    "\n",
    "        # Determine index (idx)\n",
    "        idx = (x ^ lastAnswer) % n\n",
    "\n",
    "        if q == 1:\n",
    "            # Append y to the array at index idx\n",
    "            arr[idx].append(y)\n",
    "        elif q == 2:\n",
    "            # Retrieve value from array at index idx and assign to lastAnswer\n",
    "            size = len(arr[idx])\n",
    "            lastAnswer = arr[idx][y % size]\n",
    "            # Store lastAnswer in answers array\n",
    "            answers.append(lastAnswer)\n",
    "\n",
    "    return answers\n",
    "\n",
    "# Example usage:\n",
    "n = 2\n",
    "queries = [\n",
    "    [1, 0, 5],\n",
    "    [1, 1, 7],\n",
    "    [1, 0, 3],\n",
    "    [2, 1, 0],\n",
    "    [2, 1, 1]\n",
    "]\n",
    "print(dynamicArray(n, queries))  # Output: [7, 3]\n"
   ]
  },
  {
   "cell_type": "code",
   "execution_count": null,
   "id": "7505190c",
   "metadata": {},
   "outputs": [],
   "source": []
  }
 ],
 "metadata": {
  "kernelspec": {
   "display_name": "Python 3 (ipykernel)",
   "language": "python",
   "name": "python3"
  },
  "language_info": {
   "codemirror_mode": {
    "name": "ipython",
    "version": 3
   },
   "file_extension": ".py",
   "mimetype": "text/x-python",
   "name": "python",
   "nbconvert_exporter": "python",
   "pygments_lexer": "ipython3",
   "version": "3.11.5"
  }
 },
 "nbformat": 4,
 "nbformat_minor": 5
}
