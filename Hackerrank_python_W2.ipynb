{
 "cells": [
  {
   "cell_type": "markdown",
   "id": "1a011244",
   "metadata": {},
   "source": [
    "# Q1"
   ]
  },
  {
   "cell_type": "markdown",
   "id": "c080438a",
   "metadata": {},
   "source": [
    "There is a large pile of socks that must be paired by color. Given an array of integers representing the color of each sock, determine how many pairs of socks with matching colors there are.\n",
    "Example\n",
    "n=7\n",
    "ar = [1,2,1,2,1,3,2]\n",
    "\n",
    "Answer the number of pairs is 2\n",
    "\n",
    "\n",
    "\n",
    "There is one pair of color  and one of color . There are three odd socks left, one of each color. The number of pairs is .\n",
    "Function Description\n",
    "Complete the sockMerchant function in the editor below.\n",
    "sockMerchant has the following parameter(s):\n",
    "int n: the number of socks in the pile\n",
    "int ar[n]: the colors of each sock\n",
    "Returns\n",
    "int: the number of pairs"
   ]
  },
  {
   "cell_type": "code",
   "execution_count": 28,
   "id": "a638d78f",
   "metadata": {},
   "outputs": [],
   "source": [
    "#!/bin/python3\n",
    "\n",
    "import math\n",
    "import os\n",
    "import random\n",
    "import re\n",
    "import sys\n",
    "\n",
    "#\n",
    "# Complete the 'sockMerchant' function below.\n",
    "#\n",
    "# The function is expected to return an INTEGER.\n",
    "# The function accepts following parameters:\n",
    "#  1. INTEGER n\n",
    "#  2. INTEGER_ARRAY ar\n",
    "#\n",
    "\n",
    "def sockMerchant(n, ar):\n",
    "    # Write your code here\n",
    "    ar.sort()\n",
    "    print(ar)\n",
    "    pair_count = 0\n",
    "    i=0\n",
    "    while i < (n-1):\n",
    "        if ar[i] == ar[i+1]:\n",
    "            pair_count +=1\n",
    "            i +=2\n",
    "        else:\n",
    "            i +=1\n",
    "    return pair_count\n",
    "            \n",
    "            \n",
    "    \n",
    "\n",
    "\n"
   ]
  },
  {
   "cell_type": "code",
   "execution_count": 29,
   "id": "485d257b",
   "metadata": {},
   "outputs": [
    {
     "name": "stdout",
     "output_type": "stream",
     "text": [
      "[1, 1, 1, 2, 2, 2, 3]\n",
      "2\n"
     ]
    }
   ],
   "source": [
    "ar = [1,2,1,2,1,3,2]\n",
    "n = 7\n",
    "result = sockMerchant(n, ar)\n",
    "print (result)"
   ]
  },
  {
   "cell_type": "markdown",
   "id": "f9b25c3e",
   "metadata": {},
   "source": [
    "# Q2"
   ]
  },
  {
   "cell_type": "markdown",
   "id": "936d1b75",
   "metadata": {},
   "source": [
    "In this challenge, the task is to debug the existing code to successfully execute all provided test files.\n",
    "Given an array of n distinct integers, transform the array into a zig zag sequence by permuting the array elements. A sequence will be called a zig zag sequence if the first k elements in the sequence are in increasing order and the last k elements are in decreasing order, wherek = (n+1)/2 . You need to find the lexicographically smallest zig zag sequence of the given array.\n",
    "\n",
    "Example.\n",
    "\n",
    "Now if we permute the array as , the result is a zig zag sequence.\n",
    "Debug the given function findZigZagSequence to return the appropriate zig zag sequence for the given input array."
   ]
  },
  {
   "cell_type": "code",
   "execution_count": 32,
   "id": "d4805a3f",
   "metadata": {},
   "outputs": [],
   "source": [
    "# debugging this code\n",
    "def findZigZagSequence(a, n):\n",
    "    a.sort()\n",
    "    mid = int((n)// 2) # finding the mid way point with no remainder\n",
    "    print(f\"mid: {mid}\")\n",
    "    a[mid], a[n-1] = a[n-1], a[mid] # swapps the mid way element with las element in the list\n",
    "    print(f\"should be 1st zigzagged element: {a}\")\n",
    "    st = mid + 1 # increment 1 from mid point\n",
    "    ed = n - 2 # decrement 1 from end\n",
    "    while(st < ed):\n",
    "        a[st], a[ed] = a[ed], a[st] # swap the elements at this position\n",
    "        st = st + 1 # increment pos cound\n",
    "        ed = ed - 1 # decrement pos count\n",
    "    print(f\"should be zigzagged: {a}\")\n",
    "    for i in range (n):\n",
    "        if i == n-1:\n",
    "            print(a[i])\n",
    "        else:\n",
    "            print(a[i], end = ' ')\n",
    "    return\n"
   ]
  },
  {
   "cell_type": "code",
   "execution_count": 34,
   "id": "ef731a82",
   "metadata": {},
   "outputs": [
    {
     "name": "stdout",
     "output_type": "stream",
     "text": [
      "mid: 3\n",
      "should be 1st zigzagged element: [1, 2, 3, 7, 5, 6, 4]\n",
      "should be zigzagged: [1, 2, 3, 7, 6, 5, 4]\n",
      "1 2 3 7 6 5 4\n"
     ]
    }
   ],
   "source": [
    "a = [1,2,3,4,5,6,7]\n",
    "n = 7\n",
    "findZigZagSequence(a, n)"
   ]
  },
  {
   "cell_type": "markdown",
   "id": "0f88f01e",
   "metadata": {},
   "source": [
    "# Q3 Drawing book"
   ]
  },
  {
   "cell_type": "markdown",
   "id": "d185e5b2",
   "metadata": {},
   "source": [
    "A teacher asks the class to open their books to a page number. A student can either start turning pages from the front of the book or from the back of the book. They always turn pages one at a time. When they open the book, page 1 is always on the right side:\n",
    "\n",
    "When they flip page 1 , they see pages 2 and 3. Each page except the last page will always be printed on both sides. The last page may only be printed on the front, given the length of the book. If the book is n   pages long, and a student wants to turn to page p , what is the minimum number of pages to turn? They can start at the beginning or the end of the book.\n",
    "\n",
    "Given n and p, find and print the minimum number of pages that must be turned in order to arrive at page p .\n",
    "Example n=5,p=3\n",
    "\n",
    "Using the diagram above, if the student wants to get to page , they open the book to page , flip page and they are on the correct page. If they open the book to the last page, page , they turn page and are at the correct page. Return .\n",
    "Function Description\n",
    "Complete the pageCount function in the editor below.\n",
    "pageCount has the following parameter(s):\n",
    "int n: the number of pages in the book\n",
    "int p: the page number to turn to\n",
    "Returns\n",
    "int: the minimum number of pages to turn\n",
    "Input Format\n",
    "The first line contains an integer , the number of pages in the book.\n",
    "The second line contains an integer, , the page to turn to.\n"
   ]
  },
  {
   "cell_type": "code",
   "execution_count": null,
   "id": "77da965c",
   "metadata": {},
   "outputs": [],
   "source": [
    "#!/bin/python3\n",
    "\n",
    "import math\n",
    "import os\n",
    "import random\n",
    "import re\n",
    "import sys\n",
    "\n",
    "#\n",
    "# Complete the 'pageCount' function below.\n",
    "#\n",
    "# The function is expected to return an INTEGER.\n",
    "# The function accepts following parameters:\n",
    "#  1. INTEGER n\n",
    "#  2. INTEGER p\n",
    "#\n",
    "\n",
    "def pageCount(n, p):\n",
    "    # Write your code here\n",
    "    end = (n-1)\n",
    "    forward_turn = p%2\n",
    "    print(f\"forward_turn = {forward_turn}\")\n",
    "    back_turn = (end - p)%2\n",
    "    print(back_turn)\n",
    "    \n",
    "    \n",
    "        \n",
    "\n",
    "\n"
   ]
  },
  {
   "cell_type": "code",
   "execution_count": null,
   "id": "cc92c3b6",
   "metadata": {},
   "outputs": [],
   "source": [
    "if __name__ == '__main__':\n",
    "    fptr = open(os.environ['OUTPUT_PATH'], 'w')\n",
    "\n",
    "    n = int(input().strip())\n",
    "\n",
    "    p = int(input().strip())\n",
    "\n",
    "    result = pageCount(n, p)\n",
    "\n",
    "    fptr.write(str(result) + '\\n')\n",
    "\n",
    "    fptr.close()"
   ]
  }
 ],
 "metadata": {
  "kernelspec": {
   "display_name": "Python 3 (ipykernel)",
   "language": "python",
   "name": "python3"
  },
  "language_info": {
   "codemirror_mode": {
    "name": "ipython",
    "version": 3
   },
   "file_extension": ".py",
   "mimetype": "text/x-python",
   "name": "python",
   "nbconvert_exporter": "python",
   "pygments_lexer": "ipython3",
   "version": "3.11.5"
  }
 },
 "nbformat": 4,
 "nbformat_minor": 5
}
