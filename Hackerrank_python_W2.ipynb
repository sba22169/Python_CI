{
 "cells": [
  {
   "cell_type": "markdown",
   "id": "1a011244",
   "metadata": {},
   "source": [
    "# Q1"
   ]
  },
  {
   "cell_type": "markdown",
   "id": "c080438a",
   "metadata": {},
   "source": [
    "There is a large pile of socks that must be paired by color. Given an array of integers representing the color of each sock, determine how many pairs of socks with matching colors there are.\n",
    "Example\n",
    "n=7\n",
    "ar = [1,2,1,2,1,3,2]\n",
    "\n",
    "Answer the number of pairs is 2\n",
    "\n",
    "\n",
    "\n",
    "There is one pair of color  and one of color . There are three odd socks left, one of each color. The number of pairs is .\n",
    "Function Description\n",
    "Complete the sockMerchant function in the editor below.\n",
    "sockMerchant has the following parameter(s):\n",
    "int n: the number of socks in the pile\n",
    "int ar[n]: the colors of each sock\n",
    "Returns\n",
    "int: the number of pairs"
   ]
  },
  {
   "cell_type": "code",
   "execution_count": 28,
   "id": "a638d78f",
   "metadata": {},
   "outputs": [],
   "source": [
    "#!/bin/python3\n",
    "\n",
    "import math\n",
    "import os\n",
    "import random\n",
    "import re\n",
    "import sys\n",
    "\n",
    "#\n",
    "# Complete the 'sockMerchant' function below.\n",
    "#\n",
    "# The function is expected to return an INTEGER.\n",
    "# The function accepts following parameters:\n",
    "#  1. INTEGER n\n",
    "#  2. INTEGER_ARRAY ar\n",
    "#\n",
    "\n",
    "def sockMerchant(n, ar):\n",
    "    # Write your code here\n",
    "    ar.sort()\n",
    "    print(ar)\n",
    "    pair_count = 0\n",
    "    i=0\n",
    "    while i < (n-1):\n",
    "        if ar[i] == ar[i+1]:\n",
    "            pair_count +=1\n",
    "            i +=2\n",
    "        else:\n",
    "            i +=1\n",
    "    return pair_count\n",
    "            \n",
    "            \n",
    "    \n",
    "\n",
    "\n"
   ]
  },
  {
   "cell_type": "code",
   "execution_count": 29,
   "id": "485d257b",
   "metadata": {},
   "outputs": [
    {
     "name": "stdout",
     "output_type": "stream",
     "text": [
      "[1, 1, 1, 2, 2, 2, 3]\n",
      "2\n"
     ]
    }
   ],
   "source": [
    "ar = [1,2,1,2,1,3,2]\n",
    "n = 7\n",
    "result = sockMerchant(n, ar)\n",
    "print (result)"
   ]
  },
  {
   "cell_type": "markdown",
   "id": "f9b25c3e",
   "metadata": {},
   "source": [
    "# Q2"
   ]
  },
  {
   "cell_type": "markdown",
   "id": "936d1b75",
   "metadata": {},
   "source": [
    "In this challenge, the task is to debug the existing code to successfully execute all provided test files.\n",
    "Given an array of n distinct integers, transform the array into a zig zag sequence by permuting the array elements. A sequence will be called a zig zag sequence if the first k elements in the sequence are in increasing order and the last k elements are in decreasing order, wherek = (n+1)/2 . You need to find the lexicographically smallest zig zag sequence of the given array.\n",
    "\n",
    "Example.\n",
    "\n",
    "Now if we permute the array as , the result is a zig zag sequence.\n",
    "Debug the given function findZigZagSequence to return the appropriate zig zag sequence for the given input array."
   ]
  },
  {
   "cell_type": "code",
   "execution_count": 32,
   "id": "d4805a3f",
   "metadata": {},
   "outputs": [],
   "source": [
    "# debugging this code\n",
    "def findZigZagSequence(a, n):\n",
    "    a.sort()\n",
    "    mid = int((n)// 2) # finding the mid way point with no remainder\n",
    "    print(f\"mid: {mid}\")\n",
    "    a[mid], a[n-1] = a[n-1], a[mid] # swapps the mid way element with las element in the list\n",
    "    print(f\"should be 1st zigzagged element: {a}\")\n",
    "    st = mid + 1 # increment 1 from mid point\n",
    "    ed = n - 2 # decrement 1 from end\n",
    "    while(st < ed):\n",
    "        a[st], a[ed] = a[ed], a[st] # swap the elements at this position\n",
    "        st = st + 1 # increment pos cound\n",
    "        ed = ed - 1 # decrement pos count\n",
    "    print(f\"should be zigzagged: {a}\")\n",
    "    for i in range (n):\n",
    "        if i == n-1:\n",
    "            print(a[i])\n",
    "        else:\n",
    "            print(a[i], end = ' ')\n",
    "    return\n"
   ]
  },
  {
   "cell_type": "code",
   "execution_count": 34,
   "id": "ef731a82",
   "metadata": {},
   "outputs": [
    {
     "name": "stdout",
     "output_type": "stream",
     "text": [
      "mid: 3\n",
      "should be 1st zigzagged element: [1, 2, 3, 7, 5, 6, 4]\n",
      "should be zigzagged: [1, 2, 3, 7, 6, 5, 4]\n",
      "1 2 3 7 6 5 4\n"
     ]
    }
   ],
   "source": [
    "a = [1,2,3,4,5,6,7]\n",
    "n = 7\n",
    "findZigZagSequence(a, n)"
   ]
  },
  {
   "cell_type": "markdown",
   "id": "0f88f01e",
   "metadata": {},
   "source": [
    "# Q3 Drawing book"
   ]
  },
  {
   "cell_type": "markdown",
   "id": "d185e5b2",
   "metadata": {},
   "source": [
    "A teacher asks the class to open their books to a page number. A student can either start turning pages from the front of the book or from the back of the book. They always turn pages one at a time. When they open the book, page 1 is always on the right side:\n",
    "\n",
    "When they flip page 1 , they see pages 2 and 3. Each page except the last page will always be printed on both sides. The last page may only be printed on the front, given the length of the book. If the book is n   pages long, and a student wants to turn to page p , what is the minimum number of pages to turn? They can start at the beginning or the end of the book.\n",
    "\n",
    "Given n and p, find and print the minimum number of pages that must be turned in order to arrive at page p .\n",
    "Example n=5,p=3\n",
    "\n",
    "Using the diagram above, if the student wants to get to page , they open the book to page , flip page and they are on the correct page. If they open the book to the last page, page , they turn page and are at the correct page. Return .\n",
    "Function Description\n",
    "Complete the pageCount function in the editor below.\n",
    "pageCount has the following parameter(s):\n",
    "int n: the number of pages in the book\n",
    "int p: the page number to turn to\n",
    "Returns\n",
    "int: the minimum number of pages to turn\n",
    "Input Format\n",
    "The first line contains an integer , the number of pages in the book.\n",
    "The second line contains an integer, , the page to turn to.\n"
   ]
  },
  {
   "cell_type": "code",
   "execution_count": 38,
   "id": "77da965c",
   "metadata": {},
   "outputs": [],
   "source": [
    "#!/bin/python3\n",
    "\n",
    "import math\n",
    "import os\n",
    "import random\n",
    "import re\n",
    "import sys\n",
    "\n",
    "#\n",
    "# Complete the 'pageCount' function below.\n",
    "#\n",
    "# The function is expected to return an INTEGER.\n",
    "# The function accepts following parameters:\n",
    "#  1. INTEGER n\n",
    "#  2. INTEGER p\n",
    "#\n",
    "\n",
    "def pageCount(n, p):\n",
    "    # Write your code here\n",
    "    end = (n)\n",
    "    print(f\"end = {end}\")\n",
    "    forward_turn = p // 2\n",
    "    print(f\" forward_turn = {forward_turn}\")\n",
    "    back_gap = (n-p)\n",
    "    # testing for an edge case where n is even and p = n-1 ie  n = 6 & p = 5, \n",
    "    if (back_gap == 1) and (n%2 == 0):\n",
    "        back_turn = 1\n",
    "    else:\n",
    "        back_turn = (n - p) // 2\n",
    "    print(f\" back_turn = {back_turn}\")\n",
    "    if forward_turn < back_turn:\n",
    "        min_page = forward_turn\n",
    "    else:\n",
    "        min_page = back_turn\n",
    "    return min_page\n",
    "    \n",
    "        \n",
    "\n",
    "\n"
   ]
  },
  {
   "cell_type": "code",
   "execution_count": 39,
   "id": "cc92c3b6",
   "metadata": {},
   "outputs": [
    {
     "name": "stdout",
     "output_type": "stream",
     "text": [
      "end = 5\n",
      " forward_turn = 2\n",
      " back_turn = 0\n",
      " min pages to turn = 0\n"
     ]
    }
   ],
   "source": [
    "if __name__ == '__main__':\n",
    "    #fptr = open(os.environ['OUTPUT_PATH'], 'w')\n",
    "\n",
    "    #n = int(input().strip())\n",
    "    n,p = 5,4\n",
    "\n",
    "    #p = int(input().strip())\n",
    "\n",
    "    result = pageCount(n, p)\n",
    "    print(f\" min pages to turn = {result}\")\n",
    "\n",
    "    #fptr.write(str(result) + '\\n')\n",
    "\n",
    "    #fptr.close()"
   ]
  },
  {
   "cell_type": "code",
   "execution_count": 25,
   "id": "e8977149",
   "metadata": {},
   "outputs": [],
   "source": [
    "#!/bin/python3\n",
    "\n",
    "import math\n",
    "import os\n",
    "import random\n",
    "import re\n",
    "import sys\n",
    "\n",
    "#\n",
    "# Complete the 'pageCount' function below.\n",
    "#\n",
    "# The function is expected to return an INTEGER.\n",
    "# The function accepts following parameters:\n",
    "#  1. INTEGER n\n",
    "#  2. INTEGER p\n",
    "#\n",
    "\n",
    "def pageCount(n, p):\n",
    "    # Write your code here\n",
    "\n",
    "    forward_turn = p // 2\n",
    "\n",
    "    back_turn = (n - p) // 2\n",
    "\n",
    "    if forward_turn < back_turn:\n",
    "        min_page = back_turn\n",
    "    else:\n",
    "        min_page = forward_turn\n",
    "    return min_page\n",
    "    \n",
    "        \n",
    "\n",
    "\n"
   ]
  },
  {
   "cell_type": "markdown",
   "id": "0015efef",
   "metadata": {},
   "source": [
    "# Q4"
   ]
  },
  {
   "cell_type": "markdown",
   "id": "3ed5378f",
   "metadata": {},
   "source": [
    "Two players are playing a game of Tower Breakers! Player 1 always moves first, and both players always play optimally.The rules of the game are as follows:\n",
    "Initially there are n towers.\n",
    "Each tower is of height m .\n",
    "The players move in alternating turns.\n",
    "In each turn, a player can choose a tower of height x  and reduce its height to y , where 1 <= y < x and y evenly divides x.\n",
    "If the current player is unable to make a move, they lose the game.\n",
    "Given the values of n and m, determine which player will win. If the first player wins, return 1 . Otherwise, return 2 ."
   ]
  },
  {
   "cell_type": "code",
   "execution_count": null,
   "id": "dd408786",
   "metadata": {},
   "outputs": [],
   "source": [
    "#!/bin/python3\n",
    "\n",
    "import math\n",
    "import os\n",
    "import random\n",
    "import re\n",
    "import sys\n",
    "\n",
    "#\n",
    "# Complete the 'towerBreakers' function below.\n",
    "#\n",
    "# The function is expected to return an INTEGER.\n",
    "# The function accepts following parameters:\n",
    "#  1. INTEGER n\n",
    "#  2. INTEGER m\n",
    "#\n",
    "\n",
    "def towerBreakers(n, m):\n",
    "    # Write your code here\n",
    "    if n%2 == 1 and m%2 == 1 and m>1:\n",
    "        return 1\n",
    "    elif n%2 == 1 and m%2 == 0:\n",
    "        return 1\n",
    "    else:\n",
    "        return 2\n",
    "\n",
    "\n"
   ]
  },
  {
   "cell_type": "code",
   "execution_count": null,
   "id": "3d484e6b",
   "metadata": {},
   "outputs": [],
   "source": [
    "if __name__ == '__main__':\n",
    "    n = \n",
    "    m = \n",
    "    result = towerBreakers(n, m)\n",
    "    #fptr = open(os.environ['OUTPUT_PATH'], 'w')\n",
    "\n",
    "    #t = int(input().strip())\n",
    "\n",
    "    #for t_itr in range(t):\n",
    "        #first_multiple_input = input().rstrip().split()\n",
    "\n",
    "        #n = int(first_multiple_input[0])\n",
    "\n",
    "        #m = int(first_multiple_input[1])\n",
    "\n",
    "        #result = towerBreakers(n, m)\n",
    "\n",
    "        #fptr.write(str(result) + '\\n')\n",
    "\n",
    "    #fptr.close()"
   ]
  },
  {
   "cell_type": "markdown",
   "id": "c5c63c64",
   "metadata": {},
   "source": [
    "# Q5"
   ]
  },
  {
   "cell_type": "code",
   "execution_count": null,
   "id": "2237d76c",
   "metadata": {},
   "outputs": [],
   "source": []
  },
  {
   "cell_type": "code",
   "execution_count": 2,
   "id": "0cf07b02",
   "metadata": {},
   "outputs": [],
   "source": [
    "#!/bin/python3\n",
    "\n",
    "import math\n",
    "import os\n",
    "import random\n",
    "import re\n",
    "import sys\n",
    "\n",
    "#\n",
    "# Complete the 'caesarCipher' function below.\n",
    "#\n",
    "# The function is expected to return a STRING.\n",
    "# The function accepts following parameters:\n",
    "#  1. STRING s\n",
    "#  2. INTEGER k\n",
    "#\n",
    "\n",
    "def caesarCipher(s, k):\n",
    "    # Write your code here\n",
    "    alpha = range(a-z)\n",
    "    print(alpha)\n",
    "\n",
    "\n"
   ]
  },
  {
   "cell_type": "code",
   "execution_count": 70,
   "id": "750b4261",
   "metadata": {},
   "outputs": [],
   "source": [
    "#if __name__ == '__main__':\n",
    "    #fptr = open(os.environ['OUTPUT_PATH'], 'w')\n",
    "\n",
    "    #n = int(input().strip())\n",
    "\n",
    "    #s = input()\n",
    "\n",
    "    #k = int(input().strip())\n",
    "    \n",
    "k = 100\n",
    "s = \"Middle-oUt\"\n",
    "\n",
    "    #result = caesarCipher(s, k)\n",
    "\n",
    "    #fptr.write(result + '\\n')\n",
    "\n",
    "    #fptr.close()\n"
   ]
  },
  {
   "cell_type": "code",
   "execution_count": 71,
   "id": "6414114f",
   "metadata": {},
   "outputs": [
    {
     "name": "stdout",
     "output_type": "stream",
     "text": [
      "['d', 'e', 'f', 'g', 'h', 'i', 'j', 'k', 'l', 'm', 'n', 'o', 'p', 'q', 'r', 's', 't', 'u', 'v', 'w', 'x', 'y', 'z', 'a', 'b', 'c']\n",
      "Iezzha-kQp\n"
     ]
    }
   ],
   "source": [
    "# Defining lower case letters\n",
    "lowercase_letters = [chr(i) for i in range(97, 123)]\n",
    "# defining upper case letters\n",
    "uppercase_letters = [chr(i) for i in range(65, 91)]\n",
    "# if rotation is greater than 25 (lenght of alphabet) i correct\n",
    "# by finding the remainder else i use the given rotation figure\n",
    "if k > 25:\n",
    "    k = k%26\n",
    "# generating the upper and lower letters by the rotation given\n",
    "rot_letters_lower = lowercase_letters[k:26] + lowercase_letters[0:k]\n",
    "rot_letters_upper = uppercase_letters[k:26] + uppercase_letters[0:k]\n",
    "cipher = []\n",
    "print(rot_letters)\n",
    "# working through the given string\n",
    "for i in s:\n",
    "    # appending to list if letter is lower\n",
    "    if i in lowercase_letters:\n",
    "        rot_let = lowercase_letters.index(i)\n",
    "        new_let = rot_letters_lower[rot_let] \n",
    "        cipher.append(new_let)\n",
    "    # appending to list if letter is upper\n",
    "    elif i in uppercase_letters:\n",
    "        rot_let = uppercase_letters.index(i)\n",
    "        new_let = rot_letters_upper[rot_let] \n",
    "        cipher.append(new_let)\n",
    "    else:\n",
    "        # appending i through if not a letter\n",
    "        cipher.append(i)\n",
    "print(''.join(cipher))\n",
    "        \n",
    "    \n",
    "    "
   ]
  },
  {
   "cell_type": "code",
   "execution_count": null,
   "id": "a2d444b6",
   "metadata": {},
   "outputs": [],
   "source": [
    "# Alternate way to implement this code.\n",
    "def caesarCipher(s, k):\n",
    "    # Adjust rotation if greater than the length of the alphabet\n",
    "    k = k % 26\n",
    "    cipher = []\n",
    "    \n",
    "    for i in s:\n",
    "        # Check and transform lowercase letters\n",
    "        if 'a' <= i <= 'z':\n",
    "            cipher.append(chr((ord(i) - 97 + k) % 26 + 97))\n",
    "        # Check and transform uppercase letters\n",
    "        elif 'A' <= i <= 'Z':\n",
    "            cipher.append(chr((ord(i) - 65 + k) % 26 + 65))\n",
    "        # Keep non-alphabetic characters unchanged\n",
    "        else:\n",
    "            cipher.append(i)\n",
    "    \n",
    "    return ''.join(cipher)\n"
   ]
  },
  {
   "cell_type": "markdown",
   "id": "225173bd",
   "metadata": {},
   "source": [
    "\n",
    "### Key Changes and Improvements\n",
    "\n",
    "1. **Unified Rotation Calculation**: This version directly calculates the rotated position using the `ord()` function (which converts a character into its ASCII value) and the modulus operator `%`. This method eliminates the need to explicitly create and rotate lists of alphabet characters.\n",
    "   \n",
    "2. **Character Range Checks**: Instead of checking if a character is in a list of alphabet characters, it checks if the character's ASCII value falls within the ranges for lowercase (`a`-`z`) or uppercase (`A`-`Z`) letters. This approach is more efficient since it doesn't require scanning a list to determine if a character is uppercase or lowercase.\n",
    "\n",
    "3. **Direct Calculation of Rotated Character**: For both lowercase and uppercase letters, the new character is calculated by finding the offset from the start of the alphabet (`97` for lowercase, `65` for uppercase), adding the rotation `k`, taking the modulus with `26` (to wrap around the alphabet), and then converting back to a character with `chr()`.\n",
    "\n",
    "4. **Modulus Operation Simplification**: The rotation adjustment (`k = k % 26`) ensures that the rotation is always within the bounds of the alphabet, handling cases where `k` is greater than `26`.\n",
    "\n",
    "This streamlined approach is not only shorter but also potentially faster for large inputs, as it avoids the overhead of list operations and index searches."
   ]
  },
  {
   "cell_type": "markdown",
   "id": "b312d92f",
   "metadata": {},
   "source": [
    "# Q6 MaxMin"
   ]
  },
  {
   "cell_type": "code",
   "execution_count": null,
   "id": "f08334d7",
   "metadata": {},
   "outputs": [],
   "source": []
  },
  {
   "cell_type": "code",
   "execution_count": 149,
   "id": "e63a2e19",
   "metadata": {},
   "outputs": [],
   "source": [
    "#!/bin/python3\n",
    "\n",
    "import math\n",
    "import os\n",
    "import random\n",
    "import re\n",
    "import sys\n",
    "\n",
    "#\n",
    "# Complete the 'maxMin' function below.\n",
    "#\n",
    "# The function is expected to return an INTEGER.\n",
    "# The function accepts following parameters:\n",
    "#  1. INTEGER k\n",
    "#  2. INTEGER_ARRAY arr\n",
    "#\n",
    "\n",
    "def maxMin(k, arr):\n",
    "    # Write your code here\n",
    "    arr.sort()\n",
    "\n",
    "    min_val = max(arr)\n",
    "    size = len(arr)\n",
    "    for i in range(size):\n",
    "        if k <= (size):\n",
    "            arr_test = arr[(i-1):k]\n",
    "\n",
    "            if not arr_test:\n",
    "                print(\"\")\n",
    "            \n",
    "            else:\n",
    "                min_test = max(arr_test) - min(arr_test)\n",
    "                if min_test < min_val:\n",
    "                    min_val = min_test\n",
    "                k += 1\n",
    "    return min_val\n",
    "\n"
   ]
  },
  {
   "cell_type": "code",
   "execution_count": null,
   "id": "76c89b35",
   "metadata": {},
   "outputs": [],
   "source": [
    "#Another go , knowing what I know now.\n",
    "def maxMin(k, arr):\n",
    "    # Write your code here\n",
    "    arr.sort()\n",
    "\n",
    "    min_val = max(arr)\n",
    "    size = len(arr)\n",
    "    for i in range(size):\n",
    "        if k <= (size):\n",
    "            arr_test = arr[(i-1):k]\n",
    "\n",
    "            if not arr_test:\n",
    "                print(\"\")\n",
    "            \n",
    "            else:\n",
    "                min_test = max(arr_test) - min(arr_test)\n",
    "                if min_test < min_val:\n",
    "                    min_val = min_test\n",
    "                k += 1\n",
    "    return min_val"
   ]
  },
  {
   "cell_type": "code",
   "execution_count": 150,
   "id": "b8f7a113",
   "metadata": {},
   "outputs": [
    {
     "name": "stdout",
     "output_type": "stream",
     "text": [
      "\n",
      "20\n"
     ]
    }
   ],
   "source": [
    "arr = [10,100,300,200,10000,20,30]\n",
    "k = 3\n",
    "result = maxMin(k, arr)\n",
    "print(result)\n"
   ]
  },
  {
   "cell_type": "code",
   "execution_count": 157,
   "id": "fefb8867",
   "metadata": {},
   "outputs": [],
   "source": [
    "# chatGPT version\n",
    "def maxMin_b(k, arr):\n",
    "    # Sort the array\n",
    "    arr.sort()\n",
    "    \n",
    "    # Initialize min_val to a large number\n",
    "    min_val = float('inf')\n",
    "    \n",
    "    # Loop through the array to find the minimum unfairness\n",
    "    for i in range(len(arr) - k + 1):\n",
    "        #print(f\" range(len(arr) - k + 1) is {range(len(arr) - k + 1)}\")\n",
    "        # Calculate unfairness of the current subarray\n",
    "        current_unfairness = arr[i + k - 1] - arr[i]\n",
    "        #print(f\"current_unfairness {current_unfairness} = \")\n",
    "        #print(f\" arr[i + k - 1] is {arr[i + k - 1]} - arr[i] is {arr[i]}\")\n",
    "        \n",
    "        # Update min_val if the current_unfairness is smaller\n",
    "        if current_unfairness < min_val:\n",
    "            min_val = current_unfairness\n",
    "            \n",
    "    return min_val\n"
   ]
  },
  {
   "cell_type": "code",
   "execution_count": 158,
   "id": "cfebca47",
   "metadata": {},
   "outputs": [
    {
     "name": "stdout",
     "output_type": "stream",
     "text": [
      " range(len(arr) - k + 1) is range(0, 5)\n",
      "current_unfairness 20 = \n",
      " arr[i + k - 1] is 30 - arr[i] is 10\n",
      " range(len(arr) - k + 1) is range(0, 5)\n",
      "current_unfairness 80 = \n",
      " arr[i + k - 1] is 100 - arr[i] is 20\n",
      " range(len(arr) - k + 1) is range(0, 5)\n",
      "current_unfairness 170 = \n",
      " arr[i + k - 1] is 200 - arr[i] is 30\n",
      " range(len(arr) - k + 1) is range(0, 5)\n",
      "current_unfairness 200 = \n",
      " arr[i + k - 1] is 300 - arr[i] is 100\n",
      " range(len(arr) - k + 1) is range(0, 5)\n",
      "current_unfairness 9800 = \n",
      " arr[i + k - 1] is 10000 - arr[i] is 200\n",
      "20\n"
     ]
    }
   ],
   "source": [
    "arr = [10,100,300,200,10000,20,30]\n",
    "k = 3\n",
    "result = maxMin_b(k, arr)\n",
    "print(result)"
   ]
  },
  {
   "cell_type": "markdown",
   "id": "3f5894b4",
   "metadata": {},
   "source": [
    ".To improve my earlier implementation which has some inefficiencies and failed for time out on half the tests,because of unnecessary list slicing and repetitive calculations within the loop.im looking for efficiencies in loop structure, within the context of finding the minimum unfairness in an array segment of length `k`. The line `for i in range(len(arr) - k + 1):` i\n",
    "### Purpose\n",
    "\n",
    "The purpose of this loop is to iterate through all possible contiguous subarrays of length `k` within the sorted array `arr`. After sorting, the elements of `arr` are in ascending order. The \"unfairness\" of any subarray is the difference between the maximum and minimum elements in that subarray. Since the array is sorted, for any subarray of length `k`, the minimum element is at the start of the subarray, and the maximum element is at the end.\n",
    "\n",
    "### Breakdown\n",
    "\n",
    "- `len(arr)`: This gives the total number of elements in the array `arr`.\n",
    "- `len(arr) - k`: If you have an array of length `n` and you want to look at subarrays of length `k`, there are `n - k + 1` such subarrays. This is because as you slide a window of length `k` across the array from the start, you hit the end of the possibility to form a new subarray when the start of your window is at `n - k`. Adding one more to this position would exceed the array bounds for a subarray of length `k`.\n",
    "- `range(len(arr) - k + 1)`: This creates an iterator that goes from `0` to `len(arr) - k`, inclusive. The iterator `i` represents the starting index of each subarray of length `k` that can be formed within `arr`.\n",
    "\n",
    "### Example\n",
    "\n",
    "Consider an array `arr` of length `10`, and you want to find subarrays of length `3`:\n",
    "\n",
    "- `len(arr)` is `10`.\n",
    "- `k` is `3`.\n",
    "- `len(arr) - k + 1` is `8` (`10 - 3 + 1`).\n",
    "\n",
    "So, the range will be `range(8)`, which means `i` will take on values from `0` to `7`. These are exactly the starting indices of all subarrays of length `3` you can form:\n",
    "\n",
    "- Starting at `0`: The subarray includes elements `0, 1, 2`.\n",
    "- Starting at `1`: The subarray includes elements `1, 2, 3`.\n",
    "- ...\n",
    "- Starting at `7`: The subarray includes elements `7, 8, 9`.\n",
    "\n",
    "### Visualizing the Loop\n",
    "\n",
    "For each iteration of the loop:\n",
    "\n",
    "- The variable `i` represents the starting index of the current subarray being considered.\n",
    "- `arr[i]` is the first element of the subarray (the smallest, since `arr` is sorted).\n",
    "- `arr[i + k - 1]` is the last element of the subarray (the largest).\n",
    "- The unfairness of this subarray is `arr[i + k - 1] - arr[i]`.\n",
    "- The loop checks each of these subarrays to find the one with the minimum unfairness.\n",
    "\n",
    "This efficient looping mechanism ensures that every possible subarray of length `k` is considered without any redundancy, and it leverages the sorted nature of `arr` to minimize computational overhead."
   ]
  },
  {
   "cell_type": "markdown",
   "id": "22a30ec0",
   "metadata": {},
   "source": [
    "# Q7_a"
   ]
  },
  {
   "cell_type": "code",
   "execution_count": null,
   "id": "a762ef16",
   "metadata": {},
   "outputs": [],
   "source": []
  },
  {
   "cell_type": "code",
   "execution_count": 36,
   "id": "32c7d283",
   "metadata": {},
   "outputs": [],
   "source": [
    "#!/bin/python3\n",
    "\n",
    "import math\n",
    "import os\n",
    "import random\n",
    "import re\n",
    "import sys\n",
    "\n",
    "#\n",
    "# Complete the 'plusMinus' function below.\n",
    "#\n",
    "# The function accepts INTEGER_ARRAY arr as parameter.\n",
    "#\n",
    "\n",
    "def plusMinus(arr):\n",
    "    # Write your code here\n",
    "    pos,neg,zeo = 0,0,0\n",
    "    count = len(arr)\n",
    "    \n",
    "    for i in arr:\n",
    "        if i < 0:\n",
    "            neg += 1\n",
    "        elif i > 0:\n",
    "            pos += 1\n",
    "        elif i == 0:\n",
    "            zeo += 1\n",
    "\n",
    "    print (f\"{round(pos/count, 6)}\\n{round(neg/count,6)}\\n{round(zeo/count,6)}\")\n",
    "\n",
    "                \n",
    "\n",
    "\n"
   ]
  },
  {
   "cell_type": "code",
   "execution_count": 37,
   "id": "0674a3ce",
   "metadata": {},
   "outputs": [
    {
     "name": "stdout",
     "output_type": "stream",
     "text": [
      "0.333333\n",
      "0.333333\n",
      "0.333333\n"
     ]
    }
   ],
   "source": [
    "arr = [1, 1, 0, -1,-1,0]\n",
    "plusMinus(arr)"
   ]
  },
  {
   "cell_type": "markdown",
   "id": "844b9f0e",
   "metadata": {},
   "source": [
    "# Q7_b"
   ]
  },
  {
   "cell_type": "markdown",
   "id": "a2f8acf0",
   "metadata": {},
   "source": [
    "* Declare a 2-dimensional array, arr , of n  empty arrays. All arrays are zero indexed.\n",
    "* Declare an integer, LastAnswer , and initialize it to 0 .\n",
    "There are 2  types of queries, given as an array of strings for you to parse:\n",
    "Query: 1 x y\n",
    "Let  idx = ((x XOR LastAnswer) % n)\n",
    "Append the integer y to arr[idx].\n",
    "\n",
    "Query: 2 x y\n",
    "Let idx = ((x XOR LastAnswer) % n)\n",
    "Assign the value arr[idx][y % size(arr[idx])] to LastAnswer.\n",
    "Store the new value of LastAnswer to an answers array.\n",
    "finally , size(arr[idx]) is the number of elements in arr[idx]"
   ]
  },
  {
   "cell_type": "code",
   "execution_count": null,
   "id": "587cb1e3",
   "metadata": {},
   "outputs": [],
   "source": [
    "#!/bin/python3\n",
    "\n",
    "import math\n",
    "import os\n",
    "import random\n",
    "import re\n",
    "import sys\n",
    "\n",
    "#\n",
    "# Complete the 'dynamicArray' function below.\n",
    "#\n",
    "# The function is expected to return an INTEGER_ARRAY.\n",
    "# The function accepts following parameters:\n",
    "#  1. INTEGER n\n",
    "#  2. 2D_INTEGER_ARRAY queries\n",
    "#\n",
    "\n",
    "def dynamicArray(n, queries):\n",
    "    # Write your code here\n",
    "    lastAnswer = 0\n",
    "    rows, cols = (n, n)\n",
    "    arr = [[0]*cols]*rows\n",
    "print(arr)\n",
    "\n",
    "\n"
   ]
  },
  {
   "cell_type": "code",
   "execution_count": null,
   "id": "edda9c07",
   "metadata": {},
   "outputs": [],
   "source": [
    "queries = []\n",
    "n = 5\n",
    "dynamicArray(n, queries)\n",
    "\n",
    "\n",
    "\n"
   ]
  },
  {
   "cell_type": "code",
   "execution_count": 1,
   "id": "f7d7528a",
   "metadata": {},
   "outputs": [
    {
     "name": "stdout",
     "output_type": "stream",
     "text": [
      "[0, 0, 0, 0, 0]\n"
     ]
    }
   ],
   "source": [
    "N = 5\n",
    "arr = [0 for i in range(N)]\n",
    "print(arr)"
   ]
  },
  {
   "cell_type": "code",
   "execution_count": 2,
   "id": "513e2f51",
   "metadata": {},
   "outputs": [
    {
     "name": "stdout",
     "output_type": "stream",
     "text": [
      "[[0, 0, 0, 0, 0], [0, 0, 0, 0, 0], [0, 0, 0, 0, 0], [0, 0, 0, 0, 0], [0, 0, 0, 0, 0]]\n"
     ]
    }
   ],
   "source": [
    "rows, cols = (N, N)\n",
    "arr = [[0]*cols]*rows\n",
    "print(arr)"
   ]
  },
  {
   "cell_type": "code",
   "execution_count": 3,
   "id": "6ebceca8",
   "metadata": {},
   "outputs": [
    {
     "name": "stdout",
     "output_type": "stream",
     "text": [
      "[7, 3]\n"
     ]
    }
   ],
   "source": [
    "# Solution\n",
    "def dynamicArray(n, queries):\n",
    "    # Initialize variables\n",
    "    arr = [[] for _ in range(n)]\n",
    "    lastAnswer = 0\n",
    "    answers = []\n",
    "\n",
    "    # Process queries\n",
    "    for query in queries:\n",
    "        # Parse query type, x, and y\n",
    "        q_type, x, y = query\n",
    "\n",
    "        # Determine index (idx)\n",
    "        idx = (x ^ lastAnswer) % n\n",
    "\n",
    "        if q_type == 1:\n",
    "            # Append y to the array at index idx\n",
    "            arr[idx].append(y)\n",
    "        elif q_type == 2:\n",
    "            # Retrieve value from array at index idx and assign to lastAnswer\n",
    "            size = len(arr[idx])\n",
    "            lastAnswer = arr[idx][y % size]\n",
    "            # Store lastAnswer in answers array\n",
    "            answers.append(lastAnswer)\n",
    "\n",
    "    return answers\n",
    "\n",
    "# Example usage:\n",
    "n = 2\n",
    "queries = [\n",
    "    [1, 0, 5],\n",
    "    [1, 1, 7],\n",
    "    [1, 0, 3],\n",
    "    [2, 1, 0],\n",
    "    [2, 1, 1]\n",
    "]\n",
    "print(dynamicArray(n, queries))  # Output: [7, 3]\n"
   ]
  },
  {
   "cell_type": "code",
   "execution_count": 10,
   "id": "0b2495c3",
   "metadata": {},
   "outputs": [
    {
     "name": "stdout",
     "output_type": "stream",
     "text": [
      "[[], []]\n"
     ]
    }
   ],
   "source": [
    "arr = [[] for _ in range(2)]\n",
    "print(arr)"
   ]
  },
  {
   "cell_type": "code",
   "execution_count": 20,
   "id": "51d239ff",
   "metadata": {},
   "outputs": [
    {
     "name": "stdout",
     "output_type": "stream",
     "text": [
      "q= 1, x=0, y=5\n",
      "xor = 0  idx = 0\n",
      "q= 1, x=1, y=7\n",
      "xor = 1  idx = 1\n",
      "q= 1, x=0, y=3\n",
      "xor = 1  idx = 1\n",
      "q= 2, x=1, y=0\n",
      "xor = 0  idx = 0\n",
      "q= 2, x=1, y=1\n",
      "xor = 1  idx = 1\n"
     ]
    }
   ],
   "source": [
    "lastAnswer = 0\n",
    "for query in queries:\n",
    "    q, x, y = query\n",
    "    print(f\"q= {q}, x={x}, y={y}\")\n",
    "    \n",
    "    xor = (x ^ lastAnswer)\n",
    "    idx = xor % n\n",
    "    lastAnswer = idx\n",
    "    \n",
    "    print (f\"xor = {xor}  idx = {idx}\")\n",
    "    "
   ]
  },
  {
   "cell_type": "code",
   "execution_count": 19,
   "id": "c78892dd",
   "metadata": {},
   "outputs": [
    {
     "data": {
      "text/plain": [
       "0"
      ]
     },
     "execution_count": 19,
     "metadata": {},
     "output_type": "execute_result"
    }
   ],
   "source": [
    " 0 % 2"
   ]
  },
  {
   "cell_type": "markdown",
   "id": "bbe3e2ff",
   "metadata": {},
   "source": [
    "# Q8"
   ]
  },
  {
   "cell_type": "markdown",
   "id": "e1a2b16e",
   "metadata": {},
   "source": [
    "Given a square grid of characters in the range ascii[a-z], rearrange elements of each row alphabetically, ascending. Determine if the columns are also in ascending alphabetical order, top to bottom. Return YES if they are or NO if they are not."
   ]
  },
  {
   "cell_type": "code",
   "execution_count": 38,
   "id": "a6fe4428",
   "metadata": {},
   "outputs": [],
   "source": [
    "#!/bin/python3\n",
    "\n",
    "import math\n",
    "import os\n",
    "import random\n",
    "import re\n",
    "import sys\n",
    "\n",
    "#\n",
    "# Complete the 'gridChallenge' function below.\n",
    "#\n",
    "# The function is expected to return a STRING.\n",
    "# The function accepts STRING_ARRAY grid as parameter.\n",
    "#\n",
    "\n",
    "def gridChallenge(grid):\n",
    "    ans = 'True'\n",
    "\n",
    "    for i in range(len(grid)-1):\n",
    "            word_a = sorted(grid[i])\n",
    "            word_b = sorted(grid[i+1])\n",
    "            print(f\" word_a:{word_a} , word_b:{word_b}\")\n",
    "            result = [a <= b for a, b in zip(word_a, word_b)]\n",
    "            print(result)\n",
    "            if False in result:\n",
    "                ans = \"False\"\n",
    "                break\n",
    "    return ans\n"
   ]
  },
  {
   "cell_type": "code",
   "execution_count": 39,
   "id": "8645e36c",
   "metadata": {},
   "outputs": [
    {
     "name": "stdout",
     "output_type": "stream",
     "text": [
      " word_a:['p', 'p', 'p'] , word_b:['p', 'p', 'y']\n",
      "[True, True, True]\n",
      " word_a:['p', 'p', 'y'] , word_b:['w', 'w', 'y']\n",
      "[True, True, True]\n",
      "{'True'}\n"
     ]
    }
   ],
   "source": [
    "grid = ['ppp','ypp','wyw']\n",
    "\n",
    "result = gridChallenge(grid)\n",
    "print({result})"
   ]
  },
  {
   "cell_type": "markdown",
   "id": "201d9464",
   "metadata": {},
   "source": [
    "Alternate version"
   ]
  },
  {
   "cell_type": "code",
   "execution_count": null,
   "id": "4b985450",
   "metadata": {},
   "outputs": [],
   "source": [
    "def gridChallenge(grid):\n",
    "    # Sort each row of the grid first\n",
    "    sorted_grid = [sorted(row) for row in grid]\n",
    "\n",
    "    # Iterate through columns\n",
    "    for col in range(len(sorted_grid[0])):\n",
    "        # Check if current column is sorted\n",
    "        for row in range(len(sorted_grid) - 1):\n",
    "            if sorted_grid[row][col] > sorted_grid[row + 1][col]:\n",
    "                return False\n",
    "    return True\n"
   ]
  },
  {
   "cell_type": "markdown",
   "id": "601701e6",
   "metadata": {},
   "source": [
    "# Q9"
   ]
  },
  {
   "cell_type": "code",
   "execution_count": null,
   "id": "4cb9eb9a",
   "metadata": {},
   "outputs": [],
   "source": []
  },
  {
   "cell_type": "code",
   "execution_count": 9,
   "id": "b0bbd23e",
   "metadata": {},
   "outputs": [
    {
     "name": "stdout",
     "output_type": "stream",
     "text": [
      "6548467549\n"
     ]
    },
    {
     "ename": "IndexError",
     "evalue": "list index out of range",
     "output_type": "error",
     "traceback": [
      "\u001b[0;31m---------------------------------------------------------------------------\u001b[0m",
      "\u001b[0;31mIndexError\u001b[0m                                Traceback (most recent call last)",
      "Cell \u001b[0;32mIn[9], line 63\u001b[0m\n\u001b[1;32m     61\u001b[0m date \u001b[38;5;241m=\u001b[39m re\u001b[38;5;241m.\u001b[39msplit(\u001b[38;5;124m'\u001b[39m\u001b[38;5;124m-| \u001b[39m\u001b[38;5;124m'\u001b[39m, line)\n\u001b[1;32m     62\u001b[0m d1 \u001b[38;5;241m=\u001b[39m \u001b[38;5;28mint\u001b[39m(date[\u001b[38;5;241m0\u001b[39m])\n\u001b[0;32m---> 63\u001b[0m m1 \u001b[38;5;241m=\u001b[39m \u001b[38;5;28mint\u001b[39m(date[\u001b[38;5;241m1\u001b[39m])\n\u001b[1;32m     64\u001b[0m y1 \u001b[38;5;241m=\u001b[39m \u001b[38;5;28mint\u001b[39m(date[\u001b[38;5;241m2\u001b[39m])\n\u001b[1;32m     65\u001b[0m d2 \u001b[38;5;241m=\u001b[39m \u001b[38;5;28mint\u001b[39m(date[\u001b[38;5;241m3\u001b[39m])\n",
      "\u001b[0;31mIndexError\u001b[0m: list index out of range"
     ]
    }
   ],
   "source": [
    "import re\n",
    "month = []\n",
    "\n",
    "def updateLeapYear(year):\n",
    "    if year % 400 == 0:\n",
    "        month[2] = 29 # change 1\n",
    "    elif year % 100 == 0: \n",
    "        month[2] = 28 # change 2\n",
    "    elif year % 4 == 0:\n",
    "        month[2] = 29\n",
    "    else:\n",
    "        month[2] = 28\n",
    "\n",
    "def storeMonth():\n",
    "    month[1] = 31\n",
    "    month[2] = 28\n",
    "    month[3] = 31\n",
    "    month[4] = 30\n",
    "    month[5] = 31\n",
    "    month[6] = 30\n",
    "    month[7] = 31\n",
    "    month[8] = 31\n",
    "    month[9] = 30\n",
    "    month[10] = 31\n",
    "    month[11] = 30\n",
    "    month[12] = 31\n",
    "\n",
    "def findPrimeDates(d1, m1, y1, d2, m2, y2):\n",
    "    storeMonth()\n",
    "    result = 0\n",
    "\n",
    "\n",
    "    while (True):\n",
    "        x = d1\n",
    "        x = x * 100 + m1\n",
    "        x = x * 10000 + y1 # change 3\n",
    "        \n",
    "        if x % 4 == 0 or x % 7 == 0: #Change 4\n",
    "            result += 1\n",
    "            #print(f\"Date {x} is Lucky\")\n",
    "        #else:\n",
    "            #print(f\"date {x} is NOT Lucky\")\n",
    "                        \n",
    "        if d1 == d2 and m1 == m2 and y1 == y2:\n",
    "            break\n",
    "        updateLeapYear(y1)\n",
    "        d1 = d1 + 1\n",
    "        if d1 > month[m1]: \n",
    "            m1 = m1 + 1\n",
    "            d1 = 1\n",
    "            if m1 > 12:\n",
    "                y1 =  y1 + 1\n",
    "                m1 = 1 # change 5\n",
    "    return result \n",
    "\n",
    "for i in range(1, 15):\n",
    "    month.append(31)\n",
    "    #print(i)\n",
    "\n",
    "line = input()\n",
    "date = re.split('-| ', line)\n",
    "d1 = int(date[0])\n",
    "m1 = int(date[1])\n",
    "y1 = int(date[2])\n",
    "d2 = int(date[3])\n",
    "m2 = int(date[4])\n",
    "y2 = int(date[5])\n",
    "print(f\"d1,{d1} m1,{m1} y1,{y1} d2,{d2} m2,{m2} y2,{y2}\")\n",
    "result = findPrimeDates(d1, m1, y1, d2, m2, y2)\n",
    "print(result)\n",
    "\n",
    "\n",
    "\n"
   ]
  },
  {
   "cell_type": "markdown",
   "id": "aee78341",
   "metadata": {},
   "source": [
    "# Q10"
   ]
  },
  {
   "cell_type": "markdown",
   "id": "44d5bc2c",
   "metadata": {},
   "source": [
    "Sherlock array:"
   ]
  },
  {
   "cell_type": "code",
   "execution_count": 5,
   "id": "822f35eb",
   "metadata": {},
   "outputs": [],
   "source": [
    "#!/bin/python3\n",
    "\n",
    "import math\n",
    "import os\n",
    "import random\n",
    "import re\n",
    "import sys\n",
    "\n",
    "#\n",
    "# Complete the 'balancedSums' function below.\n",
    "#\n",
    "# The function is expected to return a STRING.\n",
    "# The function accepts INTEGER_ARRAY arr as parameter.\n",
    "# Initally we did sum of slices , but this was computationally inefficient.\n",
    "# final solution was to inally sum the array and increment / decrement bothe sides\n",
    "\n",
    "def balancedSums(arr):\n",
    "    # Write your code here\n",
    "    ans = \"NO\"\n",
    "    idx_tot_a = sum(arr)\n",
    "    idx_tot_b = 0\n",
    "    #print (idx_tot)\n",
    "    if len(arr) == 1:\n",
    "        ans = \"YES\"\n",
    "    for i in range(len(arr)-1):\n",
    "        idx_tot_b = idx_tot_b + arr[i]\n",
    "        if idx_tot_b == idx_tot_a:\n",
    "            ans = \"YES\"\n",
    "            break\n",
    "        else:\n",
    "            idx_tot_a = idx_tot_a - arr[i]\n",
    "            \n",
    "    return ans\n",
    "        \n",
    "        \n",
    "        \n",
    "        \n",
    "\n"
   ]
  },
  {
   "cell_type": "code",
   "execution_count": 6,
   "id": "cbf04413",
   "metadata": {},
   "outputs": [
    {
     "name": "stdout",
     "output_type": "stream",
     "text": [
      "YES\n"
     ]
    }
   ],
   "source": [
    "arr = [1,1,2,1,1]\n",
    "result = balancedSums(arr)\n",
    "\n",
    "print(result)"
   ]
  },
  {
   "cell_type": "markdown",
   "id": "2fea2ea7",
   "metadata": {},
   "source": [
    "# Q11"
   ]
  },
  {
   "cell_type": "code",
   "execution_count": null,
   "id": "50e44afa",
   "metadata": {},
   "outputs": [],
   "source": []
  },
  {
   "cell_type": "code",
   "execution_count": 15,
   "id": "527fb39d",
   "metadata": {},
   "outputs": [],
   "source": [
    "#!/bin/python3\n",
    "\n",
    "import math\n",
    "import os\n",
    "import random\n",
    "import re\n",
    "import sys\n",
    "\n",
    "#\n",
    "# Complete the 'superDigit' function below.\n",
    "#\n",
    "# The function is expected to return an INTEGER.\n",
    "# The function accepts following parameters:\n",
    "#  1. STRING n\n",
    "#  2. INTEGER k\n",
    "#\n",
    "\n",
    "def superDigit(n,k):\n",
    "    #print(\"strat\")\n",
    "    # Write your code here\n",
    "    \n",
    "    p = n * k\n",
    "\n",
    "    p_list = list(p)\n",
    "\n",
    "    while len(p_list) > 1:\n",
    "        total = 0\n",
    "        for i in p_list:\n",
    "            x = int(i)\n",
    "            total = total + x\n",
    "\n",
    "        p_list = list(str(total))\n",
    "\n",
    "    return int(p_list[0])\n",
    "\n"
   ]
  },
  {
   "cell_type": "code",
   "execution_count": 23,
   "id": "40d36506",
   "metadata": {},
   "outputs": [],
   "source": [
    "# alternate solution\n",
    "def superDigit(n, k):\n",
    "    p = n * k  # Repeat the string n, k times\n",
    "    while len(p) > 1:\n",
    "        total = sum(int(i) for i in p)  # Calculate the sum of digits\n",
    "        p = str(total)  # Convert total back to string for next iteration\n",
    "    return int(p)  # Ensure the return value is an integer\n",
    "\n",
    "# Example usage\n",
    "#n = \"123\"\n",
    "#k = 3\n",
    "#print(superDigit(n, k))\n"
   ]
  },
  {
   "cell_type": "code",
   "execution_count": 2,
   "id": "3f3b2430",
   "metadata": {},
   "outputs": [
    {
     "name": "stdout",
     "output_type": "stream",
     "text": [
      "7\n"
     ]
    }
   ],
   "source": [
    "n = '2365978831649490136475575038877779575813226775851820912370812124502641538947920808397703549713678494683928497712437176140282589350277653479225520602813456433277417366680426198633681891184348757007292907409160353745221125354212095528784124728447770959861439390350308313917365021363541712618686942946773324003146008424205688630371656757561012224744901800726911246423272186301595490993253791386102270201965996662707215300748516732223935858816466886068592299708740453558018878677753623653080545592459765998008028026982510689469213738241205802446029154833458048894002646934119082621498341445221491190955459548371083839625590505228681017724678315572531551988758568150699821635779156685637531274097856486075649357610713833072735231599919848220063026429718137766286716343385059699133211699189933339174843625266398503099203416124466032711453854413933737536836406105991857744766344461162222670876732729171585512468615558499979720269427922798431312270483732004392503905160233457811525428432787732543799783309593536386190295516419339222642886780012683583264436427241020490358960438948951090123073035203797984302163150042110707217274102457735317367100133807782064391421012191958312396649052833396257876824943425814834615313474161638240747120342368147351931074481983318414461554116111216672594256301273113776892080967125790153125125885441941114178586071406149630777323200516190208241341822285244325578953416388462284725673478766919050744786263188733438572307443267700831425575113213359873223948072988922668251652320316884761627830570057061821492039968369341602081382603302965910382997241199808824091331180464950187035576778206683245316006405529597170652549163351875206280564448346510252775085876212617353369513619186390565654064068546863018765466029315754619416429621887091818939474391383675337791979997519954871635692656223852981330368145996344325688247632566665645262588764650823901065646663460851602833982853795901687202035893967893724362979886948663369428689585509715442019662325024294581705265808022570365351645495802686891955348084550615538750809287498241260408673517746608582833123696027380353038348218786331710334697053069152326732702246704177127367642287975998486114018970510842276024855162228267767755948030029723573646908844109049374244456580474922058250964260437721278380069311972455077102266167098465788845261016395772392904280411167763443571285141388567074805986331207454652671618663858701085276806486000014124900483188940484497173286284987124699515039831183902383877120136788492339903316093693938833730548247174799553092402671083313285813003903363625219370039413610850308966558948057932583576771492037811460439359542902624599661588624295232252616245186844975995180218889230403968087888108494214819234992007182241562844376961711438491105585390645332161544542326095869642445733823661806228697208277656426326128938546125761166960351482948539114133280810916317873360419836067625116114001377672929333638768292095236809153349426894896869446197395671771932928211109385884940274160388152027885130001908095515987519207099973668415699818805100890690896126345099249836616348702742776559368591004254298734292430313132506862931339852599450961120591169865484036943294045257801193102728400887526383477970523720630900867795111210451854194391002244150921934506879640791680297603712618076174694948300699937409787596860516266369711284028834238022724596540529491965656156574337073988564171171562036245389632730259264953520190321920347601255396137920500496074443380910841069973360586715775083998842187392360751892748665579312212647821816086677544702037289983388842777905728540745718314922321086695691823249801139552886748181144717500999021690749662561227798159566905725946118195067702032931332172088385727012140744362147720922176656204772910422189621466379287662792372374145383317294646977085291873933547226857758530880168793511465268400187943977613894365634645591604177130794105552582447385631392788652188052953414781129655671439788151513996304231024358843023105354157338564270003904673736178109502550650713167258319522545824056524791781105181639237127875356417268878249642171688744070159985867211941494396566216365392991627962886902198712613982017603237174682825814797983967054038269833008728407345912699623004623467287738296110774212005294050799218227654983820235796069236099706911525806244933683548619651925300435846989868138976944006822652462513903624200398184640627878400159480147462063679751851193719499676402496701528971830054482832320057097082360875809145428036636600549270698504540758319126452884313155162288201445118708935758033035083555929081756050975974040793712887964439001525986626643925845343840647344753344394209812309532147589135665638895095150172324875219965305745649692175878476631167339609984047545458299489650202318886162798841051758853022389219423402386031324398337411422060786064174337895040820526914615325075313448800789763344707190242881920892579588963376086146960633381215378914452523108903834607764477580583821712879080194987840450703336371649758616364805184545636558639909806705757141231728890945705281578891764357530862478284617890886615612608017861029342475376559517893073874528735689724989147963227442563141916115837740823088920018306622898786665697436694114134566032298418513134640110497915781256013658157626876007303865007938799121914067544773285391447059337068967640221461662745594510968605338966108977317081902507941847885331172633986644666002196037962414608353479436996966565895587993028389782659415971152403029518493019029205611785920255633270560095438637318885230551138363908343081523545591224134467205438637992783829259919217744713264231649621461535887435410548366408012977973203459983761967831442350892580662433295719596302715165438994052920660204857279403439598616231631708579334309451829396365207336409446940374623441420435439989058506571776629533788131454314121504595268258657172190365178279637763408587826711292793610001999656837923788319438384372260168303662843086203813103771712423574817520332644704407707584630263836497460974781867543909787940278207946350316762434685271126547340568379697114143432270663747926423410939366867323227307888313764100323948708488249291932762190879422500980573314510481474989813161818046596342997489244092851481456635241462079248335760582513488928151459281907438730238065382341691833250917737617330046824951709287812847967496061820848573006896422220098029186444659696393722864425443174804115295661452095886127784785656396807536597522937517010395385281668735072368362229248386090765688300603292905737705424037244946746445640174635429078019229973366378415273692915764515173009646632256826278792193749314522687455317800604524740119271772480341422364037622841158408693597798800732407214231715176216414119458470398433698630492023148912788371335047944731850924533486580463894436416946298869397354691924065211837844914014837056117850937923852135361875895012428779496342389871713463333419295329258828037504468306416370691252321110783303933730724981220411655523128107813025668960480700236419568269112404054054013255954297124592253625509027169128346186086879842249233969016492009074059375814396213470661585889025858173286307393463166771278528359358679107663618852904436981159408575155381452852538538161326799566605463071606829507721627760695695298663348037499346965080571845983286426728562771057921340809114888275207834276278723670038713251819678117637307797126524335451875674322135660001938501046206646725087020563845482789165114015140237476770960542212541262365674096922377749965211055083880951870947588439313087505990968967904452943561444336754539161497904651842954423690339860136920316455021978105823558793189756025331264642326253916951167641064028719315782248353333706214902160610987866723541787809188383034860801960339654982067421224921066723519523759569071993168783868197116308035921525346492767986090665094574147296651701824963729081365854249511700896706324052098265362182297874817162325372836249682033460453106454759294279011517085352648052686287835826956331856000530656816094258663224239727567999798475939204052755892731997428948369450364798425229576414764799300949556003266863462364785971588403993047829919672884685002127952124093077144535644623315342420032186819555104280110883937594970132297831017511120535205810256141119655336117669459771376005411248881994640753601606805393583940281645304757423903447751752383876356426048210439751541893763188890403792485964646286690953432929961087972625329578244854544295899075470411907779181886987220577672224785177419791954783277253421243333498197370278143247403594312138218592254174197047846302000164735966226394070001204323764164912690541799927573761616438820835021411743898829210130296149250887986491553547221899402096605456148489590866922112294624680546281250567297009605663936998939340731539740128008013832941045470722922727419033890751091173021386847464099733717633316304536930447077599861319788266450790785072377536483225439587367122393671167950836029510856465462738804587713268436992128892171509071641161165880608224322539890931445909082786991260734902410993863449929626354001121991398640542747424891140797115509495342486678389565402504229791244504867508301342798992744796454984189142033193018659744179186808244403688375727771580862592404226696538971232713170205127941869698531179001250635892043048835137445218382957976989721755706861701366347894376710532041643279157597459032202591566808167568419301491754821992741943996185368155017334681412500723160011387595363158410560488203993638466615700276165502049790282263414502568166837301414930688269694553727263733690839349714652132206285243796184219815308355634318194592022805870387606542297381666905458451054204419608774066516116961329031388338821535694456637910702328420582124442440139995352494707284230907975581024232726130673375360163257154562557607055131368534412734263401317160921075802949888891100336188281116884460133424076740001934250575466042922149519629860344218277351996828116545149383178424384811799946144322536711027462093434842033767504492071349955677051700618860129870409856113128392373584622061075886499407885141951318807519645386474'\n",
    "k = 100000\n",
    "\n",
    "result = superDigit(n, k)\n",
    "print(result)"
   ]
  },
  {
   "cell_type": "code",
   "execution_count": 1,
   "id": "52ef6d5c",
   "metadata": {},
   "outputs": [],
   "source": [
    "def superDigit(n, k):\n",
    "    # Initial sum of digits in n, multiplied by k, to get the starting point.This has the effect\n",
    "    # of scaling the starting number down and making it more mabnagable.\n",
    "    initial_sum = sum(int(digit) for digit in n) * k\n",
    "    \n",
    "    # Utilize the digital root formula to find the super digit efficiently.\n",
    "    def digitalRoot(num):\n",
    "        if num == 0:\n",
    "            return 0\n",
    "        else:\n",
    "            return 1 + (num - 1) % 9 # modulo 9 formula\n",
    "    \n",
    "    # Apply the digital root function to the initial sum.\n",
    "    return digitalRoot(initial_sum)"
   ]
  },
  {
   "cell_type": "code",
   "execution_count": null,
   "id": "a725a2fc",
   "metadata": {},
   "outputs": [],
   "source": []
  }
 ],
 "metadata": {
  "kernelspec": {
   "display_name": "Python 3 (ipykernel)",
   "language": "python",
   "name": "python3"
  },
  "language_info": {
   "codemirror_mode": {
    "name": "ipython",
    "version": 3
   },
   "file_extension": ".py",
   "mimetype": "text/x-python",
   "name": "python",
   "nbconvert_exporter": "python",
   "pygments_lexer": "ipython3",
   "version": "3.11.5"
  }
 },
 "nbformat": 4,
 "nbformat_minor": 5
}
