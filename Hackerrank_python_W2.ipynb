{
 "cells": [
  {
   "cell_type": "markdown",
   "id": "1a011244",
   "metadata": {},
   "source": [
    "# Q1"
   ]
  },
  {
   "cell_type": "markdown",
   "id": "c080438a",
   "metadata": {},
   "source": [
    "There is a large pile of socks that must be paired by color. Given an array of integers representing the color of each sock, determine how many pairs of socks with matching colors there are.\n",
    "Example\n",
    "n=7\n",
    "ar = [1,2,1,2,1,3,2]\n",
    "\n",
    "Answer the number of pairs is 2\n",
    "\n",
    "\n",
    "\n",
    "There is one pair of color  and one of color . There are three odd socks left, one of each color. The number of pairs is .\n",
    "Function Description\n",
    "Complete the sockMerchant function in the editor below.\n",
    "sockMerchant has the following parameter(s):\n",
    "int n: the number of socks in the pile\n",
    "int ar[n]: the colors of each sock\n",
    "Returns\n",
    "int: the number of pairs"
   ]
  },
  {
   "cell_type": "code",
   "execution_count": 28,
   "id": "a638d78f",
   "metadata": {},
   "outputs": [],
   "source": [
    "#!/bin/python3\n",
    "\n",
    "import math\n",
    "import os\n",
    "import random\n",
    "import re\n",
    "import sys\n",
    "\n",
    "#\n",
    "# Complete the 'sockMerchant' function below.\n",
    "#\n",
    "# The function is expected to return an INTEGER.\n",
    "# The function accepts following parameters:\n",
    "#  1. INTEGER n\n",
    "#  2. INTEGER_ARRAY ar\n",
    "#\n",
    "\n",
    "def sockMerchant(n, ar):\n",
    "    # Write your code here\n",
    "    ar.sort()\n",
    "    print(ar)\n",
    "    pair_count = 0\n",
    "    i=0\n",
    "    while i < (n-1):\n",
    "        if ar[i] == ar[i+1]:\n",
    "            pair_count +=1\n",
    "            i +=2\n",
    "        else:\n",
    "            i +=1\n",
    "    return pair_count\n",
    "            \n",
    "            \n",
    "    \n",
    "\n",
    "\n"
   ]
  },
  {
   "cell_type": "code",
   "execution_count": 29,
   "id": "485d257b",
   "metadata": {},
   "outputs": [
    {
     "name": "stdout",
     "output_type": "stream",
     "text": [
      "[1, 1, 1, 2, 2, 2, 3]\n",
      "2\n"
     ]
    }
   ],
   "source": [
    "ar = [1,2,1,2,1,3,2]\n",
    "n = 7\n",
    "result = sockMerchant(n, ar)\n",
    "print (result)"
   ]
  },
  {
   "cell_type": "markdown",
   "id": "f9b25c3e",
   "metadata": {},
   "source": [
    "# Q2"
   ]
  },
  {
   "cell_type": "markdown",
   "id": "936d1b75",
   "metadata": {},
   "source": [
    "In this challenge, the task is to debug the existing code to successfully execute all provided test files.\n",
    "Given an array of n distinct integers, transform the array into a zig zag sequence by permuting the array elements. A sequence will be called a zig zag sequence if the first k elements in the sequence are in increasing order and the last k elements are in decreasing order, wherek = (n+1)/2 . You need to find the lexicographically smallest zig zag sequence of the given array.\n",
    "\n",
    "Example.\n",
    "\n",
    "Now if we permute the array as , the result is a zig zag sequence.\n",
    "Debug the given function findZigZagSequence to return the appropriate zig zag sequence for the given input array."
   ]
  },
  {
   "cell_type": "code",
   "execution_count": 32,
   "id": "d4805a3f",
   "metadata": {},
   "outputs": [],
   "source": [
    "# debugging this code\n",
    "def findZigZagSequence(a, n):\n",
    "    a.sort()\n",
    "    mid = int((n)// 2) # finding the mid way point with no remainder\n",
    "    print(f\"mid: {mid}\")\n",
    "    a[mid], a[n-1] = a[n-1], a[mid] # swapps the mid way element with las element in the list\n",
    "    print(f\"should be 1st zigzagged element: {a}\")\n",
    "    st = mid + 1 # increment 1 from mid point\n",
    "    ed = n - 2 # decrement 1 from end\n",
    "    while(st < ed):\n",
    "        a[st], a[ed] = a[ed], a[st] # swap the elements at this position\n",
    "        st = st + 1 # increment pos cound\n",
    "        ed = ed - 1 # decrement pos count\n",
    "    print(f\"should be zigzagged: {a}\")\n",
    "    for i in range (n):\n",
    "        if i == n-1:\n",
    "            print(a[i])\n",
    "        else:\n",
    "            print(a[i], end = ' ')\n",
    "    return\n"
   ]
  },
  {
   "cell_type": "code",
   "execution_count": 34,
   "id": "ef731a82",
   "metadata": {},
   "outputs": [
    {
     "name": "stdout",
     "output_type": "stream",
     "text": [
      "mid: 3\n",
      "should be 1st zigzagged element: [1, 2, 3, 7, 5, 6, 4]\n",
      "should be zigzagged: [1, 2, 3, 7, 6, 5, 4]\n",
      "1 2 3 7 6 5 4\n"
     ]
    }
   ],
   "source": [
    "a = [1,2,3,4,5,6,7]\n",
    "n = 7\n",
    "findZigZagSequence(a, n)"
   ]
  },
  {
   "cell_type": "markdown",
   "id": "0f88f01e",
   "metadata": {},
   "source": [
    "# Q3 Drawing book"
   ]
  },
  {
   "cell_type": "markdown",
   "id": "d185e5b2",
   "metadata": {},
   "source": [
    "A teacher asks the class to open their books to a page number. A student can either start turning pages from the front of the book or from the back of the book. They always turn pages one at a time. When they open the book, page 1 is always on the right side:\n",
    "\n",
    "When they flip page 1 , they see pages 2 and 3. Each page except the last page will always be printed on both sides. The last page may only be printed on the front, given the length of the book. If the book is n   pages long, and a student wants to turn to page p , what is the minimum number of pages to turn? They can start at the beginning or the end of the book.\n",
    "\n",
    "Given n and p, find and print the minimum number of pages that must be turned in order to arrive at page p .\n",
    "Example n=5,p=3\n",
    "\n",
    "Using the diagram above, if the student wants to get to page , they open the book to page , flip page and they are on the correct page. If they open the book to the last page, page , they turn page and are at the correct page. Return .\n",
    "Function Description\n",
    "Complete the pageCount function in the editor below.\n",
    "pageCount has the following parameter(s):\n",
    "int n: the number of pages in the book\n",
    "int p: the page number to turn to\n",
    "Returns\n",
    "int: the minimum number of pages to turn\n",
    "Input Format\n",
    "The first line contains an integer , the number of pages in the book.\n",
    "The second line contains an integer, , the page to turn to.\n"
   ]
  },
  {
   "cell_type": "code",
   "execution_count": 38,
   "id": "77da965c",
   "metadata": {},
   "outputs": [],
   "source": [
    "#!/bin/python3\n",
    "\n",
    "import math\n",
    "import os\n",
    "import random\n",
    "import re\n",
    "import sys\n",
    "\n",
    "#\n",
    "# Complete the 'pageCount' function below.\n",
    "#\n",
    "# The function is expected to return an INTEGER.\n",
    "# The function accepts following parameters:\n",
    "#  1. INTEGER n\n",
    "#  2. INTEGER p\n",
    "#\n",
    "\n",
    "def pageCount(n, p):\n",
    "    # Write your code here\n",
    "    end = (n)\n",
    "    print(f\"end = {end}\")\n",
    "    forward_turn = p // 2\n",
    "    print(f\" forward_turn = {forward_turn}\")\n",
    "    back_gap = (n-p)\n",
    "    # testing for an edge case where n is even and p = n-1 ie  n = 6 & p = 5, \n",
    "    if (back_gap == 1) and (n%2 == 0):\n",
    "        back_turn = 1\n",
    "    else:\n",
    "        back_turn = (n - p) // 2\n",
    "    print(f\" back_turn = {back_turn}\")\n",
    "    if forward_turn < back_turn:\n",
    "        min_page = forward_turn\n",
    "    else:\n",
    "        min_page = back_turn\n",
    "    return min_page\n",
    "    \n",
    "        \n",
    "\n",
    "\n"
   ]
  },
  {
   "cell_type": "code",
   "execution_count": 39,
   "id": "cc92c3b6",
   "metadata": {},
   "outputs": [
    {
     "name": "stdout",
     "output_type": "stream",
     "text": [
      "end = 5\n",
      " forward_turn = 2\n",
      " back_turn = 0\n",
      " min pages to turn = 0\n"
     ]
    }
   ],
   "source": [
    "if __name__ == '__main__':\n",
    "    #fptr = open(os.environ['OUTPUT_PATH'], 'w')\n",
    "\n",
    "    #n = int(input().strip())\n",
    "    n,p = 5,4\n",
    "\n",
    "    #p = int(input().strip())\n",
    "\n",
    "    result = pageCount(n, p)\n",
    "    print(f\" min pages to turn = {result}\")\n",
    "\n",
    "    #fptr.write(str(result) + '\\n')\n",
    "\n",
    "    #fptr.close()"
   ]
  },
  {
   "cell_type": "code",
   "execution_count": 25,
   "id": "e8977149",
   "metadata": {},
   "outputs": [],
   "source": [
    "#!/bin/python3\n",
    "\n",
    "import math\n",
    "import os\n",
    "import random\n",
    "import re\n",
    "import sys\n",
    "\n",
    "#\n",
    "# Complete the 'pageCount' function below.\n",
    "#\n",
    "# The function is expected to return an INTEGER.\n",
    "# The function accepts following parameters:\n",
    "#  1. INTEGER n\n",
    "#  2. INTEGER p\n",
    "#\n",
    "\n",
    "def pageCount(n, p):\n",
    "    # Write your code here\n",
    "\n",
    "    forward_turn = p // 2\n",
    "\n",
    "    back_turn = (n - p) // 2\n",
    "\n",
    "    if forward_turn < back_turn:\n",
    "        min_page = back_turn\n",
    "    else:\n",
    "        min_page = forward_turn\n",
    "    return min_page\n",
    "    \n",
    "        \n",
    "\n",
    "\n"
   ]
  },
  {
   "cell_type": "markdown",
   "id": "0015efef",
   "metadata": {},
   "source": [
    "# Q4"
   ]
  },
  {
   "cell_type": "markdown",
   "id": "3ed5378f",
   "metadata": {},
   "source": [
    "Two players are playing a game of Tower Breakers! Player 1 always moves first, and both players always play optimally.The rules of the game are as follows:\n",
    "Initially there are n towers.\n",
    "Each tower is of height m .\n",
    "The players move in alternating turns.\n",
    "In each turn, a player can choose a tower of height x  and reduce its height to y , where 1 <= y < x and y evenly divides x.\n",
    "If the current player is unable to make a move, they lose the game.\n",
    "Given the values of n and m, determine which player will win. If the first player wins, return 1 . Otherwise, return 2 ."
   ]
  },
  {
   "cell_type": "code",
   "execution_count": null,
   "id": "dd408786",
   "metadata": {},
   "outputs": [],
   "source": [
    "#!/bin/python3\n",
    "\n",
    "import math\n",
    "import os\n",
    "import random\n",
    "import re\n",
    "import sys\n",
    "\n",
    "#\n",
    "# Complete the 'towerBreakers' function below.\n",
    "#\n",
    "# The function is expected to return an INTEGER.\n",
    "# The function accepts following parameters:\n",
    "#  1. INTEGER n\n",
    "#  2. INTEGER m\n",
    "#\n",
    "\n",
    "def towerBreakers(n, m):\n",
    "    # Write your code here\n",
    "    if n%2 == 1 and m%2 == 1 and m>1:\n",
    "        return 1\n",
    "    elif n%2 == 1 and m%2 == 0:\n",
    "        return 1\n",
    "    else:\n",
    "        return 2\n",
    "\n",
    "\n"
   ]
  },
  {
   "cell_type": "code",
   "execution_count": null,
   "id": "3d484e6b",
   "metadata": {},
   "outputs": [],
   "source": [
    "if __name__ == '__main__':\n",
    "    n = \n",
    "    m = \n",
    "    result = towerBreakers(n, m)\n",
    "    #fptr = open(os.environ['OUTPUT_PATH'], 'w')\n",
    "\n",
    "    #t = int(input().strip())\n",
    "\n",
    "    #for t_itr in range(t):\n",
    "        #first_multiple_input = input().rstrip().split()\n",
    "\n",
    "        #n = int(first_multiple_input[0])\n",
    "\n",
    "        #m = int(first_multiple_input[1])\n",
    "\n",
    "        #result = towerBreakers(n, m)\n",
    "\n",
    "        #fptr.write(str(result) + '\\n')\n",
    "\n",
    "    #fptr.close()"
   ]
  },
  {
   "cell_type": "markdown",
   "id": "a3893761",
   "metadata": {},
   "source": [
    "# Q5"
   ]
  },
  {
   "cell_type": "code",
   "execution_count": null,
   "id": "4116f03c",
   "metadata": {},
   "outputs": [],
   "source": []
  },
  {
   "cell_type": "code",
   "execution_count": 2,
   "id": "ca665aac",
   "metadata": {},
   "outputs": [],
   "source": [
    "#!/bin/python3\n",
    "\n",
    "import math\n",
    "import os\n",
    "import random\n",
    "import re\n",
    "import sys\n",
    "\n",
    "#\n",
    "# Complete the 'caesarCipher' function below.\n",
    "#\n",
    "# The function is expected to return a STRING.\n",
    "# The function accepts following parameters:\n",
    "#  1. STRING s\n",
    "#  2. INTEGER k\n",
    "#\n",
    "\n",
    "def caesarCipher(s, k):\n",
    "    # Write your code here\n",
    "    alpha = range(a-z)\n",
    "    print(alpha)\n",
    "\n",
    "\n"
   ]
  },
  {
   "cell_type": "code",
   "execution_count": 70,
   "id": "833babf3",
   "metadata": {},
   "outputs": [],
   "source": [
    "#if __name__ == '__main__':\n",
    "    #fptr = open(os.environ['OUTPUT_PATH'], 'w')\n",
    "\n",
    "    #n = int(input().strip())\n",
    "\n",
    "    #s = input()\n",
    "\n",
    "    #k = int(input().strip())\n",
    "    \n",
    "k = 100\n",
    "s = \"Middle-oUt\"\n",
    "\n",
    "    #result = caesarCipher(s, k)\n",
    "\n",
    "    #fptr.write(result + '\\n')\n",
    "\n",
    "    #fptr.close()\n"
   ]
  },
  {
   "cell_type": "code",
   "execution_count": 71,
   "id": "9b63659f",
   "metadata": {},
   "outputs": [
    {
     "name": "stdout",
     "output_type": "stream",
     "text": [
      "['d', 'e', 'f', 'g', 'h', 'i', 'j', 'k', 'l', 'm', 'n', 'o', 'p', 'q', 'r', 's', 't', 'u', 'v', 'w', 'x', 'y', 'z', 'a', 'b', 'c']\n",
      "Iezzha-kQp\n"
     ]
    }
   ],
   "source": [
    "# Defining lower case letters\n",
    "lowercase_letters = [chr(i) for i in range(97, 123)]\n",
    "# defining upper case letters\n",
    "uppercase_letters = [chr(i) for i in range(65, 91)]\n",
    "# if rotation is greater than 25 (lenght of alphabet) i correct\n",
    "# by finding the remainder else i use the given rotation figure\n",
    "if k > 25:\n",
    "    k = k%26\n",
    "# generating the upper and lower letters by the rotation given\n",
    "rot_letters_lower = lowercase_letters[k:26] + lowercase_letters[0:k]\n",
    "rot_letters_upper = uppercase_letters[k:26] + uppercase_letters[0:k]\n",
    "cipher = []\n",
    "print(rot_letters)\n",
    "# working through the given string\n",
    "for i in s:\n",
    "    # appending to list if letter is lower\n",
    "    if i in lowercase_letters:\n",
    "        rot_let = lowercase_letters.index(i)\n",
    "        new_let = rot_letters_lower[rot_let] \n",
    "        cipher.append(new_let)\n",
    "    # appending to list if letter is upper\n",
    "    elif i in uppercase_letters:\n",
    "        rot_let = uppercase_letters.index(i)\n",
    "        new_let = rot_letters_upper[rot_let] \n",
    "        cipher.append(new_let)\n",
    "    else:\n",
    "        # appending i through if not a letter\n",
    "        cipher.append(i)\n",
    "print(''.join(cipher))\n",
    "        \n",
    "    \n",
    "    "
   ]
  },
  {
   "cell_type": "code",
   "execution_count": null,
   "id": "fa117f9f",
   "metadata": {},
   "outputs": [],
   "source": [
    "# AI better way to implement this code.\n",
    "def caesarCipher(s, k):\n",
    "    # Adjust rotation if greater than the length of the alphabet\n",
    "    k = k % 26\n",
    "    cipher = []\n",
    "    \n",
    "    for i in s:\n",
    "        # Check and transform lowercase letters\n",
    "        if 'a' <= i <= 'z':\n",
    "            cipher.append(chr((ord(i) - 97 + k) % 26 + 97))\n",
    "        # Check and transform uppercase letters\n",
    "        elif 'A' <= i <= 'Z':\n",
    "            cipher.append(chr((ord(i) - 65 + k) % 26 + 65))\n",
    "        # Keep non-alphabetic characters unchanged\n",
    "        else:\n",
    "            cipher.append(i)\n",
    "    \n",
    "    return ''.join(cipher)\n"
   ]
  },
  {
   "cell_type": "markdown",
   "id": "b619ab2f",
   "metadata": {},
   "source": [
    "\n",
    "### Key Changes and Improvements\n",
    "\n",
    "1. **Unified Rotation Calculation**: This version directly calculates the rotated position using the `ord()` function (which converts a character into its ASCII value) and the modulus operator `%`. This method eliminates the need to explicitly create and rotate lists of alphabet characters.\n",
    "   \n",
    "2. **Character Range Checks**: Instead of checking if a character is in a list of alphabet characters, it checks if the character's ASCII value falls within the ranges for lowercase (`a`-`z`) or uppercase (`A`-`Z`) letters. This approach is more efficient since it doesn't require scanning a list to determine if a character is uppercase or lowercase.\n",
    "\n",
    "3. **Direct Calculation of Rotated Character**: For both lowercase and uppercase letters, the new character is calculated by finding the offset from the start of the alphabet (`97` for lowercase, `65` for uppercase), adding the rotation `k`, taking the modulus with `26` (to wrap around the alphabet), and then converting back to a character with `chr()`.\n",
    "\n",
    "4. **Modulus Operation Simplification**: The rotation adjustment (`k = k % 26`) ensures that the rotation is always within the bounds of the alphabet, handling cases where `k` is greater than `26`.\n",
    "\n",
    "This streamlined approach is not only shorter but also potentially faster for large inputs, as it avoids the overhead of list operations and index searches."
   ]
  },
  {
   "cell_type": "markdown",
   "id": "3592f3c1",
   "metadata": {},
   "source": [
    "# Q6 MaxMin"
   ]
  },
  {
   "cell_type": "code",
   "execution_count": null,
   "id": "5af755b9",
   "metadata": {},
   "outputs": [],
   "source": []
  },
  {
   "cell_type": "code",
   "execution_count": 103,
   "id": "cf83f44c",
   "metadata": {},
   "outputs": [],
   "source": [
    "#!/bin/python3\n",
    "\n",
    "import math\n",
    "import os\n",
    "import random\n",
    "import re\n",
    "import sys\n",
    "\n",
    "#\n",
    "# Complete the 'maxMin' function below.\n",
    "#\n",
    "# The function is expected to return an INTEGER.\n",
    "# The function accepts following parameters:\n",
    "#  1. INTEGER k\n",
    "#  2. INTEGER_ARRAY arr\n",
    "#\n",
    "\n",
    "def maxMin(k, arr):\n",
    "    # Write your code here\n",
    "    arr.sort()\n",
    "    arr_test = []\n",
    "    \n",
    "    for i in range(len(arr)):\n",
    "        if k <= (len(arr)+1):\n",
    "            arr_test = arr[(i-1):(k-1)]\n",
    "            \n",
    "            k += 1\n",
    "\n"
   ]
  },
  {
   "cell_type": "code",
   "execution_count": 104,
   "id": "78bb3b6a",
   "metadata": {},
   "outputs": [
    {
     "name": "stdout",
     "output_type": "stream",
     "text": [
      "[]\n",
      "i = 0, k = 4\n",
      "[1, 2, 3, 4]\n",
      "i = 1, k = 5\n",
      "[2, 3, 4, 10]\n",
      "i = 2, k = 6\n",
      "[3, 4, 10, 20]\n",
      "i = 3, k = 7\n",
      "[4, 10, 20, 30]\n",
      "i = 4, k = 8\n",
      "[10, 20, 30, 40]\n",
      "i = 5, k = 9\n",
      "[20, 30, 40, 100]\n",
      "i = 6, k = 10\n",
      "[30, 40, 100, 200]\n",
      "i = 7, k = 11\n"
     ]
    }
   ],
   "source": [
    "\n",
    "\n",
    "arr = [3,1,2,4,10,20,30,40,100,200]\n",
    "\n",
    "k = 4\n",
    "\n",
    "\n",
    "\n",
    "result = maxMin(k, arr)\n",
    "\n",
    "\n"
   ]
  },
  {
   "cell_type": "code",
   "execution_count": null,
   "id": "9c7728fe",
   "metadata": {},
   "outputs": [],
   "source": []
  }
 ],
 "metadata": {
  "kernelspec": {
   "display_name": "Python 3 (ipykernel)",
   "language": "python",
   "name": "python3"
  },
  "language_info": {
   "codemirror_mode": {
    "name": "ipython",
    "version": 3
   },
   "file_extension": ".py",
   "mimetype": "text/x-python",
   "name": "python",
   "nbconvert_exporter": "python",
   "pygments_lexer": "ipython3",
   "version": "3.11.5"
  }
 },
 "nbformat": 4,
 "nbformat_minor": 5
}
