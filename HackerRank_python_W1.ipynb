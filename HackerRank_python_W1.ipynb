{
 "cells": [
  {
   "cell_type": "code",
   "execution_count": 2,
   "id": "48baf56d",
   "metadata": {},
   "outputs": [],
   "source": [
    "#!/bin/python3\n",
    "\n",
    "import math\n",
    "import os\n",
    "import random\n",
    "import re\n",
    "import sys\n",
    "\n",
    "#\n",
    "# Complete the 'plusMinus' function below.\n",
    "#\n",
    "# The function accepts INTEGER_ARRAY arr as parameter.\n",
    "#\n",
    "\n",
    "def plusMinus(arr):\n",
    "    # Write your code here\n",
    "    pos, neg, z = 0, 0, 0\n",
    "    l = len(arr)\n",
    "    for n in arr:\n",
    "        if n < 0:\n",
    "            neg +=1\n",
    "        elif n > 0:\n",
    "            pos +=1\n",
    "        else:\n",
    "            z +=1\n",
    "    \n",
    "    return (round(pos/l, 6), round(neg/l, 6), round(z/l, 6))\n",
    "        \n",
    "\n",
    "\n"
   ]
  },
  {
   "cell_type": "code",
   "execution_count": 10,
   "id": "3caf43d7",
   "metadata": {},
   "outputs": [
    {
     "data": {
      "text/plain": [
       "(0.5, 0.333333, 0.166667)"
      ]
     },
     "execution_count": 10,
     "metadata": {},
     "output_type": "execute_result"
    }
   ],
   "source": [
    "arr = [-4, 3, -9, 0, 4, 1]\n",
    "# n = int(input().strip())\n",
    "\n",
    "# arr = list(map(int, input().rstrip().split()))\n",
    "\n",
    "plusMinus(arr)"
   ]
  },
  {
   "cell_type": "markdown",
   "id": "3da0e738",
   "metadata": {},
   "source": [
    "Question 2"
   ]
  },
  {
   "cell_type": "code",
   "execution_count": 32,
   "id": "c1288ea4",
   "metadata": {},
   "outputs": [],
   "source": [
    "#!/bin/python3\n",
    "\n",
    "import math\n",
    "import os\n",
    "import random\n",
    "import re\n",
    "import sys\n",
    "\n",
    "#\n",
    "# Complete the 'miniMaxSum' function below.\n",
    "#\n",
    "# The function accepts INTEGER_ARRAY arr as parameter.\n",
    "#\n",
    "\n",
    "def miniMaxSum(arr):\n",
    "    # Need to sort the array or min and max sums will be on the erong values.\n",
    "    arr.sort()\n",
    "    intMin = sum(arr[0:4])\n",
    "\n",
    "    intMax = sum(arr[-4:])\n",
    "\n",
    "    print(f\" {intMin}  {intMax}\")\n",
    "\n"
   ]
  },
  {
   "cell_type": "code",
   "execution_count": 33,
   "id": "d0ae8dff",
   "metadata": {},
   "outputs": [
    {
     "name": "stdout",
     "output_type": "stream",
     "text": [
      "1 667 34 9 2387\n",
      " 711  3097\n"
     ]
    }
   ],
   "source": [
    "if __name__ == '__main__':\n",
    "\n",
    "    arr = list(map(int, input().rstrip().split()))\n",
    "\n",
    "    miniMaxSum(arr)\n",
    "    "
   ]
  },
  {
   "cell_type": "markdown",
   "id": "62516942",
   "metadata": {},
   "source": [
    "Question 3 \n",
    "Given a time in -hour AM/PM format, convert it to military (24-hour) time.\n",
    "Note: - 12:00:00AM on a 12-hour clock is 00:00:00 on a 24-hour clock.\n",
    "- 12:00:00PM on a 12-hour clock is 12:00:00 on a 24-hour clock.\n",
    "\n",
    "Example\n",
    "\n",
    "Return '12:01:00'.\n",
    "\n",
    "Return '00:01:00'.\n",
    "Function Description\n",
    "Complete the timeConversion function in the editor below. It should return a new string representing the input time in 24 hour format.\n",
    "timeConversion has the following parameter(s):\n",
    "string s: a time in  hour format\n",
    "Returns\n",
    "string: the time in  hour format\n",
    "Input Format\n",
    "A single string  that represents a time in -hour clock format (i.e.:  or ).\n",
    "Constraints\n",
    "All input times are valid\n",
    "chart of AM PM v Military time\n",
    "\n",
    "| Military Time | AM/PM Time |\n",
    "|---------------|------------|\n",
    "| 00:00         | 12:00 AM   |\n",
    "| 01:00         | 01:00 AM   |\n",
    "| 02:00         | 02:00 AM   |\n",
    "| 03:00         | 03:00 AM   |\n",
    "| 04:00         | 04:00 AM   |\n",
    "| 05:00         | 05:00 AM   |\n",
    "| 06:00         | 06:00 AM   |\n",
    "| 07:00         | 07:00 AM   |\n",
    "| 08:00         | 08:00 AM   |\n",
    "| 09:00         | 09:00 AM   |\n",
    "| 10:00         | 10:00 AM   |\n",
    "| 11:00         | 11:00 AM   |\n",
    "| 12:00         | 12:00 PM   |\n",
    "| 13:00         | 01:00 PM   |\n",
    "| 14:00         | 02:00 PM   |\n",
    "| 15:00         | 03:00 PM   |\n",
    "| 16:00         | 04:00 PM   |\n",
    "| 17:00         | 05:00 PM   |\n",
    "| 18:00         | 06:00 PM   |\n",
    "| 19:00         | 07:00 PM   |\n",
    "| 20:00         | 08:00 PM   |\n",
    "| 21:00         | 09:00 PM   |\n",
    "| 22:00         | 10:00 PM   |\n",
    "| 23:00         | 11:00 PM   |\n"
   ]
  },
  {
   "cell_type": "code",
   "execution_count": 43,
   "id": "1596fcc5",
   "metadata": {},
   "outputs": [],
   "source": [
    "#!/bin/python3\n",
    "\n",
    "import math\n",
    "import os\n",
    "import random\n",
    "import re\n",
    "import sys\n",
    "\n",
    "#\n",
    "# Complete the 'timeConversion' function below.\n",
    "#\n",
    "# The function is expected to return a STRING.\n",
    "# The function accepts STRING s as parameter.\n",
    "#\n",
    "\n",
    "def timeConversion(s):\n",
    "    # Write your code here\n",
    "    ho = s[0:2] # stripping out the hour\n",
    "    am_pm = s[-2:] # stripping out AM / PM\n",
    "    \n",
    "    if am_pm == \"AM\":\n",
    "        if int(ho) == 12:\n",
    "            hour = \"00\"\n",
    "        else:\n",
    "            hour = ho\n",
    "    if am_pm == \"PM\":\n",
    "        if int(ho) == 12:\n",
    "            hour = \"12\"\n",
    "        else:\n",
    "            hour = int(ho) + 12\n",
    "    \n",
    "    print(f\"{hour}{s[2:8]}\")\n",
    "            \n",
    "# actual solution wanted a return instead of a print \n",
    "\n"
   ]
  },
  {
   "cell_type": "code",
   "execution_count": 44,
   "id": "b2c8b3dc",
   "metadata": {},
   "outputs": [
    {
     "name": "stdout",
     "output_type": "stream",
     "text": [
      "07:05:45PM\n",
      "19:05:45\n"
     ]
    }
   ],
   "source": [
    "\n",
    "s = input()\n",
    "\n",
    "timeConversion(s)\n",
    "\n"
   ]
  },
  {
   "cell_type": "markdown",
   "id": "5da404e6",
   "metadata": {},
   "source": [
    "Question 4\n",
    "There is a collection of input strings and a collection of query strings. For each query string, determine how many times it occurs in the list of input strings. Return an array of the results.\n",
    "Example\n",
    "\n",
    "\n",
    "There are  instances of ',  of '' and  of ''. For each query, add an element to the return array, .\n",
    "Function Description\n",
    "Complete the function matchingStrings in the editor below. The function must return an array of integers representing the frequency of occurrence of each query string in strings.\n",
    "matchingStrings has the following parameters:\n",
    "string strings[n] - an array of strings to search\n",
    "string queries[q] - an array of query strings\n",
    "Returns\n",
    "int[q]: an array of results for each query\n",
    "Input Format\n",
    "The first line contains and integer , the size of .\n",
    "Each of the next  lines contains a string .\n",
    "The next line contains , the size of .\n",
    "Each of the next  lines contains a string .\n",
    "Constraints\n"
   ]
  },
  {
   "cell_type": "code",
   "execution_count": 4,
   "id": "ff4cfa8f",
   "metadata": {},
   "outputs": [],
   "source": [
    "#!/bin/python3\n",
    "\n",
    "import math\n",
    "import os\n",
    "import random\n",
    "import re\n",
    "import sys\n",
    "\n",
    "#\n",
    "# Complete the 'matchingStrings' function below.\n",
    "#\n",
    "# The function is expected to return an INTEGER_ARRAY.\n",
    "# The function accepts following parameters:\n",
    "#  1. STRING_ARRAY strings\n",
    "#  2. STRING_ARRAY queries\n",
    "#\n",
    "\n",
    "def matchingStrings(strings, queries):\n",
    "    # Write your code here\n",
    "    count = []\n",
    "    c = 0\n",
    "    for q in queries:\n",
    "        for s in strings:\n",
    "            if s == q:\n",
    "                c +=1\n",
    "       \n",
    "        count.append(c)\n",
    "        c = 0\n",
    "    return count\n",
    "        \n",
    "        \n",
    "\n",
    "\n"
   ]
  },
  {
   "cell_type": "code",
   "execution_count": 7,
   "id": "6ec0a2c4",
   "metadata": {},
   "outputs": [
    {
     "name": "stdout",
     "output_type": "stream",
     "text": [
      "[2, 1, 0]\n"
     ]
    }
   ],
   "source": [
    "strings = ['ab','ab','abc']\n",
    "queries = ['ab','abc','bc']\n",
    "print(matchingStrings(strings, queries))\n"
   ]
  },
  {
   "cell_type": "markdown",
   "id": "b9c5ccc0",
   "metadata": {},
   "source": [
    "Question 5\n",
    "Given an array of integers, where all elements but one occur twice, find the unique element.\n",
    "Example\n",
    "\n",
    "The unique element is .\n",
    "Function Description\n",
    "Complete the lonelyinteger function in the editor below.\n",
    "lonelyinteger has the following parameter(s):\n",
    "int a[n]: an array of integers\n",
    "Returns\n",
    "int: the element that occurs only once\n",
    "Input Format\n",
    "The first line contains a single integer, , the number of integers in the array.\n",
    "The second line contains  space-separated integers that describe the values in .\n",
    "Constraints\n",
    "\n",
    "It is guaranteed that  is an odd number and that there is one unique element.\n",
    ", where .\n"
   ]
  },
  {
   "cell_type": "code",
   "execution_count": 26,
   "id": "b775a550",
   "metadata": {},
   "outputs": [],
   "source": [
    "#!/bin/python3\n",
    "\n",
    "import math\n",
    "import os\n",
    "import random\n",
    "import re\n",
    "import sys\n",
    "\n",
    "#\n",
    "# Complete the 'lonelyinteger' function below.\n",
    "#\n",
    "# The function is expected to return an INTEGER.\n",
    "# The function accepts INTEGER_ARRAY a as parameter.\n",
    "#\n",
    "\n",
    "def lonelyinteger(a):\n",
    "    # Write your code here\n",
    "    count = {}\n",
    "    for i in a:\n",
    "        if i in count:\n",
    "            count[i] +=1\n",
    "        else:\n",
    "            count[i] = 1\n",
    "    li = [key for key, value in count.items() if value == 1]\n",
    "    print(li) \n",
    "    for key, value in count.items():\n",
    "        if value == 1:\n",
    "            return key\n",
    "    #return li\n",
    "\n",
    "        \n",
    "\n",
    "\n"
   ]
  },
  {
   "cell_type": "code",
   "execution_count": 27,
   "id": "da45d315",
   "metadata": {},
   "outputs": [
    {
     "name": "stdout",
     "output_type": "stream",
     "text": [
      "[8]\n",
      "8\n"
     ]
    }
   ],
   "source": [
    "a = [1,2,3,4,3,2,1,4,8]\n",
    "\n",
    "print(lonelyinteger(a))\n",
    "\n"
   ]
  },
  {
   "cell_type": "markdown",
   "id": "7f6b15e8",
   "metadata": {},
   "source": [
    "Q 6 flipping bits\n"
   ]
  },
  {
   "cell_type": "code",
   "execution_count": 54,
   "id": "91fa176c",
   "metadata": {},
   "outputs": [],
   "source": [
    "#!/bin/python3\n",
    "\n",
    "import math\n",
    "import os\n",
    "import random\n",
    "import re\n",
    "import sys\n",
    "\n",
    "#\n",
    "# Complete the 'flippingBits' function below.\n",
    "#\n",
    "# The function is expected to return a LONG_INTEGER.\n",
    "# The function accepts LONG_INTEGER n as parameter.\n",
    "#\n",
    "\n",
    "def flippingBits(num):\n",
    "\n",
    "    bin_str = bin(num)[2:]\n",
    "    #bin_32_bit = str(bin_str & 0xFFFFFFFF)\n",
    "    binary_32bit = bin_str.zfill(32)\n",
    "    print(f\" bin_str = {bin_str}\")\n",
    "    print(f\" binary_32bit = {binary_32bit}\")\n",
    "\n",
    "    a = set(binary_32bit)\n",
    "    print(f\" a_set = {a}\")\n",
    "    for i in a:\n",
    "        if i == 1:\n",
    "            i = 0\n",
    "        else:\n",
    "            i = 1\n",
    "    print(a)\n",
    "    single_integer = int(''.join(map(str, a)))\n",
    "    return single_integer\n",
    "\n",
    "\n"
   ]
  },
  {
   "cell_type": "code",
   "execution_count": 55,
   "id": "201ad535",
   "metadata": {},
   "outputs": [
    {
     "name": "stdout",
     "output_type": "stream",
     "text": [
      " bin_str = 11\n",
      " binary_32bit = 00000000000000000000000000000011\n",
      " a_set = {'1', '0'}\n",
      "{'1', '0'}\n",
      "10\n"
     ]
    }
   ],
   "source": [
    "n=3\n",
    "result = flippingBits(n)\n",
    "print (result)\n"
   ]
  },
  {
   "cell_type": "code",
   "execution_count": 56,
   "id": "ec2c4ee2",
   "metadata": {},
   "outputs": [
    {
     "name": "stdout",
     "output_type": "stream",
     "text": [
      "101010\n",
      "00000000000000000000000000101010\n",
      " a_set = {'1', '0'}\n"
     ]
    }
   ],
   "source": [
    "num=42\n",
    "bin_str = bin(num)[2:]\n",
    "#bin_32_bit = str(bin_str & 0xFFFFFFFF)\n",
    "binary_32bit = bin_str.zfill(32)\n",
    "print(bin_str)\n",
    "print(binary_32bit)\n",
    "a_set = set(binary_32bit)\n",
    "print(f\" a_set = {a_set}\")"
   ]
  },
  {
   "cell_type": "code",
   "execution_count": null,
   "id": "c8f98ea4",
   "metadata": {},
   "outputs": [],
   "source": []
  }
 ],
 "metadata": {
  "kernelspec": {
   "display_name": "Python 3 (ipykernel)",
   "language": "python",
   "name": "python3"
  },
  "language_info": {
   "codemirror_mode": {
    "name": "ipython",
    "version": 3
   },
   "file_extension": ".py",
   "mimetype": "text/x-python",
   "name": "python",
   "nbconvert_exporter": "python",
   "pygments_lexer": "ipython3",
   "version": "3.11.5"
  }
 },
 "nbformat": 4,
 "nbformat_minor": 5
}
