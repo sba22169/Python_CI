{
 "cells": [
  {
   "cell_type": "markdown",
   "id": "b037df39",
   "metadata": {},
   "source": [
    "# Q1"
   ]
  },
  {
   "cell_type": "code",
   "execution_count": 1,
   "id": "48baf56d",
   "metadata": {},
   "outputs": [],
   "source": [
    "#!/bin/python3\n",
    "\n",
    "import math\n",
    "import os\n",
    "import random\n",
    "import re\n",
    "import sys\n",
    "\n",
    "#\n",
    "# Complete the 'plusMinus' function below.\n",
    "#\n",
    "# The function accepts INTEGER_ARRAY arr as parameter.\n",
    "#\n",
    "\n",
    "def plusMinus(arr):\n",
    "    # Write your code here\n",
    "    pos, neg, z = 0, 0, 0\n",
    "    l = len(arr)\n",
    "    for n in arr:\n",
    "        if n < 0:\n",
    "            neg +=1\n",
    "        elif n > 0:\n",
    "            pos +=1\n",
    "        else:\n",
    "            z +=1\n",
    "    \n",
    "    return (round(pos/l, 6), round(neg/l, 6), round(z/l, 6))\n",
    "        \n",
    "\n",
    "\n"
   ]
  },
  {
   "cell_type": "code",
   "execution_count": 3,
   "id": "3caf43d7",
   "metadata": {},
   "outputs": [
    {
     "data": {
      "text/plain": [
       "(0.333333, 0.333333, 0.333333)"
      ]
     },
     "execution_count": 3,
     "metadata": {},
     "output_type": "execute_result"
    }
   ],
   "source": [
    "#arr = [-4, 3, -9, 0, 4, 1]\n",
    "arr = [1, 1, 0, -1,-1,0]\n",
    "# n = int(input().strip())\n",
    "\n",
    "# arr = list(map(int, input().rstrip().split()))\n",
    "\n",
    "plusMinus(arr)"
   ]
  },
  {
   "cell_type": "markdown",
   "id": "3da0e738",
   "metadata": {},
   "source": [
    "# Q 2"
   ]
  },
  {
   "cell_type": "code",
   "execution_count": 32,
   "id": "c1288ea4",
   "metadata": {},
   "outputs": [],
   "source": [
    "#!/bin/python3\n",
    "\n",
    "import math\n",
    "import os\n",
    "import random\n",
    "import re\n",
    "import sys\n",
    "\n",
    "#\n",
    "# Complete the 'miniMaxSum' function below.\n",
    "#\n",
    "# The function accepts INTEGER_ARRAY arr as parameter.\n",
    "#\n",
    "\n",
    "def miniMaxSum(arr):\n",
    "    # Need to sort the array or min and max sums will be on the erong values.\n",
    "    arr.sort()\n",
    "    intMin = sum(arr[0:4])\n",
    "\n",
    "    intMax = sum(arr[-4:])\n",
    "\n",
    "    print(f\" {intMin}  {intMax}\")\n",
    "\n"
   ]
  },
  {
   "cell_type": "code",
   "execution_count": 33,
   "id": "d0ae8dff",
   "metadata": {},
   "outputs": [
    {
     "name": "stdout",
     "output_type": "stream",
     "text": [
      "1 667 34 9 2387\n",
      " 711  3097\n"
     ]
    }
   ],
   "source": [
    "if __name__ == '__main__':\n",
    "\n",
    "    arr = list(map(int, input().rstrip().split()))\n",
    "\n",
    "    miniMaxSum(arr)\n",
    "    "
   ]
  },
  {
   "cell_type": "markdown",
   "id": "43701544",
   "metadata": {},
   "source": [
    "# Q3"
   ]
  },
  {
   "cell_type": "markdown",
   "id": "62516942",
   "metadata": {},
   "source": [
    "Question 3 \n",
    "Given a time in -hour AM/PM format, convert it to military (24-hour) time.\n",
    "Note: - 12:00:00AM on a 12-hour clock is 00:00:00 on a 24-hour clock.\n",
    "- 12:00:00PM on a 12-hour clock is 12:00:00 on a 24-hour clock.\n",
    "\n",
    "Example\n",
    "\n",
    "Return '12:01:00'.\n",
    "\n",
    "Return '00:01:00'.\n",
    "Function Description\n",
    "Complete the timeConversion function in the editor below. It should return a new string representing the input time in 24 hour format.\n",
    "timeConversion has the following parameter(s):\n",
    "string s: a time in  hour format\n",
    "Returns\n",
    "string: the time in  hour format\n",
    "Input Format\n",
    "A single string  that represents a time in -hour clock format (i.e.:  or ).\n",
    "Constraints\n",
    "All input times are valid\n",
    "chart of AM PM v Military time\n",
    "\n",
    "| Military Time | AM/PM Time |\n",
    "|---------------|------------|\n",
    "| 00:00         | 12:00 AM   |\n",
    "| 01:00         | 01:00 AM   |\n",
    "| 02:00         | 02:00 AM   |\n",
    "| 03:00         | 03:00 AM   |\n",
    "| 04:00         | 04:00 AM   |\n",
    "| 05:00         | 05:00 AM   |\n",
    "| 06:00         | 06:00 AM   |\n",
    "| 07:00         | 07:00 AM   |\n",
    "| 08:00         | 08:00 AM   |\n",
    "| 09:00         | 09:00 AM   |\n",
    "| 10:00         | 10:00 AM   |\n",
    "| 11:00         | 11:00 AM   |\n",
    "| 12:00         | 12:00 PM   |\n",
    "| 13:00         | 01:00 PM   |\n",
    "| 14:00         | 02:00 PM   |\n",
    "| 15:00         | 03:00 PM   |\n",
    "| 16:00         | 04:00 PM   |\n",
    "| 17:00         | 05:00 PM   |\n",
    "| 18:00         | 06:00 PM   |\n",
    "| 19:00         | 07:00 PM   |\n",
    "| 20:00         | 08:00 PM   |\n",
    "| 21:00         | 09:00 PM   |\n",
    "| 22:00         | 10:00 PM   |\n",
    "| 23:00         | 11:00 PM   |\n"
   ]
  },
  {
   "cell_type": "code",
   "execution_count": 43,
   "id": "1596fcc5",
   "metadata": {},
   "outputs": [],
   "source": [
    "#!/bin/python3\n",
    "\n",
    "import math\n",
    "import os\n",
    "import random\n",
    "import re\n",
    "import sys\n",
    "\n",
    "#\n",
    "# Complete the 'timeConversion' function below.\n",
    "#\n",
    "# The function is expected to return a STRING.\n",
    "# The function accepts STRING s as parameter.\n",
    "#\n",
    "\n",
    "def timeConversion(s):\n",
    "    # Write your code here\n",
    "    ho = s[0:2] # stripping out the hour\n",
    "    am_pm = s[-2:] # stripping out AM / PM\n",
    "    \n",
    "    if am_pm == \"AM\":\n",
    "        if int(ho) == 12:\n",
    "            hour = \"00\"\n",
    "        else:\n",
    "            hour = ho\n",
    "    if am_pm == \"PM\":\n",
    "        if int(ho) == 12:\n",
    "            hour = \"12\"\n",
    "        else:\n",
    "            hour = int(ho) + 12\n",
    "    \n",
    "    print(f\"{hour}{s[2:8]}\")\n",
    "            \n",
    "# actual solution wanted a return instead of a print \n",
    "\n"
   ]
  },
  {
   "cell_type": "code",
   "execution_count": 44,
   "id": "b2c8b3dc",
   "metadata": {},
   "outputs": [
    {
     "name": "stdout",
     "output_type": "stream",
     "text": [
      "07:05:45PM\n",
      "19:05:45\n"
     ]
    }
   ],
   "source": [
    "\n",
    "s = input()\n",
    "\n",
    "timeConversion(s)\n",
    "\n"
   ]
  },
  {
   "cell_type": "markdown",
   "id": "26dba95e",
   "metadata": {},
   "source": [
    "# Q4"
   ]
  },
  {
   "cell_type": "markdown",
   "id": "5da404e6",
   "metadata": {},
   "source": [
    "Question 4\n",
    "There is a collection of input strings and a collection of query strings. For each query string, determine how many times it occurs in the list of input strings. Return an array of the results.\n",
    "Example\n",
    "\n",
    "\n",
    "There are  instances of ',  of '' and  of ''. For each query, add an element to the return array, .\n",
    "Function Description\n",
    "Complete the function matchingStrings in the editor below. The function must return an array of integers representing the frequency of occurrence of each query string in strings.\n",
    "matchingStrings has the following parameters:\n",
    "string strings[n] - an array of strings to search\n",
    "string queries[q] - an array of query strings\n",
    "Returns\n",
    "int[q]: an array of results for each query\n",
    "Input Format\n",
    "The first line contains and integer , the size of .\n",
    "Each of the next  lines contains a string .\n",
    "The next line contains , the size of .\n",
    "Each of the next  lines contains a string .\n",
    "Constraints\n"
   ]
  },
  {
   "cell_type": "code",
   "execution_count": 4,
   "id": "ff4cfa8f",
   "metadata": {},
   "outputs": [],
   "source": [
    "#!/bin/python3\n",
    "\n",
    "import math\n",
    "import os\n",
    "import random\n",
    "import re\n",
    "import sys\n",
    "\n",
    "#\n",
    "# Complete the 'matchingStrings' function below.\n",
    "#\n",
    "# The function is expected to return an INTEGER_ARRAY.\n",
    "# The function accepts following parameters:\n",
    "#  1. STRING_ARRAY strings\n",
    "#  2. STRING_ARRAY queries\n",
    "#\n",
    "\n",
    "def matchingStrings(strings, queries):\n",
    "    # Write your code here\n",
    "    count = []\n",
    "    c = 0\n",
    "    for q in queries:\n",
    "        for s in strings:\n",
    "            if s == q:\n",
    "                c +=1\n",
    "       \n",
    "        count.append(c)\n",
    "        c = 0\n",
    "    return count\n",
    "        \n",
    "        \n",
    "\n",
    "\n"
   ]
  },
  {
   "cell_type": "code",
   "execution_count": 7,
   "id": "6ec0a2c4",
   "metadata": {},
   "outputs": [
    {
     "name": "stdout",
     "output_type": "stream",
     "text": [
      "[2, 1, 0]\n"
     ]
    }
   ],
   "source": [
    "strings = ['ab','ab','abc']\n",
    "queries = ['ab','abc','bc']\n",
    "print(matchingStrings(strings, queries))\n"
   ]
  },
  {
   "cell_type": "markdown",
   "id": "5f85ce09",
   "metadata": {},
   "source": [
    "# Q5"
   ]
  },
  {
   "cell_type": "markdown",
   "id": "b9c5ccc0",
   "metadata": {},
   "source": [
    "Question 5\n",
    "Given an array of integers, where all elements but one occur twice, find the unique element.\n",
    "Example\n",
    "\n",
    "The unique element is .\n",
    "Function Description\n",
    "Complete the lonelyinteger function in the editor below.\n",
    "lonelyinteger has the following parameter(s):\n",
    "int a[n]: an array of integers\n",
    "Returns\n",
    "int: the element that occurs only once\n",
    "Input Format\n",
    "The first line contains a single integer, , the number of integers in the array.\n",
    "The second line contains  space-separated integers that describe the values in .\n",
    "Constraints\n",
    "\n",
    "It is guaranteed that  is an odd number and that there is one unique element.\n",
    ", where .\n"
   ]
  },
  {
   "cell_type": "code",
   "execution_count": 26,
   "id": "b775a550",
   "metadata": {},
   "outputs": [],
   "source": [
    "#!/bin/python3\n",
    "\n",
    "import math\n",
    "import os\n",
    "import random\n",
    "import re\n",
    "import sys\n",
    "\n",
    "#\n",
    "# Complete the 'lonelyinteger' function below.\n",
    "#\n",
    "# The function is expected to return an INTEGER.\n",
    "# The function accepts INTEGER_ARRAY a as parameter.\n",
    "#\n",
    "\n",
    "def lonelyinteger(a):\n",
    "    # Write your code here\n",
    "    count = {}\n",
    "    for i in a:\n",
    "        if i in count:\n",
    "            count[i] +=1\n",
    "        else:\n",
    "            count[i] = 1\n",
    "    li = [key for key, value in count.items() if value == 1]\n",
    "    print(li) \n",
    "    for key, value in count.items():\n",
    "        if value == 1:\n",
    "            return key\n",
    "    #return li\n",
    "\n",
    "        \n",
    "\n",
    "\n"
   ]
  },
  {
   "cell_type": "code",
   "execution_count": 27,
   "id": "da45d315",
   "metadata": {},
   "outputs": [
    {
     "name": "stdout",
     "output_type": "stream",
     "text": [
      "[8]\n",
      "8\n"
     ]
    }
   ],
   "source": [
    "a = [1,2,3,4,3,2,1,4,8]\n",
    "\n",
    "print(lonelyinteger(a))\n",
    "\n"
   ]
  },
  {
   "cell_type": "markdown",
   "id": "7f6b15e8",
   "metadata": {},
   "source": [
    "# Q 6 flipping bits\n"
   ]
  },
  {
   "cell_type": "code",
   "execution_count": 5,
   "id": "91fa176c",
   "metadata": {},
   "outputs": [],
   "source": [
    "#!/bin/python3\n",
    "\n",
    "import math\n",
    "import os\n",
    "import random\n",
    "import re\n",
    "import sys\n",
    "\n",
    "#\n",
    "# Complete the 'flippingBits' function below.\n",
    "#\n",
    "# The function is expected to return a LONG_INTEGER.\n",
    "# The function accepts LONG_INTEGER n as parameter.\n",
    "#\n",
    "\n",
    "def flippingBits(num):\n",
    "\n",
    "    bin_str = bin(num)[2:] # convert a decimal to binary , but must strip the \n",
    "    #bin_32_bit = str(bin_str & 0xFFFFFFFF)\n",
    "    binary_32bit = bin_str.zfill(32)\n",
    "    print(f\" bin_str = {bin_str}\")\n",
    "    print(f\" binary_32bit = {binary_32bit}\")\n",
    "    \n",
    "    flipped_binary = ''.join('1' if bit == '0' else '0' for bit in binary_32bit) # flips the bits\n",
    "    print(flipped_binary)\n",
    "\n",
    "    return int(flipped_binary,2) # converts the binary to decimal as requested.\n",
    "\n",
    "\n"
   ]
  },
  {
   "cell_type": "code",
   "execution_count": 7,
   "id": "201ad535",
   "metadata": {},
   "outputs": [
    {
     "name": "stdout",
     "output_type": "stream",
     "text": [
      " bin_str = 101010\n",
      " binary_32bit = 00000000000000000000000000101010\n",
      "11111111111111111111111111010101\n",
      "4294967253\n"
     ]
    }
   ],
   "source": [
    "n=42\n",
    "result = flippingBits(n)\n",
    "print (result)\n"
   ]
  },
  {
   "cell_type": "code",
   "execution_count": 8,
   "id": "ec2c4ee2",
   "metadata": {
    "scrolled": true
   },
   "outputs": [
    {
     "name": "stdout",
     "output_type": "stream",
     "text": [
      "the decimal 42 converts to 0b101010\n",
      "101010\n",
      "00000000000000000000000000101010\n",
      " a_set = {'0', '1'}\n"
     ]
    }
   ],
   "source": [
    "# playground for Question\n",
    "num=42\n",
    "bin_str_1 = bin(num)\n",
    "print(f\"the decimal {num} converts to {bin_str_1}\" )\n",
    "bin_str = bin(num)[2:] # need to strip out the leading 0b used to indicate the values are binary\n",
    "#bin_32_bit = str(bin_str & 0xFFFFFFFF)\n",
    "binary_32bit = bin_str.zfill(32) # the Q is looking for a 32bit binary , zfill pads out the value to 32 places with 0's\n",
    "print(bin_str)\n",
    "print(binary_32bit)\n",
    "a_set = set(binary_32bit)\n",
    "print(f\" a_set = {a_set}\")"
   ]
  },
  {
   "cell_type": "markdown",
   "id": "f5f40b67",
   "metadata": {},
   "source": [
    "# Q7"
   ]
  },
  {
   "cell_type": "markdown",
   "id": "d935769f",
   "metadata": {},
   "source": [
    "Q7 \n",
    "Given a square matrix, calculate the absolute difference between the sums of its diagonals.\n",
    "For example, the square matrix  is shown below:\n",
    "1 2 3\n",
    "4 5 6\n",
    "9 8 9  \n",
    "The left-to-right diagonal = . The right to left diagonal = . Their absolute difference is .\n",
    "Function description\n",
    "Complete the  function in the editor below.\n",
    "diagonalDifference takes the following parameter:\n",
    "int arr[n][m]: an array of integers\n",
    "Return\n",
    "int: the absolute diagonal difference\n",
    "Input Format\n",
    "The first line contains a single integer, , the number of rows and columns in the square matrix .\n",
    "Each of the next  lines describes a row, , and consists of  space-separated integers .\n",
    "Constraints\n"
   ]
  },
  {
   "cell_type": "code",
   "execution_count": 37,
   "id": "5e241e43",
   "metadata": {},
   "outputs": [],
   "source": [
    "#!/bin/python3\n",
    "\n",
    "import math\n",
    "import os\n",
    "import random\n",
    "import re\n",
    "import sys\n",
    "\n",
    "#\n",
    "# Complete the 'diagonalDifference' function below.\n",
    "#\n",
    "# The function is expected to return an INTEGER.\n",
    "# The function accepts 2D_INTEGER_ARRAY arr as parameter.\n",
    "#\n",
    "\n",
    "def diagonalDifference(arr):\n",
    "    # Write your code here\n",
    "    # read the array matrix size\n",
    "    matrix = arr.pop(0)\n",
    "    print(matrix)\n",
    "    \n",
    "    count_1,count_2 = 0,matrix-1\n",
    "    inc_1,inc_2 = matrix+1, matrix-1\n",
    "    diag_1=[]\n",
    "    diag_1.append(arr[0])\n",
    "    diag_2=[]\n",
    "    diag_2.append(arr[count_2])\n",
    "    for i in range(matrix-1):\n",
    "        print(f\"count_1 is {count_1}\")\n",
    "        print(f\"count_2 is {count_2}\")\n",
    "        count_1 += inc_1\n",
    "        count_2 += inc_2\n",
    "        \n",
    "        \n",
    "        \n",
    "        diag_1.append(arr[(count_1)])\n",
    "        diag_2.append(arr[(count_2)])\n",
    "\n",
    "        print(f\"count_1 is {count_1}\")\n",
    "\n",
    "        print(f\"count_2 is {count_2}\")\n",
    "        tot_1 = sum(diag_1) - sum(diag_2)\n",
    "    \n",
    "    print (abs(sum(diag_1) - sum(diag_2)))\n",
    "    return (abs(sum(diag_1) - sum(diag_2)))\n",
    "\n"
   ]
  },
  {
   "cell_type": "code",
   "execution_count": 45,
   "id": "d27d9c82",
   "metadata": {},
   "outputs": [],
   "source": [
    "\n",
    "\n",
    "import math\n",
    "import os\n",
    "import random\n",
    "import re\n",
    "import sys\n",
    "\n",
    "#\n",
    "# Complete the 'diagonalDifference' function below.\n",
    "#\n",
    "# The function is expected to return an INTEGER.\n",
    "# The function accepts 2D_INTEGER_ARRAY arr as parameter.\n",
    "#\n",
    "\n",
    "def diagonalDifference(arr):\n",
    "    # Write your code here\n",
    "    matrix_l = arr.pop(0)\n",
    "    print(matrix_l)\n",
    "\n",
    "    matrix = matrix_l[0]\n",
    "    print(matrix)\n",
    "\n",
    "    # make a flat list\n",
    "    flatList = []\n",
    "    # Iterate with outer list\n",
    "    for element in arr:\n",
    "        if type(element) is list:\n",
    "            # Check if type is list than iterate through the sublist\n",
    "            for item in element:\n",
    "                flatList.append(item)\n",
    "        else:\n",
    "            flatList.append(element)\n",
    "            \n",
    "    count_1,count_2 = 0,matrix-1\n",
    "    inc_1,inc_2 = matrix+1, matrix-1\n",
    "    diag_1=[]\n",
    "    diag_1.append(flatList[0])\n",
    "    diag_2=[]\n",
    "    diag_2.append(flatList[count_2])\n",
    "    for i in range(matrix-1):\n",
    "        print(f\"count_1 is {count_1}\")\n",
    "        print(f\"count_2 is {count_2}\")\n",
    "        count_1 += inc_1\n",
    "        count_2 += inc_2\n",
    "        \n",
    "        \n",
    "        \n",
    "        diag_1.append(flatList[(count_1)])\n",
    "        diag_2.append(flatList[(count_2)])\n",
    "\n",
    "        print(f\"count_1 is {count_1}\")\n",
    "\n",
    "        print(f\"count_2 is {count_2}\")\n",
    "        tot_1 = sum(diag_1) - sum(diag_2)\n",
    "    \n",
    "    #print (abs(sum(diag_1) - sum(diag_2)))\n",
    "    return (abs(sum(diag_1) - sum(diag_2)))\n",
    "   "
   ]
  },
  {
   "cell_type": "code",
   "execution_count": 47,
   "id": "b0938f51",
   "metadata": {},
   "outputs": [],
   "source": [
    "# ChatGPT answer\n",
    "def diagonalDifference(arr):\n",
    "    n = len(arr)  # Assuming arr is already in the format of a 2D array\n",
    "    # note i iterates from 0 to n-1, inclusive\n",
    "    primary_diagonal_sum = sum(arr[i][i] for i in range(n))\n",
    "\n",
    "    secondary_diagonal_sum = sum(arr[i][n-i-1] for i in range(n))\n",
    "\n",
    "    return abs(primary_diagonal_sum - secondary_diagonal_sum)"
   ]
  },
  {
   "cell_type": "code",
   "execution_count": 51,
   "id": "f6f49040",
   "metadata": {},
   "outputs": [
    {
     "name": "stdout",
     "output_type": "stream",
     "text": [
      "15\n"
     ]
    }
   ],
   "source": [
    "# arr = [[3],[1,2,3],[4,5,6],[9,8,9]]\n",
    "arr = [[11, 2, 4],[4, 5, 6],[10, 8, -12]]\n",
    "\n",
    "result = diagonalDifference(arr)\n",
    "print(result)\n",
    "\n"
   ]
  },
  {
   "cell_type": "markdown",
   "id": "71e55908",
   "metadata": {},
   "source": [
    "# Q8"
   ]
  },
  {
   "cell_type": "markdown",
   "id": "2be49496",
   "metadata": {},
   "source": [
    "Q8 Comparison Sorting\n",
    "Quicksort usually has a running time of , but is there an algorithm that can sort even faster? In general, this is not possible. Most sorting algorithms are comparison sorts, i.e. they sort a list just by comparing the elements to one another. A comparison sort algorithm cannot beat  (worst-case) running time, since  represents the minimum number of comparisons needed to know where to place each element. For more details, you can see these notes (PDF).\n",
    "Alternative Sorting\n",
    "Another sorting method, the counting sort, does not require comparison. Instead, you create an integer array whose index range covers the entire range of values in your array to sort. Each time a value occurs in the original array, you increment the counter at that index. At the end, run through your counting array, printing the value of each non-zero valued index that number of times."
   ]
  },
  {
   "cell_type": "code",
   "execution_count": null,
   "id": "f421369d",
   "metadata": {},
   "outputs": [],
   "source": [
    "#!/bin/python3\n",
    "\n",
    "import math\n",
    "import os\n",
    "import random\n",
    "import re\n",
    "import sys\n",
    "\n",
    "#\n",
    "# Complete the 'countingSort' function below.\n",
    "#\n",
    "# The function is expected to return an INTEGER_ARRAY.\n",
    "# The function accepts INTEGER_ARRAY arr as parameter.\n",
    "#\n",
    "\n",
    "def countingSort(arr):\n",
    "    # Write your code here\n",
    "    sort_arr = [0] * 100\n",
    "    for i in arr:\n",
    "        sort_arr[i] +=1\n",
    "    return sort_arr\n",
    "\n"
   ]
  },
  {
   "cell_type": "code",
   "execution_count": null,
   "id": "ab5fd550",
   "metadata": {},
   "outputs": [],
   "source": [
    "\n",
    "arr = \n",
    "\n",
    "result = countingSort(arr)\n",
    "\n"
   ]
  },
  {
   "cell_type": "code",
   "execution_count": 1,
   "id": "473fa1d4",
   "metadata": {},
   "outputs": [
    {
     "name": "stdout",
     "output_type": "stream",
     "text": [
      "[0, 0, 0, 0, 0, 0, 0, 0, 0, 0, 0, 0, 0, 0, 0, 0, 0, 0, 0, 0, 0, 0, 0, 0, 0, 0, 0, 0, 0, 0, 0, 0, 0, 0, 0, 0, 0, 0, 0, 0, 0, 0, 0, 0, 0, 0, 0, 0, 0, 0, 0, 0, 0, 0, 0, 0, 0, 0, 0, 0, 0, 0, 0, 0, 0, 0, 0, 0, 0, 0, 0, 0, 0, 0, 0, 0, 0, 0, 0, 0, 0, 0, 0, 0, 0, 0, 0, 0, 0, 0, 0, 0, 0, 0, 0, 0, 0, 0, 0, 0]\n"
     ]
    }
   ],
   "source": [
    "sort_arr = [0] * 100\n",
    "print(sort_arr)"
   ]
  },
  {
   "cell_type": "markdown",
   "id": "8a664d02",
   "metadata": {},
   "source": [
    "# Q9"
   ]
  },
  {
   "cell_type": "markdown",
   "id": "d1c7c4ee",
   "metadata": {},
   "source": [
    "A pangram is a string that contains every letter of the alphabet. Given a sentence determine whether it is a pangram in the English alphabet. Ignore case. Return either pangram or not pangram as appropriate.\n",
    "Example\n",
    "\n",
    "The string contains all letters in the English alphabet, so return pangram.\n",
    "Function Description\n",
    "Complete the function pangrams in the editor below. It should return the string pangram if the input string is a pangram. Otherwise, it should return not pangram.\n",
    "pangrams has the following parameter(s):\n",
    "string s: a string to test\n",
    "Returns\n",
    "string: either pangram or not pangram"
   ]
  },
  {
   "cell_type": "code",
   "execution_count": 27,
   "id": "aa52f5c1",
   "metadata": {},
   "outputs": [],
   "source": [
    "#!/bin/python3\n",
    "\n",
    "import math\n",
    "import os\n",
    "import random\n",
    "import re\n",
    "import sys\n",
    "import string\n",
    "\n",
    "#\n",
    "# Complete the 'pangrams' function below.\n",
    "#\n",
    "# The function is expected to return a STRING.\n",
    "# The function accepts STRING s as parameter.\n",
    "#\n",
    "\n",
    "def pangrams(s):\n",
    "    # Write your code here\n",
    "    s_normal = s.lower().replace(\" \", \"\")\n",
    "    \n",
    "    # makes a list of alpha charcters\n",
    "    let_list = list(string.ascii_lowercase)\n",
    "    # makes a list of matching ints set to zero\n",
    "    let_count = [0] * 26\n",
    "    \n",
    "    for i in s_normal:\n",
    "        index = let_list.index(i)\n",
    "        let_count[index] +=1\n",
    "    if 0 in let_count:\n",
    "        return \"not pangram\"\n",
    "    else:\n",
    "        return \"pangram\"\n",
    "\n",
    "\n"
   ]
  },
  {
   "cell_type": "code",
   "execution_count": 30,
   "id": "31c6a724",
   "metadata": {},
   "outputs": [
    {
     "name": "stdout",
     "output_type": "stream",
     "text": [
      "not pangram\n"
     ]
    }
   ],
   "source": [
    "s = 'The quick brown fox jumpes over the lazy dog'\n",
    "result = pangrams(s)\n",
    "print(result)"
   ]
  },
  {
   "cell_type": "markdown",
   "id": "dfa89e96",
   "metadata": {},
   "source": [
    "# Q10"
   ]
  },
  {
   "cell_type": "markdown",
   "id": "49c58758",
   "metadata": {},
   "source": [
    "There are two n-element arrays of integers, A  and B . Permute them into some A~ and B~ and  such that the relation A~[i] + B~[i]>= k holds for all i where 0<= i <= n.\n",
    "There will be q queries consisting of A,B  and k. For each query, return YES if some permutation A~,B~  satisfying the relation exists. Otherwise, return NO."
   ]
  },
  {
   "cell_type": "code",
   "execution_count": 49,
   "id": "79a3154f",
   "metadata": {},
   "outputs": [],
   "source": [
    "#!/bin/python3\n",
    "\n",
    "import math\n",
    "import os\n",
    "import random\n",
    "import re\n",
    "import sys\n",
    "\n",
    "#\n",
    "# Complete the 'twoArrays' function below.\n",
    "#\n",
    "# The function is expected to return a STRING.\n",
    "# The function accepts following parameters:\n",
    "#  1. INTEGER k\n",
    "#  2. INTEGER_ARRAY A\n",
    "#  3. INTEGER_ARRAY B\n",
    "#\n",
    "\n",
    "def twoArrays(k, A, B):\n",
    "    # Write your code here\n",
    "    A == A.sort()\n",
    "    B == B.sort()\n",
    "    B == B.reverse()\n",
    "    \n",
    "    for i in range(len(A)):\n",
    "        if A[i] + B[i] >= k:\n",
    "            result = \"YES\"\n",
    "        else:\n",
    "            result = \"NO\"\n",
    "            break\n",
    "        \n",
    "    return result\n",
    "\n",
    "\n"
   ]
  },
  {
   "cell_type": "code",
   "execution_count": 51,
   "id": "a7a949de",
   "metadata": {},
   "outputs": [
    {
     "name": "stdout",
     "output_type": "stream",
     "text": [
      "NO\n"
     ]
    }
   ],
   "source": [
    "k = 2\n",
    "A = [0,1]\n",
    "B = [0,2]\n",
    "result = twoArrays(k, A, B)\n",
    "print(result)"
   ]
  },
  {
   "cell_type": "markdown",
   "id": "d0278d48",
   "metadata": {},
   "source": [
    "# Q11"
   ]
  },
  {
   "cell_type": "markdown",
   "id": "a45177f6",
   "metadata": {},
   "source": [
    "Two children, Lily and Ron, want to share a chocolate bar. Each of the squares has an integer on it.\n",
    "Lily decides to share a contiguous segment (next to each other) of the bar selected such that:\n",
    "The length of the segment matches Ron's birth month, and,\n",
    "The sum of the integers on the squares is equal to his birth day.\n",
    "Determine how many ways she can divide the chocolate."
   ]
  },
  {
   "cell_type": "code",
   "execution_count": 30,
   "id": "d97fa1af",
   "metadata": {},
   "outputs": [],
   "source": [
    "#!/bin/python3\n",
    "\n",
    "import math\n",
    "import os\n",
    "import random\n",
    "import re\n",
    "import sys\n",
    "from itertools import permutations\n",
    "\n",
    "#\n",
    "# Complete the 'birthday' function below.\n",
    "#\n",
    "# The function is expected to return an INTEGER.\n",
    "# The function accepts following parameters:\n",
    "#  1. INTEGER_ARRAY s\n",
    "#  2. INTEGER d\n",
    "#  3. INTEGER m\n",
    "#\n",
    "\n",
    "def birthday(s, d, m):\n",
    "    # Write your code here\n",
    "    lily_count = 0\n",
    "    perm = permutations(s, m)\n",
    "    unique_perms = list(set(perm))\n",
    "    print(perm)\n",
    "    for i in unique_perms:\n",
    "        if sum(i) == d:\n",
    "            print(i)\n",
    "            print(sum(i))\n",
    "            lily_count +=1\n",
    "        \n",
    "    return lily_count\n"
   ]
  },
  {
   "cell_type": "code",
   "execution_count": 31,
   "id": "ea56226b",
   "metadata": {},
   "outputs": [
    {
     "name": "stdout",
     "output_type": "stream",
     "text": [
      "<itertools.permutations object at 0x112d404a0>\n",
      "(3, 1)\n",
      "4\n",
      "(2, 2)\n",
      "4\n",
      "(1, 3)\n",
      "4\n",
      "3\n"
     ]
    }
   ],
   "source": [
    "s = [2,2,1,3,2]\n",
    "d = 4\n",
    "m = 2\n",
    "\n",
    "result = birthday(s, d, m)\n",
    "print(result)\n"
   ]
  },
  {
   "cell_type": "markdown",
   "id": "5c5d8d8b",
   "metadata": {},
   "source": [
    "# Q12"
   ]
  },
  {
   "cell_type": "code",
   "execution_count": 39,
   "id": "3e0d2844",
   "metadata": {},
   "outputs": [],
   "source": [
    "def strings_xor(s, t):\n",
    "    res = \"\"\n",
    "    for i in range(len(s)):\n",
    "        if s[i] == t[i]:\n",
    "            res += '0'\n",
    "\n",
    "        else:\n",
    "            res += '1'\n",
    "\n",
    "\n",
    "    return res\n",
    "\n"
   ]
  },
  {
   "cell_type": "code",
   "execution_count": 40,
   "id": "f411a63c",
   "metadata": {},
   "outputs": [
    {
     "name": "stdout",
     "output_type": "stream",
     "text": [
      "10101\n",
      "00101\n",
      "1\n",
      "10\n",
      "100\n",
      "1000\n",
      "10000\n",
      "10000\n"
     ]
    }
   ],
   "source": [
    "s = input()\n",
    "t = input()\n",
    "print(strings_xor(s, t))"
   ]
  },
  {
   "cell_type": "markdown",
   "id": "d34618f7",
   "metadata": {},
   "source": [
    "# FizzBang"
   ]
  },
  {
   "cell_type": "code",
   "execution_count": 41,
   "id": "529bfcb2",
   "metadata": {},
   "outputs": [],
   "source": [
    "# pre test trial\n",
    "def fizzBuzz(n):\n",
    "    for i in range(1, n + 1):\n",
    "        var_3 = \"Fizz\" if i % 3 == 0 else \"\"\n",
    "        var_5 = \"Buzz\" if i % 5 == 0 else \"\"\n",
    "        if var_3 or var_5:\n",
    "            print(var_3 + var_5)\n",
    "        else:\n",
    "            print(i)\n",
    "\n",
    "# Example usage\n",
    "\n"
   ]
  },
  {
   "cell_type": "code",
   "execution_count": 42,
   "id": "6a3dee41",
   "metadata": {},
   "outputs": [
    {
     "name": "stdout",
     "output_type": "stream",
     "text": [
      "1\n",
      "2\n",
      "Fizz\n",
      "4\n",
      "Buzz\n",
      "Fizz\n",
      "7\n",
      "8\n",
      "Fizz\n",
      "Buzz\n",
      "11\n",
      "Fizz\n",
      "13\n",
      "14\n",
      "FizzBuzz\n"
     ]
    }
   ],
   "source": [
    "fizzBuzz(15)"
   ]
  },
  {
   "cell_type": "markdown",
   "id": "66df51fb",
   "metadata": {},
   "source": [
    "# The Test Q1"
   ]
  },
  {
   "cell_type": "code",
   "execution_count": 20,
   "id": "3247fa5c",
   "metadata": {},
   "outputs": [],
   "source": [
    "# find the median\n",
    "def findMedian(arr):\n",
    "    # Write your code here\n",
    "    arr.sort()\n",
    "    med = len(arr) // 2\n",
    "    median = arr[med:med+1]\n",
    "    print(f\" med {med}\")\n",
    "    print(f\" arr: {arr}\")\n",
    "    print(f\"median: {median}\")\n",
    "    print(median[0])"
   ]
  },
  {
   "cell_type": "code",
   "execution_count": 21,
   "id": "93f94e1f",
   "metadata": {},
   "outputs": [
    {
     "name": "stdout",
     "output_type": "stream",
     "text": [
      " med 3\n",
      " arr: [0, 1, 2, 3, 4, 5, 6]\n",
      "median: [3]\n",
      "3\n"
     ]
    }
   ],
   "source": [
    "arr = [0,1,2,4,6,5,3]\n",
    "findMedian(arr)"
   ]
  },
  {
   "cell_type": "code",
   "execution_count": null,
   "id": "f9718045",
   "metadata": {},
   "outputs": [],
   "source": [
    "def max_sum_upper_left_quadrant(matrices):\n",
    "    max_sum = 0\n",
    "    \n",
    "    for matrix in matrices:\n",
    "        n = len(matrix) // 2\n",
    "        \n",
    "        # Calculate the sum of the elements in the upper-left quadrant\n",
    "        upper_left_sum = sum(matrix[i][j] for i in range(n) for j in range(n))\n",
    "        \n",
    "        # Calculate the sum of the elements in the upper-right quadrant\n",
    "        upper_right_sum = sum(matrix[i][j] for i in range(n) for j in range(n, 2 * n))\n",
    "        \n",
    "        # Swap rows or columns if necessary to maximize the sum\n",
    "        max_sum += max(upper_left_sum, upper_right_sum)\n",
    "        \n",
    "    return max_sum\n",
    "\n",
    "# Example usage:\n",
    "matrices = [\n",
    "    [[1, 2, 3, 4], [5, 6, 7, 8], [9, 10, 11, 12], [13, 14, 15, 16]],\n",
    "    [[4, 3, 2, 1], [8, 7, 6, 5], [12, 11, 10, 9], [16, 15, 14, 13]]\n",
    "]\n",
    "\n",
    "print(max_sum_upper_left_quadrant(matrices))  # Output: 80\n"
   ]
  },
  {
   "cell_type": "code",
   "execution_count": null,
   "id": "ee52b0c5",
   "metadata": {},
   "outputs": [],
   "source": [
    "def flippingMatrix(matrix):\n",
    "    n = len(matrix) // 2\n",
    "    max_sum = 0\n",
    "\n",
    "    for i in range(n):\n",
    "        for j in range(n):\n",
    "            max_sum += max(\n",
    "                matrix[i][j], \n",
    "                matrix[2 * n - 1 - i][j], \n",
    "                matrix[i][2 * n - 1 - j], \n",
    "                matrix[2 * n - 1 - i][2 * n - 1 - j]\n",
    "            )\n",
    "\n",
    "    return max_sum\n",
    "\n",
    "# Example usage:\n",
    "matrices = [\n",
    "    [[1, 2, 3, 4], [5, 6, 7, 8], [9, 10, 11, 12], [13, 14, 15, 16]],\n",
    "    [[4, 3, 2, 1], [8, 7, 6, 5], [12, 11, 10, 9], [16, 15, 14, 13]]\n",
    "]\n",
    "\n",
    "print(flippingMatrix(matrices[0]))  # Output: 73\n",
    "print(flippingMatrix(matrices[1]))  # Output: 73\n"
   ]
  }
 ],
 "metadata": {
  "kernelspec": {
   "display_name": "Python 3 (ipykernel)",
   "language": "python",
   "name": "python3"
  },
  "language_info": {
   "codemirror_mode": {
    "name": "ipython",
    "version": 3
   },
   "file_extension": ".py",
   "mimetype": "text/x-python",
   "name": "python",
   "nbconvert_exporter": "python",
   "pygments_lexer": "ipython3",
   "version": "3.11.5"
  }
 },
 "nbformat": 4,
 "nbformat_minor": 5
}
