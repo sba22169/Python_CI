{
 "cells": [
  {
   "cell_type": "code",
   "execution_count": 2,
   "id": "48baf56d",
   "metadata": {},
   "outputs": [],
   "source": [
    "#!/bin/python3\n",
    "\n",
    "import math\n",
    "import os\n",
    "import random\n",
    "import re\n",
    "import sys\n",
    "\n",
    "#\n",
    "# Complete the 'plusMinus' function below.\n",
    "#\n",
    "# The function accepts INTEGER_ARRAY arr as parameter.\n",
    "#\n",
    "\n",
    "def plusMinus(arr):\n",
    "    # Write your code here\n",
    "    pos, neg, z = 0, 0, 0\n",
    "    l = len(arr)\n",
    "    for n in arr:\n",
    "        if n < 0:\n",
    "            neg +=1\n",
    "        elif n > 0:\n",
    "            pos +=1\n",
    "        else:\n",
    "            z +=1\n",
    "    \n",
    "    return (round(pos/l, 6), round(neg/l, 6), round(z/l, 6))\n",
    "        \n",
    "\n",
    "\n"
   ]
  },
  {
   "cell_type": "code",
   "execution_count": 10,
   "id": "3caf43d7",
   "metadata": {},
   "outputs": [
    {
     "data": {
      "text/plain": [
       "(0.5, 0.333333, 0.166667)"
      ]
     },
     "execution_count": 10,
     "metadata": {},
     "output_type": "execute_result"
    }
   ],
   "source": [
    "arr = [-4, 3, -9, 0, 4, 1]\n",
    "# n = int(input().strip())\n",
    "\n",
    "# arr = list(map(int, input().rstrip().split()))\n",
    "\n",
    "plusMinus(arr)"
   ]
  },
  {
   "cell_type": "markdown",
   "id": "3da0e738",
   "metadata": {},
   "source": [
    "Question 2"
   ]
  },
  {
   "cell_type": "code",
   "execution_count": 32,
   "id": "c1288ea4",
   "metadata": {},
   "outputs": [],
   "source": [
    "#!/bin/python3\n",
    "\n",
    "import math\n",
    "import os\n",
    "import random\n",
    "import re\n",
    "import sys\n",
    "\n",
    "#\n",
    "# Complete the 'miniMaxSum' function below.\n",
    "#\n",
    "# The function accepts INTEGER_ARRAY arr as parameter.\n",
    "#\n",
    "\n",
    "def miniMaxSum(arr):\n",
    "    # Need to sort the array or min and max sums will be on the erong values.\n",
    "    arr.sort()\n",
    "    intMin = sum(arr[0:4])\n",
    "\n",
    "    intMax = sum(arr[-4:])\n",
    "\n",
    "    print(f\" {intMin}  {intMax}\")\n",
    "\n"
   ]
  },
  {
   "cell_type": "code",
   "execution_count": 33,
   "id": "d0ae8dff",
   "metadata": {},
   "outputs": [
    {
     "name": "stdout",
     "output_type": "stream",
     "text": [
      "1 667 34 9 2387\n",
      " 711  3097\n"
     ]
    }
   ],
   "source": [
    "if __name__ == '__main__':\n",
    "\n",
    "    arr = list(map(int, input().rstrip().split()))\n",
    "\n",
    "    miniMaxSum(arr)\n",
    "    "
   ]
  },
  {
   "cell_type": "markdown",
   "id": "62516942",
   "metadata": {},
   "source": [
    "Question 3 \n",
    "Given a time in -hour AM/PM format, convert it to military (24-hour) time.\n",
    "Note: - 12:00:00AM on a 12-hour clock is 00:00:00 on a 24-hour clock.\n",
    "- 12:00:00PM on a 12-hour clock is 12:00:00 on a 24-hour clock.\n",
    "\n",
    "Example\n",
    "\n",
    "Return '12:01:00'.\n",
    "\n",
    "Return '00:01:00'.\n",
    "Function Description\n",
    "Complete the timeConversion function in the editor below. It should return a new string representing the input time in 24 hour format.\n",
    "timeConversion has the following parameter(s):\n",
    "string s: a time in  hour format\n",
    "Returns\n",
    "string: the time in  hour format\n",
    "Input Format\n",
    "A single string  that represents a time in -hour clock format (i.e.:  or ).\n",
    "Constraints\n",
    "All input times are valid\n",
    "chart of AM PM v Military time\n",
    "\n",
    "| Military Time | AM/PM Time |\n",
    "|---------------|------------|\n",
    "| 00:00         | 12:00 AM   |\n",
    "| 01:00         | 01:00 AM   |\n",
    "| 02:00         | 02:00 AM   |\n",
    "| 03:00         | 03:00 AM   |\n",
    "| 04:00         | 04:00 AM   |\n",
    "| 05:00         | 05:00 AM   |\n",
    "| 06:00         | 06:00 AM   |\n",
    "| 07:00         | 07:00 AM   |\n",
    "| 08:00         | 08:00 AM   |\n",
    "| 09:00         | 09:00 AM   |\n",
    "| 10:00         | 10:00 AM   |\n",
    "| 11:00         | 11:00 AM   |\n",
    "| 12:00         | 12:00 PM   |\n",
    "| 13:00         | 01:00 PM   |\n",
    "| 14:00         | 02:00 PM   |\n",
    "| 15:00         | 03:00 PM   |\n",
    "| 16:00         | 04:00 PM   |\n",
    "| 17:00         | 05:00 PM   |\n",
    "| 18:00         | 06:00 PM   |\n",
    "| 19:00         | 07:00 PM   |\n",
    "| 20:00         | 08:00 PM   |\n",
    "| 21:00         | 09:00 PM   |\n",
    "| 22:00         | 10:00 PM   |\n",
    "| 23:00         | 11:00 PM   |\n"
   ]
  },
  {
   "cell_type": "code",
   "execution_count": 43,
   "id": "1596fcc5",
   "metadata": {},
   "outputs": [],
   "source": [
    "#!/bin/python3\n",
    "\n",
    "import math\n",
    "import os\n",
    "import random\n",
    "import re\n",
    "import sys\n",
    "\n",
    "#\n",
    "# Complete the 'timeConversion' function below.\n",
    "#\n",
    "# The function is expected to return a STRING.\n",
    "# The function accepts STRING s as parameter.\n",
    "#\n",
    "\n",
    "def timeConversion(s):\n",
    "    # Write your code here\n",
    "    ho = s[0:2] # stripping out the hour\n",
    "    am_pm = s[-2:] # stripping out AM / PM\n",
    "    \n",
    "    if am_pm == \"AM\":\n",
    "        if int(ho) == 12:\n",
    "            hour = \"00\"\n",
    "        else:\n",
    "            hour = ho\n",
    "    if am_pm == \"PM\":\n",
    "        if int(ho) == 12:\n",
    "            hour = \"12\"\n",
    "        else:\n",
    "            hour = int(ho) + 12\n",
    "    \n",
    "    print(f\"{hour}{s[2:8]}\")\n",
    "            \n",
    "# actual solution wanted a return instead of a print \n",
    "\n"
   ]
  },
  {
   "cell_type": "code",
   "execution_count": 44,
   "id": "b2c8b3dc",
   "metadata": {},
   "outputs": [
    {
     "name": "stdout",
     "output_type": "stream",
     "text": [
      "07:05:45PM\n",
      "19:05:45\n"
     ]
    }
   ],
   "source": [
    "\n",
    "s = input()\n",
    "\n",
    "timeConversion(s)\n",
    "\n"
   ]
  },
  {
   "cell_type": "markdown",
   "id": "5da404e6",
   "metadata": {},
   "source": [
    "Question 4\n",
    "There is a collection of input strings and a collection of query strings. For each query string, determine how many times it occurs in the list of input strings. Return an array of the results.\n",
    "Example\n",
    "\n",
    "\n",
    "There are  instances of ',  of '' and  of ''. For each query, add an element to the return array, .\n",
    "Function Description\n",
    "Complete the function matchingStrings in the editor below. The function must return an array of integers representing the frequency of occurrence of each query string in strings.\n",
    "matchingStrings has the following parameters:\n",
    "string strings[n] - an array of strings to search\n",
    "string queries[q] - an array of query strings\n",
    "Returns\n",
    "int[q]: an array of results for each query\n",
    "Input Format\n",
    "The first line contains and integer , the size of .\n",
    "Each of the next  lines contains a string .\n",
    "The next line contains , the size of .\n",
    "Each of the next  lines contains a string .\n",
    "Constraints\n"
   ]
  },
  {
   "cell_type": "code",
   "execution_count": 4,
   "id": "ff4cfa8f",
   "metadata": {},
   "outputs": [],
   "source": [
    "#!/bin/python3\n",
    "\n",
    "import math\n",
    "import os\n",
    "import random\n",
    "import re\n",
    "import sys\n",
    "\n",
    "#\n",
    "# Complete the 'matchingStrings' function below.\n",
    "#\n",
    "# The function is expected to return an INTEGER_ARRAY.\n",
    "# The function accepts following parameters:\n",
    "#  1. STRING_ARRAY strings\n",
    "#  2. STRING_ARRAY queries\n",
    "#\n",
    "\n",
    "def matchingStrings(strings, queries):\n",
    "    # Write your code here\n",
    "    count = []\n",
    "    c = 0\n",
    "    for q in queries:\n",
    "        for s in strings:\n",
    "            if s == q:\n",
    "                c +=1\n",
    "       \n",
    "        count.append(c)\n",
    "        c = 0\n",
    "    return count\n",
    "        \n",
    "        \n",
    "\n",
    "\n"
   ]
  },
  {
   "cell_type": "code",
   "execution_count": 7,
   "id": "6ec0a2c4",
   "metadata": {},
   "outputs": [
    {
     "name": "stdout",
     "output_type": "stream",
     "text": [
      "[2, 1, 0]\n"
     ]
    }
   ],
   "source": [
    "strings = ['ab','ab','abc']\n",
    "queries = ['ab','abc','bc']\n",
    "print(matchingStrings(strings, queries))\n"
   ]
  },
  {
   "cell_type": "markdown",
   "id": "b9c5ccc0",
   "metadata": {},
   "source": [
    "Question 5\n",
    "Given an array of integers, where all elements but one occur twice, find the unique element.\n",
    "Example\n",
    "\n",
    "The unique element is .\n",
    "Function Description\n",
    "Complete the lonelyinteger function in the editor below.\n",
    "lonelyinteger has the following parameter(s):\n",
    "int a[n]: an array of integers\n",
    "Returns\n",
    "int: the element that occurs only once\n",
    "Input Format\n",
    "The first line contains a single integer, , the number of integers in the array.\n",
    "The second line contains  space-separated integers that describe the values in .\n",
    "Constraints\n",
    "\n",
    "It is guaranteed that  is an odd number and that there is one unique element.\n",
    ", where .\n"
   ]
  },
  {
   "cell_type": "code",
   "execution_count": 26,
   "id": "b775a550",
   "metadata": {},
   "outputs": [],
   "source": [
    "#!/bin/python3\n",
    "\n",
    "import math\n",
    "import os\n",
    "import random\n",
    "import re\n",
    "import sys\n",
    "\n",
    "#\n",
    "# Complete the 'lonelyinteger' function below.\n",
    "#\n",
    "# The function is expected to return an INTEGER.\n",
    "# The function accepts INTEGER_ARRAY a as parameter.\n",
    "#\n",
    "\n",
    "def lonelyinteger(a):\n",
    "    # Write your code here\n",
    "    count = {}\n",
    "    for i in a:\n",
    "        if i in count:\n",
    "            count[i] +=1\n",
    "        else:\n",
    "            count[i] = 1\n",
    "    li = [key for key, value in count.items() if value == 1]\n",
    "    print(li) \n",
    "    for key, value in count.items():\n",
    "        if value == 1:\n",
    "            return key\n",
    "    #return li\n",
    "\n",
    "        \n",
    "\n",
    "\n"
   ]
  },
  {
   "cell_type": "code",
   "execution_count": 27,
   "id": "da45d315",
   "metadata": {},
   "outputs": [
    {
     "name": "stdout",
     "output_type": "stream",
     "text": [
      "[8]\n",
      "8\n"
     ]
    }
   ],
   "source": [
    "a = [1,2,3,4,3,2,1,4,8]\n",
    "\n",
    "print(lonelyinteger(a))\n",
    "\n"
   ]
  },
  {
   "cell_type": "markdown",
   "id": "7f6b15e8",
   "metadata": {},
   "source": [
    "Q 6 flipping bits\n"
   ]
  },
  {
   "cell_type": "code",
   "execution_count": 5,
   "id": "91fa176c",
   "metadata": {},
   "outputs": [],
   "source": [
    "#!/bin/python3\n",
    "\n",
    "import math\n",
    "import os\n",
    "import random\n",
    "import re\n",
    "import sys\n",
    "\n",
    "#\n",
    "# Complete the 'flippingBits' function below.\n",
    "#\n",
    "# The function is expected to return a LONG_INTEGER.\n",
    "# The function accepts LONG_INTEGER n as parameter.\n",
    "#\n",
    "\n",
    "def flippingBits(num):\n",
    "\n",
    "    bin_str = bin(num)[2:] # convert a decimal to binary , but must strip the \n",
    "    #bin_32_bit = str(bin_str & 0xFFFFFFFF)\n",
    "    binary_32bit = bin_str.zfill(32)\n",
    "    print(f\" bin_str = {bin_str}\")\n",
    "    print(f\" binary_32bit = {binary_32bit}\")\n",
    "    \n",
    "    flipped_binary = ''.join('1' if bit == '0' else '0' for bit in binary_32bit) # flips the bits\n",
    "    print(flipped_binary)\n",
    "\n",
    "    return int(flipped_binary,2) # converts the binary to decimal as requested.\n",
    "\n",
    "\n"
   ]
  },
  {
   "cell_type": "code",
   "execution_count": 7,
   "id": "201ad535",
   "metadata": {},
   "outputs": [
    {
     "name": "stdout",
     "output_type": "stream",
     "text": [
      " bin_str = 101010\n",
      " binary_32bit = 00000000000000000000000000101010\n",
      "11111111111111111111111111010101\n",
      "4294967253\n"
     ]
    }
   ],
   "source": [
    "n=42\n",
    "result = flippingBits(n)\n",
    "print (result)\n"
   ]
  },
  {
   "cell_type": "code",
   "execution_count": 8,
   "id": "ec2c4ee2",
   "metadata": {
    "scrolled": true
   },
   "outputs": [
    {
     "name": "stdout",
     "output_type": "stream",
     "text": [
      "the decimal 42 converts to 0b101010\n",
      "101010\n",
      "00000000000000000000000000101010\n",
      " a_set = {'0', '1'}\n"
     ]
    }
   ],
   "source": [
    "# playground for Question\n",
    "num=42\n",
    "bin_str_1 = bin(num)\n",
    "print(f\"the decimal {num} converts to {bin_str_1}\" )\n",
    "bin_str = bin(num)[2:] # need to strip out the leading 0b used to indicate the values are binary\n",
    "#bin_32_bit = str(bin_str & 0xFFFFFFFF)\n",
    "binary_32bit = bin_str.zfill(32) # the Q is looking for a 32bit binary , zfill pads out the value to 32 places with 0's\n",
    "print(bin_str)\n",
    "print(binary_32bit)\n",
    "a_set = set(binary_32bit)\n",
    "print(f\" a_set = {a_set}\")"
   ]
  },
  {
   "cell_type": "markdown",
   "id": "47c55f7a",
   "metadata": {},
   "source": [
    "Q7 \n",
    "Given a square matrix, calculate the absolute difference between the sums of its diagonals.\n",
    "For example, the square matrix  is shown below:\n",
    "1 2 3\n",
    "4 5 6\n",
    "9 8 9  \n",
    "The left-to-right diagonal = . The right to left diagonal = . Their absolute difference is .\n",
    "Function description\n",
    "Complete the  function in the editor below.\n",
    "diagonalDifference takes the following parameter:\n",
    "int arr[n][m]: an array of integers\n",
    "Return\n",
    "int: the absolute diagonal difference\n",
    "Input Format\n",
    "The first line contains a single integer, , the number of rows and columns in the square matrix .\n",
    "Each of the next  lines describes a row, , and consists of  space-separated integers .\n",
    "Constraints\n"
   ]
  },
  {
   "cell_type": "code",
   "execution_count": 37,
   "id": "eaf0f476",
   "metadata": {},
   "outputs": [],
   "source": [
    "#!/bin/python3\n",
    "\n",
    "import math\n",
    "import os\n",
    "import random\n",
    "import re\n",
    "import sys\n",
    "\n",
    "#\n",
    "# Complete the 'diagonalDifference' function below.\n",
    "#\n",
    "# The function is expected to return an INTEGER.\n",
    "# The function accepts 2D_INTEGER_ARRAY arr as parameter.\n",
    "#\n",
    "\n",
    "def diagonalDifference(arr):\n",
    "    # Write your code here\n",
    "    # read the array matrix size\n",
    "    matrix = arr.pop(0)\n",
    "    print(matrix)\n",
    "    \n",
    "    count_1,count_2 = 0,matrix-1\n",
    "    inc_1,inc_2 = matrix+1, matrix-1\n",
    "    diag_1=[]\n",
    "    diag_1.append(arr[0])\n",
    "    diag_2=[]\n",
    "    diag_2.append(arr[count_2])\n",
    "    for i in range(matrix-1):\n",
    "        print(f\"count_1 is {count_1}\")\n",
    "        print(f\"count_2 is {count_2}\")\n",
    "        count_1 += inc_1\n",
    "        count_2 += inc_2\n",
    "        \n",
    "        \n",
    "        \n",
    "        diag_1.append(arr[(count_1)])\n",
    "        diag_2.append(arr[(count_2)])\n",
    "\n",
    "        print(f\"count_1 is {count_1}\")\n",
    "\n",
    "        print(f\"count_2 is {count_2}\")\n",
    "        tot_1 = sum(diag_1) - sum(diag_2)\n",
    "    \n",
    "    print (abs(sum(diag_1) - sum(diag_2)))\n",
    "    return (abs(sum(diag_1) - sum(diag_2)))\n",
    "\n"
   ]
  },
  {
   "cell_type": "code",
   "execution_count": 45,
   "id": "b505d960",
   "metadata": {},
   "outputs": [],
   "source": [
    "\n",
    "\n",
    "import math\n",
    "import os\n",
    "import random\n",
    "import re\n",
    "import sys\n",
    "\n",
    "#\n",
    "# Complete the 'diagonalDifference' function below.\n",
    "#\n",
    "# The function is expected to return an INTEGER.\n",
    "# The function accepts 2D_INTEGER_ARRAY arr as parameter.\n",
    "#\n",
    "\n",
    "def diagonalDifference(arr):\n",
    "    # Write your code here\n",
    "    matrix_l = arr.pop(0)\n",
    "    print(matrix_l)\n",
    "\n",
    "    matrix = matrix_l[0]\n",
    "    print(matrix)\n",
    "\n",
    "    # make a flat list\n",
    "    flatList = []\n",
    "    # Iterate with outer list\n",
    "    for element in arr:\n",
    "        if type(element) is list:\n",
    "            # Check if type is list than iterate through the sublist\n",
    "            for item in element:\n",
    "                flatList.append(item)\n",
    "        else:\n",
    "            flatList.append(element)\n",
    "            \n",
    "    count_1,count_2 = 0,matrix-1\n",
    "    inc_1,inc_2 = matrix+1, matrix-1\n",
    "    diag_1=[]\n",
    "    diag_1.append(flatList[0])\n",
    "    diag_2=[]\n",
    "    diag_2.append(flatList[count_2])\n",
    "    for i in range(matrix-1):\n",
    "        print(f\"count_1 is {count_1}\")\n",
    "        print(f\"count_2 is {count_2}\")\n",
    "        count_1 += inc_1\n",
    "        count_2 += inc_2\n",
    "        \n",
    "        \n",
    "        \n",
    "        diag_1.append(flatList[(count_1)])\n",
    "        diag_2.append(flatList[(count_2)])\n",
    "\n",
    "        print(f\"count_1 is {count_1}\")\n",
    "\n",
    "        print(f\"count_2 is {count_2}\")\n",
    "        tot_1 = sum(diag_1) - sum(diag_2)\n",
    "    \n",
    "    #print (abs(sum(diag_1) - sum(diag_2)))\n",
    "    return (abs(sum(diag_1) - sum(diag_2)))\n",
    "   "
   ]
  },
  {
   "cell_type": "code",
   "execution_count": 47,
   "id": "eb3a774c",
   "metadata": {},
   "outputs": [],
   "source": [
    "# ChatGPT answer\n",
    "def diagonalDifference(arr):\n",
    "    n = len(arr)  # Assuming arr is already in the format of a 2D array\n",
    "    primary_diagonal_sum = sum(arr[i][i] for i in range(n))\n",
    "    secondary_diagonal_sum = sum(arr[i][n-i-1] for i in range(n))\n",
    "    return abs(primary_diagonal_sum - secondary_diagonal_sum)"
   ]
  },
  {
   "cell_type": "code",
   "execution_count": 48,
   "id": "96035d10",
   "metadata": {},
   "outputs": [
    {
     "ename": "IndexError",
     "evalue": "list index out of range",
     "output_type": "error",
     "traceback": [
      "\u001b[0;31m---------------------------------------------------------------------------\u001b[0m",
      "\u001b[0;31mIndexError\u001b[0m                                Traceback (most recent call last)",
      "Cell \u001b[0;32mIn[48], line 2\u001b[0m\n\u001b[1;32m      1\u001b[0m arr \u001b[38;5;241m=\u001b[39m [[\u001b[38;5;241m3\u001b[39m],[\u001b[38;5;241m1\u001b[39m,\u001b[38;5;241m2\u001b[39m,\u001b[38;5;241m3\u001b[39m],[\u001b[38;5;241m4\u001b[39m,\u001b[38;5;241m5\u001b[39m,\u001b[38;5;241m6\u001b[39m],[\u001b[38;5;241m9\u001b[39m,\u001b[38;5;241m8\u001b[39m,\u001b[38;5;241m9\u001b[39m]]\n\u001b[0;32m----> 2\u001b[0m result \u001b[38;5;241m=\u001b[39m diagonalDifference(arr)\n\u001b[1;32m      3\u001b[0m \u001b[38;5;28mprint\u001b[39m(result)\n",
      "Cell \u001b[0;32mIn[47], line 4\u001b[0m, in \u001b[0;36mdiagonalDifference\u001b[0;34m(arr)\u001b[0m\n\u001b[1;32m      2\u001b[0m \u001b[38;5;28;01mdef\u001b[39;00m \u001b[38;5;21mdiagonalDifference\u001b[39m(arr):\n\u001b[1;32m      3\u001b[0m     n \u001b[38;5;241m=\u001b[39m \u001b[38;5;28mlen\u001b[39m(arr)  \u001b[38;5;66;03m# Assuming arr is already in the format of a 2D array\u001b[39;00m\n\u001b[0;32m----> 4\u001b[0m     primary_diagonal_sum \u001b[38;5;241m=\u001b[39m \u001b[38;5;28msum\u001b[39m(arr[i][i] \u001b[38;5;28;01mfor\u001b[39;00m i \u001b[38;5;129;01min\u001b[39;00m \u001b[38;5;28mrange\u001b[39m(n))\n\u001b[1;32m      5\u001b[0m     secondary_diagonal_sum \u001b[38;5;241m=\u001b[39m \u001b[38;5;28msum\u001b[39m(arr[i][n\u001b[38;5;241m-\u001b[39mi\u001b[38;5;241m-\u001b[39m\u001b[38;5;241m1\u001b[39m] \u001b[38;5;28;01mfor\u001b[39;00m i \u001b[38;5;129;01min\u001b[39;00m \u001b[38;5;28mrange\u001b[39m(n))\n\u001b[1;32m      6\u001b[0m     \u001b[38;5;28;01mreturn\u001b[39;00m \u001b[38;5;28mabs\u001b[39m(primary_diagonal_sum \u001b[38;5;241m-\u001b[39m secondary_diagonal_sum)\n",
      "Cell \u001b[0;32mIn[47], line 4\u001b[0m, in \u001b[0;36m<genexpr>\u001b[0;34m(.0)\u001b[0m\n\u001b[1;32m      2\u001b[0m \u001b[38;5;28;01mdef\u001b[39;00m \u001b[38;5;21mdiagonalDifference\u001b[39m(arr):\n\u001b[1;32m      3\u001b[0m     n \u001b[38;5;241m=\u001b[39m \u001b[38;5;28mlen\u001b[39m(arr)  \u001b[38;5;66;03m# Assuming arr is already in the format of a 2D array\u001b[39;00m\n\u001b[0;32m----> 4\u001b[0m     primary_diagonal_sum \u001b[38;5;241m=\u001b[39m \u001b[38;5;28msum\u001b[39m(arr[i][i] \u001b[38;5;28;01mfor\u001b[39;00m i \u001b[38;5;129;01min\u001b[39;00m \u001b[38;5;28mrange\u001b[39m(n))\n\u001b[1;32m      5\u001b[0m     secondary_diagonal_sum \u001b[38;5;241m=\u001b[39m \u001b[38;5;28msum\u001b[39m(arr[i][n\u001b[38;5;241m-\u001b[39mi\u001b[38;5;241m-\u001b[39m\u001b[38;5;241m1\u001b[39m] \u001b[38;5;28;01mfor\u001b[39;00m i \u001b[38;5;129;01min\u001b[39;00m \u001b[38;5;28mrange\u001b[39m(n))\n\u001b[1;32m      6\u001b[0m     \u001b[38;5;28;01mreturn\u001b[39;00m \u001b[38;5;28mabs\u001b[39m(primary_diagonal_sum \u001b[38;5;241m-\u001b[39m secondary_diagonal_sum)\n",
      "\u001b[0;31mIndexError\u001b[0m: list index out of range"
     ]
    }
   ],
   "source": [
    "arr = [[3],[1,2,3],[4,5,6],[9,8,9]]\n",
    "result = diagonalDifference(arr)\n",
    "print(result)\n",
    "\n"
   ]
  },
  {
   "cell_type": "code",
   "execution_count": null,
   "id": "e13e62a6",
   "metadata": {},
   "outputs": [],
   "source": []
  }
 ],
 "metadata": {
  "kernelspec": {
   "display_name": "Python 3 (ipykernel)",
   "language": "python",
   "name": "python3"
  },
  "language_info": {
   "codemirror_mode": {
    "name": "ipython",
    "version": 3
   },
   "file_extension": ".py",
   "mimetype": "text/x-python",
   "name": "python",
   "nbconvert_exporter": "python",
   "pygments_lexer": "ipython3",
   "version": "3.11.5"
  }
 },
 "nbformat": 4,
 "nbformat_minor": 5
}
